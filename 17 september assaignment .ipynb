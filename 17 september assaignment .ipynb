{
 "cells": [
  {
   "cell_type": "markdown",
   "id": "5406c584-b122-4d68-a9ff-bf037b21b084",
   "metadata": {},
   "source": [
    "FOR  LOOP \n"
   ]
  },
  {
   "cell_type": "code",
   "execution_count": 2,
   "id": "bd10867a-b55e-452c-8291-f35101f10bc1",
   "metadata": {},
   "outputs": [
    {
     "name": "stdout",
     "output_type": "stream",
     "text": [
      "1\n",
      "2\n",
      "3\n",
      "4\n",
      "5\n",
      "6\n",
      "7\n",
      "8\n",
      "9\n",
      "10\n"
     ]
    }
   ],
   "source": [
    "#1 \n",
    "for i in range(1,11):\n",
    "    print(i)"
   ]
  },
  {
   "cell_type": "code",
   "execution_count": 3,
   "id": "5a7ac265-011b-415c-8654-f36cdcb4a4a9",
   "metadata": {},
   "outputs": [
    {
     "data": {
      "text/plain": [
       "'For loop is used to iterate over a sequence of items. While loop is used to repeatedly execute a \\nblock of statements while a condition is true'"
      ]
     },
     "execution_count": 3,
     "metadata": {},
     "output_type": "execute_result"
    }
   ],
   "source": [
    "#2 \n",
    "\"\"\"For loop is used to iterate over a sequence of items. While loop is used to repeatedly execute a \n",
    "block of statements while a condition is true\"\"\""
   ]
  },
  {
   "cell_type": "code",
   "execution_count": 5,
   "id": "96d64bfb-3d98-4ef9-907f-d522995e87e3",
   "metadata": {},
   "outputs": [
    {
     "name": "stdout",
     "output_type": "stream",
     "text": [
      "55\n"
     ]
    }
   ],
   "source": [
    "#3\n",
    "count = 0 \n",
    "for i in range(1,11):\n",
    "    count = count + i\n",
    "print(count)"
   ]
  },
  {
   "cell_type": "code",
   "execution_count": 6,
   "id": "91ee7d8d-8b0a-4473-8224-3781102b7fbe",
   "metadata": {},
   "outputs": [
    {
     "data": {
      "text/plain": [
       "' list is iterable so we can go through each element of the list and when we use the for loop it passes each element \\nof the list through the loop and perform the given function so by this way we use the for loop in the list'"
      ]
     },
     "execution_count": 6,
     "metadata": {},
     "output_type": "execute_result"
    }
   ],
   "source": [
    "#4\n",
    "\"\"\" list is iterable so we can go through each element of the list and when we use the for loop it passes each element \n",
    "of the list through the loop and perform the given function so by this way we use the for loop in the list\"\"\""
   ]
  },
  {
   "cell_type": "code",
   "execution_count": 9,
   "id": "05a15d8e-2030-4317-a275-7daffde272be",
   "metadata": {},
   "outputs": [
    {
     "name": "stdout",
     "output_type": "stream",
     "text": [
      "3628800\n"
     ]
    }
   ],
   "source": [
    "#5 \n",
    "product = 1\n",
    "for i in range(1,11):\n",
    "    product = product*i\n",
    "print(product)"
   ]
  },
  {
   "cell_type": "code",
   "execution_count": 11,
   "id": "feef2844-62f0-4668-a7a8-ee66fa96f691",
   "metadata": {},
   "outputs": [
    {
     "name": "stdout",
     "output_type": "stream",
     "text": [
      "[2, 4, 6, 8, 10, 12, 14, 16, 18, 20]\n"
     ]
    }
   ],
   "source": [
    "# 6 \n",
    "l = []\n",
    "for i in range(1,21):\n",
    "    if i %2 == 0:\n",
    "        l.append(i)\n",
    "print(l)\n"
   ]
  },
  {
   "cell_type": "code",
   "execution_count": 15,
   "id": "943c54a6-3b2d-4028-ae90-bbdb25d22c43",
   "metadata": {},
   "outputs": [
    {
     "name": "stdin",
     "output_type": "stream",
     "text": [
      "enter the number you want the factorial 10\n"
     ]
    },
    {
     "name": "stdout",
     "output_type": "stream",
     "text": [
      "3628800\n"
     ]
    }
   ],
   "source": [
    "#7\n",
    "n = int(input(\"enter the number you want the factorial\"))\n",
    "fact = 1\n",
    "for i in range(1,n+1):\n",
    "    fact = i*fact\n",
    "print(fact)"
   ]
  },
  {
   "cell_type": "code",
   "execution_count": 18,
   "id": "1782dbb3-7b1d-4886-b6cb-ab955f3b6446",
   "metadata": {},
   "outputs": [
    {
     "name": "stdout",
     "output_type": "stream",
     "text": [
      "['h', 'e', 'l', 'l', 'o', ' ', 'w', 'o', 'r', 'l', 'd']\n"
     ]
    }
   ],
   "source": [
    "#8\n",
    "\"\"\" you can iterate through the string by using for loop and i also explained it by following example\"\"\"\n",
    "\n",
    "a = \"hello world\"\n",
    "l = []\n",
    "for char in a:\n",
    "    l.append(char)\n",
    "print(l)\n",
    "    "
   ]
  },
  {
   "cell_type": "code",
   "execution_count": 19,
   "id": "fae503c3-88c4-444f-a90c-6ca3982d9841",
   "metadata": {},
   "outputs": [
    {
     "name": "stdout",
     "output_type": "stream",
     "text": [
      "24556452\n"
     ]
    }
   ],
   "source": [
    "#9\n",
    "l = [2,5,36,3,652,463,67344,24556452,930]\n",
    "a = 0 \n",
    "for i in l:\n",
    "    if i > a:\n",
    "        a = i \n",
    "        \n",
    "print(a)"
   ]
  },
  {
   "cell_type": "code",
   "execution_count": 6,
   "id": "8376b401-00d3-457f-a1d4-b468b992f329",
   "metadata": {},
   "outputs": [
    {
     "name": "stdin",
     "output_type": "stream",
     "text": [
      "enter the limit 10\n"
     ]
    },
    {
     "name": "stdout",
     "output_type": "stream",
     "text": [
      "0 1 1 2 3 5 8 13 21 34 "
     ]
    }
   ],
   "source": [
    "#10 \n",
    "n = int(input(\"enter the limit\"))\n",
    "a = 0 \n",
    "b = 1\n",
    "s = 0 \n",
    "for i in range(n):\n",
    "    print(s,end =\" \") \n",
    "    s = a+b\n",
    "    b =a \n",
    "    a = s"
   ]
  },
  {
   "cell_type": "code",
   "execution_count": 11,
   "id": "f3307533-edeb-4584-984b-516a3e8a6784",
   "metadata": {},
   "outputs": [
    {
     "name": "stdin",
     "output_type": "stream",
     "text": [
      "enter the string 5\n"
     ]
    },
    {
     "name": "stdout",
     "output_type": "stream",
     "text": [
      "0\n"
     ]
    }
   ],
   "source": [
    "#11\n",
    "s = input(\"enter the string\")\n",
    "count = 0 \n",
    "for char in s:\n",
    "    if char in (\"aeiou\"):\n",
    "        count = count+1\n",
    "print(count)"
   ]
  },
  {
   "cell_type": "code",
   "execution_count": 13,
   "id": "cfe07d78-3139-462b-ac58-8b31b6906953",
   "metadata": {},
   "outputs": [
    {
     "name": "stdin",
     "output_type": "stream",
     "text": [
      "enter the number 5\n"
     ]
    },
    {
     "name": "stdout",
     "output_type": "stream",
     "text": [
      "5 * 1 = 5\n",
      "5 * 2 = 10\n",
      "5 * 3 = 15\n",
      "5 * 4 = 20\n",
      "5 * 5 = 25\n",
      "5 * 6 = 30\n",
      "5 * 7 = 35\n",
      "5 * 8 = 40\n",
      "5 * 9 = 45\n",
      "5 * 10 = 50\n"
     ]
    }
   ],
   "source": [
    "#12 \n",
    "n = int(input(\"enter the number\"))\n",
    "for i in range(1,11):\n",
    "    print(f\"{n} * {i} = {n*i}\")\n",
    "    \n",
    "    \n",
    "    \n",
    "       "
   ]
  },
  {
   "cell_type": "code",
   "execution_count": 21,
   "id": "8c3b9aad-a8d6-4cf0-99b7-815c6abc553f",
   "metadata": {},
   "outputs": [
    {
     "name": "stdout",
     "output_type": "stream",
     "text": [
      "[9, 'sfsd', 3, 5, 3, 5, 3, 4534, 384.34, 'sf']\n"
     ]
    }
   ],
   "source": [
    "#\n",
    "l = ['sf',384.34,4534,3,5,3,5,3,'sfsd',9]\n",
    "l2 = []\n",
    "for char in range(len(l)-1,-1,-1):\n",
    "    l2.append(l[char])\n",
    "print(l2)\n",
    "    \n",
    "\n",
    "\n",
    "\n"
   ]
  },
  {
   "cell_type": "code",
   "execution_count": 30,
   "id": "bf0404c1-20d1-4882-b75c-cb405670d31c",
   "metadata": {},
   "outputs": [
    {
     "name": "stdout",
     "output_type": "stream",
     "text": [
      "[1, 2, 3, 4, 5]\n"
     ]
    }
   ],
   "source": [
    "#14\n",
    "l =[1,2,3,4,5]\n",
    "l2 = [5,7,6,78,9,4,2,1,3]\n",
    "l3 = []\n",
    "for i in l:\n",
    "    for j in l2:\n",
    "        if j == i:\n",
    "            l3.append(j)\n",
    "print(l3)\n"
   ]
  },
  {
   "cell_type": "code",
   "execution_count": 1,
   "id": "36e7e8a1-31e4-4610-a115-fce3efd0bb2f",
   "metadata": {},
   "outputs": [
    {
     "data": {
      "text/plain": [
       "'We use a for loop to iterate through the dictionary.\\nmy_dict.items() returns an iterable of key-value pairs, where each pair is a tuple containing a key and its corresponding value.\\nIn the loop header, we use two variables (key and value) to unpack each key-value pair as we iterate through the dictionary.\\nInside the loop, you can access both the key and value and perform any desired operations with them'"
      ]
     },
     "execution_count": 1,
     "metadata": {},
     "output_type": "execute_result"
    }
   ],
   "source": [
    "#15\n",
    "\"\"\"We use a for loop to iterate through the dictionary.\n",
    "my_dict.items() returns an iterable of key-value pairs, where each pair is a tuple containing a key and its corresponding value.\n",
    "In the loop header, we use two variables (key and value) to unpack each key-value pair as we iterate through the dictionary.\n",
    "Inside the loop, you can access both the key and value and perform any desired operations with them\"\"\""
   ]
  },
  {
   "cell_type": "code",
   "execution_count": 5,
   "id": "9956e7ac-25d1-415e-9468-571927dd5714",
   "metadata": {},
   "outputs": [
    {
     "name": "stdin",
     "output_type": "stream",
     "text": [
      " 40\n",
      " 90\n"
     ]
    },
    {
     "name": "stdout",
     "output_type": "stream",
     "text": [
      "10\n"
     ]
    }
   ],
   "source": [
    "#16\n",
    "def gcd(num1,num2):\n",
    "    if num1<num2:\n",
    "        num1,num2 = num2,num1\n",
    "    for i in range(num2,0,-1):\n",
    "        if num1%i==0 and num2%i == 0:\n",
    "            return i\n",
    "\n",
    "num1 = int(input())\n",
    "num2 = int(input())\n",
    "result = gcd(num1,num2)\n",
    "print(result)"
   ]
  },
  {
   "cell_type": "code",
   "execution_count": 2,
   "id": "51ee74a4-add9-4893-9fb2-90b540b9f5de",
   "metadata": {},
   "outputs": [
    {
     "name": "stdin",
     "output_type": "stream",
     "text": [
      "Enter a string:  shdsiubhg\n"
     ]
    },
    {
     "name": "stdout",
     "output_type": "stream",
     "text": [
      "It is not a palindrome\n"
     ]
    }
   ],
   "source": [
    "#17\n",
    "a = input(\"Enter a string: \")\n",
    "a = a.lower()\n",
    "\n",
    "is_palindrome = True\n",
    "\n",
    "for i in range(len(a)):\n",
    "    if a[i] != a[-(i + 1)]:\n",
    "        is_palindrome = False\n",
    "        break\n",
    "\n",
    "if is_palindrome:\n",
    "    print(\"It is a palindrome\")\n",
    "else:\n",
    "    print(\"It is not a palindrome\")\n"
   ]
  },
  {
   "cell_type": "code",
   "execution_count": 4,
   "id": "2aa3e299-eb62-47c3-9e53-6d37b12ac7dc",
   "metadata": {},
   "outputs": [
    {
     "name": "stdout",
     "output_type": "stream",
     "text": [
      "[1, 2, 23, 5, 354, 3, 45, 4, 24, 64, 6, 56]\n",
      "[1, 2, 23, 5, 354, 3, 45, 4, 24, 5, 64, 354, 3, 4, 6, 2, 1, 3, 4, 56]\n"
     ]
    }
   ],
   "source": [
    "#18 \n",
    "l =[1,2,23,5,354,3,45,4,24,5,64,354,3,4,6,2,1,3,4,56]\n",
    "l2 = []\n",
    "for i in l:\n",
    "    if i not in l2:\n",
    "        l2.append(i)\n",
    "print(l2)\n",
    "print(l)"
   ]
  },
  {
   "cell_type": "code",
   "execution_count": null,
   "id": "5184061b-6aa8-49c5-ac2c-a34bc9e6416d",
   "metadata": {},
   "outputs": [],
   "source": [
    "#19 \n",
    "l = list(range(1,51))\n",
    "addition = 0\n",
    "for i in l:\n",
    "    if i%2==0:\n",
    "        addition = addition +i\n",
    "print(addition)"
   ]
  },
  {
   "cell_type": "code",
   "execution_count": 50,
   "id": "ac57e37c-73cc-4b61-9501-cef600a07bb8",
   "metadata": {},
   "outputs": [
    {
     "name": "stdin",
     "output_type": "stream",
     "text": [
      "Enter the year:  2001\n"
     ]
    },
    {
     "name": "stdout",
     "output_type": "stream",
     "text": [
      "2001 is not a leap year\n"
     ]
    }
   ],
   "source": [
    "year = int(input(\"Enter the year: \"))\n",
    "leap = False\n",
    "\n",
    "if (year % 4 == 0 and year % 100 != 0) or (year % 400 == 0):\n",
    "    leap = True\n",
    "\n",
    "if leap:\n",
    "    print(f\"{year} is a leap year\")\n",
    "else:\n",
    "    print(f\"{year} is not a leap year\")\n"
   ]
  },
  {
   "cell_type": "code",
   "execution_count": 65,
   "id": "adc083f6-e706-4150-ab85-545e58d4b384",
   "metadata": {},
   "outputs": [
    {
     "name": "stdin",
     "output_type": "stream",
     "text": [
      "enter the number 93\n"
     ]
    },
    {
     "name": "stdout",
     "output_type": "stream",
     "text": [
      "9.643650760992955\n"
     ]
    }
   ],
   "source": [
    "import math\n",
    "n= int(input(\"enter the number\"))\n",
    "for i in range(1,n+1):\n",
    "    a = math.sqrt(n)\n",
    "print(a)\n",
    "               \n",
    "               \n",
    "    \n",
    "    \n",
    "        "
   ]
  },
  {
   "cell_type": "code",
   "execution_count": 72,
   "id": "4ae58c20-4947-4c45-83ce-9120fe6e7538",
   "metadata": {},
   "outputs": [
    {
     "name": "stdin",
     "output_type": "stream",
     "text": [
      " 34\n",
      " 12\n"
     ]
    },
    {
     "name": "stdout",
     "output_type": "stream",
     "text": [
      "204.0\n"
     ]
    }
   ],
   "source": [
    "def gcd(num1,num2):\n",
    "    if num1<num2:\n",
    "        num1,num2 = num2,num1\n",
    "    for i in range(num2,0,-1):\n",
    "        if num1%i==0 and num2%i == 0:\n",
    "            return i\n",
    "def lcm(a,b):\n",
    "    return (a*b)/gcd(a,b)\n",
    "\n",
    "num1= int(input())\n",
    "num2= int(input())\n",
    "result = lcm(num1,num2)\n",
    "print(result)"
   ]
  },
  {
   "cell_type": "markdown",
   "id": "14b31f2e-947e-4628-bfc9-e018feb0a7b0",
   "metadata": {},
   "source": [
    "if else problems "
   ]
  },
  {
   "cell_type": "code",
   "execution_count": 77,
   "id": "bfb9aac2-e51c-4cc7-b098-477556010b0e",
   "metadata": {},
   "outputs": [
    {
     "name": "stdin",
     "output_type": "stream",
     "text": [
      "enter the number 493\n"
     ]
    },
    {
     "name": "stdout",
     "output_type": "stream",
     "text": [
      "the number is positive number\n"
     ]
    }
   ],
   "source": [
    "#1\n",
    "n = int(input(\"enter the number\"))\n",
    "if n < 0 :\n",
    "    print(\"the entered number is negative number\")\n",
    "elif n == 0:\n",
    "    print(\"the number is zero\")\n",
    "else:\n",
    "    print(\"the number is positive number\")"
   ]
  },
  {
   "cell_type": "code",
   "execution_count": 95,
   "id": "9deb719f-da35-4293-8bba-66dad127a455",
   "metadata": {},
   "outputs": [
    {
     "name": "stdin",
     "output_type": "stream",
     "text": [
      "enter the number:  5\n"
     ]
    },
    {
     "name": "stdout",
     "output_type": "stream",
     "text": [
      "the number is odd\n"
     ]
    }
   ],
   "source": [
    "#2\n",
    "n = int(input(\"enter the number: \"))\n",
    "if n>0 and n %2 == 0:\n",
    "    print(\"the number is even\")\n",
    "elif n>0 and n%2 !=0:\n",
    "    print(\"the number is odd\")\n",
    "else:\n",
    "    print(\"the enterd number is invalid\")"
   ]
  },
  {
   "cell_type": "code",
   "execution_count": 101,
   "id": "db67dd67-3fc3-4289-b525-7a92c81ff464",
   "metadata": {},
   "outputs": [
    {
     "name": "stdout",
     "output_type": "stream",
     "text": [
      "its negative\n"
     ]
    }
   ],
   "source": [
    "#3\n",
    "\"\"\"Nested if-else statements in Python allow you to test multiple conditions and execute different code \n",
    "blocks based on the results of these tests.\"\"\"\n",
    "n = -1\n",
    "if n > 0:\n",
    "    print(\"its positive\")\n",
    "else:\n",
    "    if n < 0 :\n",
    "        print(\"its negative\")\n",
    "    else:\n",
    "        print(\"its zero\")\n",
    "        "
   ]
  },
  {
   "cell_type": "code",
   "execution_count": 103,
   "id": "153b30bc-88e5-4ab7-b7ff-47bef8153597",
   "metadata": {},
   "outputs": [
    {
     "name": "stdin",
     "output_type": "stream",
     "text": [
      " 5\n",
      " 34\n",
      " 754\n"
     ]
    },
    {
     "name": "stdout",
     "output_type": "stream",
     "text": [
      "754 is the gretest number\n"
     ]
    }
   ],
   "source": [
    "a = int(input())\n",
    "b= int(input())\n",
    "c = int(input())\n",
    "if a > b and a > c :\n",
    "    print(f\"{a} is the gretest number\")\n",
    "elif  b > a and b > c :\n",
    "    print(f\"{b} is the gretest number\")\n",
    "else:\n",
    "    print(f\"{c} is the gretest number\")\n"
   ]
  },
  {
   "cell_type": "code",
   "execution_count": 106,
   "id": "c4b01098-1fcc-4cca-8925-028b211fc5cd",
   "metadata": {},
   "outputs": [
    {
     "name": "stdin",
     "output_type": "stream",
     "text": [
      " -42\n"
     ]
    },
    {
     "name": "stdout",
     "output_type": "stream",
     "text": [
      "absolute value of -42.0 is 42.0\n"
     ]
    }
   ],
   "source": [
    "n = float(input())\n",
    "if n < 0 :\n",
    "    abv = -n\n",
    "else:\n",
    "    abv = n\n",
    "print(f\"absolute value of {n} is {abv}\")"
   ]
  },
  {
   "cell_type": "code",
   "execution_count": 115,
   "id": "39adb928-e664-42db-b0b9-afbbabb05833",
   "metadata": {},
   "outputs": [
    {
     "name": "stdin",
     "output_type": "stream",
     "text": [
      "enter the string z\n"
     ]
    },
    {
     "name": "stdout",
     "output_type": "stream",
     "text": [
      "the word is consotant\n"
     ]
    }
   ],
   "source": [
    "n= input(\"enter the string\")\n",
    "n = n.lower()\n",
    "if n == \"a\" or  n == \"e\" or n == \"i\" or  n == \"o\" or n == \"u\":\n",
    "    print(\"the word is vowel\")\n",
    "else:\n",
    "    print(\"the word is consotant\")"
   ]
  },
  {
   "cell_type": "code",
   "execution_count": 120,
   "id": "6af38f87-8bb1-43cf-bee4-b8533e79f5b1",
   "metadata": {},
   "outputs": [
    {
     "name": "stdin",
     "output_type": "stream",
     "text": [
      " 234\n"
     ]
    },
    {
     "name": "stdout",
     "output_type": "stream",
     "text": [
      "the user is eligible for voting\n"
     ]
    }
   ],
   "source": [
    "age = int(input())\n",
    "if age < 18:\n",
    "    print(\"the user is not eligible for voting\")\n",
    "else:\n",
    "    print(\"the user is eligible for voting\")"
   ]
  },
  {
   "cell_type": "code",
   "execution_count": 125,
   "id": "16575423-42de-43c8-8ff8-b76c0c8fb67a",
   "metadata": {},
   "outputs": [
    {
     "name": "stdin",
     "output_type": "stream",
     "text": [
      "enter the total amount of the purchase:  500\n"
     ]
    },
    {
     "name": "stdout",
     "output_type": "stream",
     "text": [
      "your total bill after the discount is 400.0)\n"
     ]
    }
   ],
   "source": [
    "total = int(input(\"enter the total amount of the purchase: \"))\n",
    "if total >100  and total < 1500:\n",
    "    final = (20*total)/100\n",
    "    print(f\"your total bill after the discount is {total - final})\")\n",
    "elif total > 1500 and total <=2500:\n",
    "    final = (40*total)/100\n",
    "    print(f\"your total bill after the discount is {total - final})\")\n",
    "else: \n",
    "    final = (50*total)/100\n",
    "    print(f\"your total bill after the discount is {total - final})\")\n"
   ]
  },
  {
   "cell_type": "code",
   "execution_count": 132,
   "id": "708c4d57-8223-4307-a132-9afca3e4e332",
   "metadata": {},
   "outputs": [
    {
     "name": "stdin",
     "output_type": "stream",
     "text": [
      "enter the number 345\n"
     ]
    },
    {
     "name": "stdout",
     "output_type": "stream",
     "text": [
      "it is three digit number\n"
     ]
    }
   ],
   "source": [
    "num = int(input(\"enter the number\"))\n",
    "if num>= 10 and num <=99:\n",
    "    print(\"it is two digit number\")\n",
    "elif num>= 100 and num <=999:\n",
    "    print(\"it is three digit number\")\n",
    "elif num>= 1000 and num <=9999:\n",
    "    print(\"it is four  digit number\")\n",
    "    \n",
    "    "
   ]
  },
  {
   "cell_type": "code",
   "execution_count": 136,
   "id": "8f5d14bc-9e50-4a94-b971-7ce3c0a82d7f",
   "metadata": {},
   "outputs": [
    {
     "name": "stdin",
     "output_type": "stream",
     "text": [
      "enter the total marks 98\n"
     ]
    },
    {
     "name": "stdout",
     "output_type": "stream",
     "text": [
      "you got A+ grade\n"
     ]
    }
   ],
   "source": [
    "total = int(input(\"enter the total marks\"))\n",
    "if total >=95 and total <=100:\n",
    "    print(\"you got A+ grade\")\n",
    "elif total >=90 and total <95:\n",
    "    print(\"you got B grade\")\n",
    "elif total >=75 and total <90:\n",
    "    print(\"you got C grade\")\n",
    "elif total >=50 and total <75:\n",
    "    print(\"you got D grade\")\n",
    "else:\n",
    "    print(\"you are failed in this exam\")"
   ]
  },
  {
   "cell_type": "code",
   "execution_count": 140,
   "id": "fd03a2ef-c4c7-4600-b843-04209b68a371",
   "metadata": {},
   "outputs": [
    {
     "name": "stdin",
     "output_type": "stream",
     "text": [
      "enter the sentence aij\n"
     ]
    },
    {
     "name": "stdout",
     "output_type": "stream",
     "text": [
      "the string is not empty\n"
     ]
    }
   ],
   "source": [
    "a = input(\"enter the sentence\")\n",
    "if len(a) > 0:\n",
    "    print(\"the string is not empty\")\n",
    "else:\n",
    "    print(\"the string is empty\")"
   ]
  },
  {
   "cell_type": "code",
   "execution_count": 1,
   "id": "0cc8be45-6d92-41af-936a-6f5130556398",
   "metadata": {},
   "outputs": [
    {
     "name": "stdin",
     "output_type": "stream",
     "text": [
      "enter the length of the side 5\n",
      "enter the length of the side 5\n",
      "enter the length of the side 5\n"
     ]
    },
    {
     "name": "stdout",
     "output_type": "stream",
     "text": [
      " Equilateral traiangle\n"
     ]
    }
   ],
   "source": [
    "a = int(input(\"enter the length of the side\"))\n",
    "b=int(input(\"enter the length of the side\"))\n",
    "c=int(input(\"enter the length of the side\"))\n",
    "if a == b and a == c:\n",
    "    print(\" Equilateral traiangle\")\n",
    "elif  a != b and a!=c and b!=c:\n",
    "    print(\"Scalen Triangle\")\n",
    "elif a ==b or b==c or c==a :\n",
    "    print(\"Iscolenus triangle\")\n",
    "else:\n",
    "    print(\"invalid\")"
   ]
  },
  {
   "cell_type": "code",
   "execution_count": 4,
   "id": "e1d1648a-6d71-40d0-be73-c9765e442d0d",
   "metadata": {},
   "outputs": [
    {
     "name": "stdin",
     "output_type": "stream",
     "text": [
      "Enter a number (1-7) to determine the day of the week:  8\n"
     ]
    },
    {
     "name": "stdout",
     "output_type": "stream",
     "text": [
      "The day corresponding to 8 is Invalid input (Please enter a number from 1 to 7)\n"
     ]
    }
   ],
   "source": [
    "# Input a number from the user (1 for Monday, 2 for Tuesday, etc.)\n",
    "day_number = int(input(\"Enter a number (1-7) to determine the day of the week: \"))\n",
    "\n",
    "# Check the user-provided number and determine the day of the week\n",
    "if day_number == 1:\n",
    "    day_name = \"Monday\"\n",
    "elif day_number == 2:\n",
    "    day_name = \"Tuesday\"\n",
    "elif day_number == 3:\n",
    "    day_name = \"Wednesday\"\n",
    "elif day_number == 4:\n",
    "    day_name = \"Thursday\"\n",
    "elif day_number == 5:\n",
    "    day_name = \"Friday\"\n",
    "elif day_number == 6:\n",
    "    day_name = \"Saturday\"\n",
    "elif day_number == 7:\n",
    "    day_name = \"Sunday\"\n",
    "else:\n",
    "    day_name = \"Invalid input (Please enter a number from 1 to 7)\"\n",
    "\n",
    "# Print the day of the week or an error message\n",
    "print(f\"The day corresponding to {day_number} is {day_name}\")\n"
   ]
  },
  {
   "cell_type": "code",
   "execution_count": 8,
   "id": "26bf9da8-a147-4b71-add5-58a9882551b8",
   "metadata": {},
   "outputs": [
    {
     "name": "stdin",
     "output_type": "stream",
     "text": [
      "enter the year 1290\n"
     ]
    },
    {
     "name": "stdout",
     "output_type": "stream",
     "text": [
      "it is not leap year\n"
     ]
    }
   ],
   "source": [
    "year = int(input(\"enter the year\"))\n",
    "if (year % 4 == 0 and year % 100 != 0) or (year % 400 == 0):\n",
    "    print(\"it is a leap year\")\n",
    "else:\n",
    "    print(\"it is not leap year\")"
   ]
  },
  {
   "cell_type": "code",
   "execution_count": 9,
   "id": "63059628-3880-4efc-8e62-51a63c47d54f",
   "metadata": {},
   "outputs": [
    {
     "data": {
      "text/plain": [
       "\"In Python, the assert keyword helps in achieving this task. This statement takes as input a boolean condition,\\nwhich when returns true doesn't do anything and continues the normal flow of execution, but if it is computed to \\nbe false, then it raises an AssertionError along with the optional message provided.\""
      ]
     },
     "execution_count": 9,
     "metadata": {},
     "output_type": "execute_result"
    }
   ],
   "source": [
    "#\n",
    "\"\"\"In Python, the assert keyword helps in achieving this task. This statement takes as input a boolean condition,\n",
    "which when returns true doesn't do anything and continues the normal flow of execution, but if it is computed to \n",
    "be false, then it raises an AssertionError along with the optional message provided.\"\"\""
   ]
  },
  {
   "cell_type": "code",
   "execution_count": 11,
   "id": "843b4e9c-8420-4546-8252-d8b4b0f6f27f",
   "metadata": {},
   "outputs": [
    {
     "name": "stdin",
     "output_type": "stream",
     "text": [
      "enter the age 89\n"
     ]
    },
    {
     "name": "stdout",
     "output_type": "stream",
     "text": [
      "you are eligible for the senior citizen discount\n"
     ]
    }
   ],
   "source": [
    "age = int(input(\"enter the age\"))\n",
    "if age > 58:\n",
    "    print(\"you are eligible for the senior citizen discount\")\n",
    "else:\n",
    "    print(\"you are not eligible for the senior citizen discount\")"
   ]
  },
  {
   "cell_type": "code",
   "execution_count": 14,
   "id": "015b7edd-6377-4107-9db7-464588b31f66",
   "metadata": {},
   "outputs": [
    {
     "name": "stdin",
     "output_type": "stream",
     "text": [
      "enter the charachter 3\n"
     ]
    },
    {
     "name": "stdout",
     "output_type": "stream",
     "text": [
      "its neither\n"
     ]
    }
   ],
   "source": [
    "a = input(\"enter the charachter\")\n",
    "if a in('ABCDEFGHIJKLMNOPQRSTUVWXYZ'):\n",
    "    print(\"its a uppper case\")\n",
    "elif a in('abcdefghijklmnopqrstuvwxyz'):\n",
    "    print(\"its a lower case\")\n",
    "else:\n",
    "    print(\"its neither\")\n"
   ]
  },
  {
   "cell_type": "code",
   "execution_count": 15,
   "id": "d8c6f9b0-3a89-4047-bb01-457ce5cc0755",
   "metadata": {},
   "outputs": [
    {
     "name": "stdin",
     "output_type": "stream",
     "text": [
      "Enter the coefficient 'a':  3\n",
      "Enter the coefficient 'b':  6\n",
      "Enter the coefficient 'c':  36\n"
     ]
    },
    {
     "name": "stdout",
     "output_type": "stream",
     "text": [
      "Discriminant: -396.0\n",
      "Root 1: (-1+3.3166247903554j)\n",
      "Root 2: (-1-3.3166247903554j)\n",
      "Nature of roots: Complex roots (no real roots)\n"
     ]
    }
   ],
   "source": [
    "# Input the coefficients of the quadratic equation (ax^2 + bx + c = 0)\n",
    "a = float(input(\"Enter the coefficient 'a': \"))\n",
    "b = float(input(\"Enter the coefficient 'b': \"))\n",
    "c = float(input(\"Enter the coefficient 'c': \"))\n",
    "\n",
    "# Calculate the discriminant\n",
    "discriminant = b**2 - 4*a*c\n",
    "\n",
    "# Determine the nature of roots based on the discriminant\n",
    "if discriminant > 0:\n",
    "    # Two distinct real roots\n",
    "    root1 = (-b + discriminant**0.5) / (2*a)\n",
    "    root2 = (-b - discriminant**0.5) / (2*a)\n",
    "    root_type = \"Two distinct real roots\"\n",
    "elif discriminant == 0:\n",
    "    # One real root (a repeated root)\n",
    "    root1 = -b / (2*a)\n",
    "    root2 = None\n",
    "    root_type = \"One real root (a repeated root)\"\n",
    "else:\n",
    "    # Complex roots (no real roots)\n",
    "    real_part = -b / (2*a)\n",
    "    imaginary_part = (-discriminant)**0.5 / (2*a)\n",
    "    root1 = complex(real_part, imaginary_part)\n",
    "    root2 = complex(real_part, -imaginary_part)\n",
    "    root_type = \"Complex roots (no real roots)\"\n",
    "\n",
    "# Print the results\n",
    "print(f\"Discriminant: {discriminant}\")\n",
    "print(f\"Root 1: {root1}\")\n",
    "print(f\"Root 2: {root2}\")\n",
    "print(f\"Nature of roots: {root_type}\")\n"
   ]
  },
  {
   "cell_type": "code",
   "execution_count": 19,
   "id": "1cdba458-c198-4fa9-b474-02bf8697071a",
   "metadata": {},
   "outputs": [
    {
     "name": "stdin",
     "output_type": "stream",
     "text": [
      "enter the age 2012\n"
     ]
    },
    {
     "name": "stdout",
     "output_type": "stream",
     "text": [
      "its not a century year\n"
     ]
    }
   ],
   "source": [
    "year = int(input(\"enter the age\"))\n",
    "if year % 100 == 0:\n",
    "    print(\"its a century year\")\n",
    "else:\n",
    "    print(\"its not a century year\")"
   ]
  },
  {
   "cell_type": "code",
   "execution_count": 26,
   "id": "92842472-1f1f-4fdd-b554-75dca02bf02d",
   "metadata": {},
   "outputs": [
    {
     "name": "stdin",
     "output_type": "stream",
     "text": [
      "Enter a number:  2000\n"
     ]
    },
    {
     "name": "stdout",
     "output_type": "stream",
     "text": [
      "2000 is not a perfect square\n"
     ]
    }
   ],
   "source": [
    "# Input a number from the user\n",
    "number = int(input(\"Enter a number: \"))\n",
    "\n",
    "# Check if the number is a perfect square\n",
    "is_perfect_square = False\n",
    "\n",
    "if number > 0:\n",
    "    square_root = int(number**0.5)\n",
    "    if square_root**2 == number:\n",
    "        is_perfect_square = True\n",
    "    else:\n",
    "        is_perfect_square = False\n",
    "else:\n",
    "    is_perfect_square = False\n",
    "\n",
    "# Print the result\n",
    "if is_perfect_square:\n",
    "    print(f\"{number} is a perfect square\")\n",
    "else:\n",
    "    print(f\"{number} is not a perfect square\")\n",
    "\n",
    "    "
   ]
  },
  {
   "cell_type": "code",
   "execution_count": 27,
   "id": "08210814-6a30-4c34-bef1-4cdef9dd670e",
   "metadata": {},
   "outputs": [
    {
     "data": {
      "text/plain": [
       "'The break statement is used to terminate the loop immediately. The continue statement is used to skip \\nthe current iteration of the loop. break keyword is used to indicate break statements in java programming.\\ncontinue keyword is used to indicate continue statement in java programming'"
      ]
     },
     "execution_count": 27,
     "metadata": {},
     "output_type": "execute_result"
    }
   ],
   "source": [
    "\"\"\"The break statement is used to terminate the loop immediately. The continue statement is used to skip \n",
    "the current iteration of the loop. break keyword is used to indicate break statements in java programming.\n",
    "continue keyword is used to indicate continue statement in java programming\"\"\""
   ]
  },
  {
   "cell_type": "code",
   "execution_count": 28,
   "id": "3a5c504e-5fff-4352-9f0b-27bb64b04b34",
   "metadata": {},
   "outputs": [
    {
     "name": "stdin",
     "output_type": "stream",
     "text": [
      "Enter weight in kilograms:  68\n",
      "Enter height in meters:  178\n"
     ]
    },
    {
     "name": "stdout",
     "output_type": "stream",
     "text": [
      "Your BMI is: 0.00\n",
      "Category: Underweight\n"
     ]
    }
   ],
   "source": [
    "# Input weight in kilograms and height in meters from the user\n",
    "weight = float(input(\"Enter weight in kilograms: \"))\n",
    "height = float(input(\"Enter height in meters: \"))\n",
    "\n",
    "# Calculate BMI\n",
    "bmi = weight / (height**2)\n",
    "\n",
    "# Determine BMI category based on the calculated BMI\n",
    "if bmi < 18.5:\n",
    "    category = \"Underweight\"\n",
    "elif 18.5 <= bmi < 24.9:\n",
    "    category = \"Normal weight\"\n",
    "elif 24.9 <= bmi < 29.9:\n",
    "    category = \"Overweight\"\n",
    "else:\n",
    "    category = \"Obese\"\n",
    "\n",
    "# Print the BMI and category\n",
    "print(f\"Your BMI is: {bmi:.2f}\")\n",
    "print(f\"Category: {category}\")\n"
   ]
  },
  {
   "cell_type": "code",
   "execution_count": 29,
   "id": "4ed646fc-ae91-476a-b21e-e1bea3e1e109",
   "metadata": {},
   "outputs": [
    {
     "data": {
      "text/plain": [
       "\"The `filter()` function applies a specific function to a list and returns an iterable for the elements \\nwhere the function returned True, list comprehensions provide a concise syntax for creating new lists based on\\nexisting ones, and 'for' loops can also be used with 'if' statements to iterate over a list.\""
      ]
     },
     "execution_count": 29,
     "metadata": {},
     "output_type": "execute_result"
    }
   ],
   "source": [
    "\"\"\"The `filter()` function applies a specific function to a list and returns an iterable for the elements \n",
    "where the function returned True, list comprehensions provide a concise syntax for creating new lists based on\n",
    "existing ones, and 'for' loops can also be used with 'if' statements to iterate over a list.\"\"\""
   ]
  },
  {
   "cell_type": "code",
   "execution_count": 50,
   "id": "f5377515-a9f0-4fd1-a30c-03e446c93e2c",
   "metadata": {},
   "outputs": [
    {
     "name": "stdin",
     "output_type": "stream",
     "text": [
      "Enter a number:  3\n"
     ]
    },
    {
     "name": "stdout",
     "output_type": "stream",
     "text": [
      "3 is a prime number\n"
     ]
    }
   ],
   "source": [
    "# Input a number from the user\n",
    "num = int(input(\"Enter a number: \"))\n",
    "\n",
    "# Check if the number is prime\n",
    "is_prime = True  # Assume it's prime initially\n",
    "\n",
    "if num <= 1:\n",
    "    is_prime = False  # Numbers less than or equal to 1 are not prime\n",
    "else:\n",
    "    for i in range(2, int(num**0.5) + 1):\n",
    "        if num % i == 0:\n",
    "            is_prime = False  # If it's divisible by any number in this range, it's not prime\n",
    "            break\n",
    "\n",
    "# Print the result\n",
    "if is_prime:\n",
    "    print(f\"{num} is a prime number\")\n",
    "else:\n",
    "    print(f\"{num} is not a prime number\")\n"
   ]
  },
  {
   "cell_type": "markdown",
   "id": "d5309076-26b7-4f5b-9036-9cfc1ee8ae91",
   "metadata": {},
   "source": [
    " MAP"
   ]
  },
  {
   "cell_type": "code",
   "execution_count": 5,
   "id": "dcf8eea0-d84b-4e4b-a99c-f7ffb20eb0e0",
   "metadata": {},
   "outputs": [
    {
     "name": "stdout",
     "output_type": "stream",
     "text": [
      "[3.0, 6.0, 7.0, 9.0, 11.0]\n"
     ]
    }
   ],
   "source": [
    "#1\n",
    "\"\"\"The map() function executes a specified function for each item in an iterable. \n",
    "The item is sent to the function as a parameter.\"\"\"\n",
    "import math\n",
    "\n",
    "num = [9, 36, 49, 81, 121]\n",
    "\n",
    "x = list(map(math.sqrt, num))\n",
    "\n",
    "print(x)"
   ]
  },
  {
   "cell_type": "code",
   "execution_count": 10,
   "id": "e4ab7da6-99a6-4cfe-84cb-9dfe17260474",
   "metadata": {},
   "outputs": [
    {
     "name": "stdout",
     "output_type": "stream",
     "text": [
      "[4, 9, 16, 25]\n"
     ]
    }
   ],
   "source": [
    "def squar(n):\n",
    "    return (n**2)\n",
    "b = [2,3,4,5]\n",
    "a = list(map(squar,b))\n",
    "print(a)\n",
    "    "
   ]
  },
  {
   "cell_type": "code",
   "execution_count": 11,
   "id": "15cb3a98-1efb-4739-acc4-c16af6470ba6",
   "metadata": {},
   "outputs": [
    {
     "data": {
      "text/plain": [
       "'List comprehension returns a list, whereas the map function returns an object of Iterable.\\nList comprehension execution is faster than that of map function when the formula expression is huge and complex. \\nMap function is faster than list comprehension when the formula is already defined as a function earlier'"
      ]
     },
     "execution_count": 11,
     "metadata": {},
     "output_type": "execute_result"
    }
   ],
   "source": [
    "\"\"\"List comprehension returns a list, whereas the map function returns an object of Iterable.\n",
    "List comprehension execution is faster than that of map function when the formula expression is huge and complex. \n",
    "Map function is faster than list comprehension when the formula is already defined as a function earlier\"\"\""
   ]
  },
  {
   "cell_type": "code",
   "execution_count": 13,
   "id": "ca616ce5-9848-43b8-aa44-dd22a9ed4cdb",
   "metadata": {},
   "outputs": [
    {
     "name": "stdout",
     "output_type": "stream",
     "text": [
      "['SDD', 'ADFF', 'AEGS', 'SEGS']\n"
     ]
    }
   ],
   "source": [
    "def upper(x):\n",
    "    return x.upper()\n",
    "\n",
    "a = ['sdd','adff','aegs','segs']\n",
    "b = list(map(upper , a))\n",
    "print(b)"
   ]
  },
  {
   "cell_type": "code",
   "execution_count": 17,
   "id": "8d12f7a7-7afb-4674-87fb-0e0bbedb60ed",
   "metadata": {},
   "outputs": [
    {
     "name": "stdout",
     "output_type": "stream",
     "text": [
      "[5, 10, 18]\n"
     ]
    }
   ],
   "source": [
    "def leng(word):\n",
    "    for char in word:\n",
    "        return len(word)\n",
    "a = ['adrre','aedfsdffgs','asdgggsdsdsffeefgd']\n",
    "b = list(map(leng,a))\n",
    "print(b)\n",
    "        "
   ]
  },
  {
   "cell_type": "code",
   "execution_count": 21,
   "id": "b9dba2f9-24c1-427d-86fe-3159b3508693",
   "metadata": {},
   "outputs": [
    {
     "name": "stdout",
     "output_type": "stream",
     "text": [
      "[4, 9, 16, 25]\n"
     ]
    }
   ],
   "source": [
    "\"\"\"If you supply multiple iterables to map() , then the transformation function must take as many arguments \n",
    "as iterables you pass in. Each iteration of map() will pass one value from each iterable as an argument to function . \n",
    "The iteration stops at the end of the shortest iterable.\"\"\"\n",
    "def squar(n):\n",
    "    return (n**2)\n",
    "b = [2,3,4,5]\n",
    "c = [4,45,233,55]\n",
    "a = list(map(squar,b))\n",
    "print(a)\n",
    "    "
   ]
  },
  {
   "cell_type": "code",
   "execution_count": 1,
   "id": "bda92cf0-5c3e-46f4-b746-e62a500f52dd",
   "metadata": {},
   "outputs": [
    {
     "name": "stdout",
     "output_type": "stream",
     "text": [
      "[91.4, 113.0, 73.4, 114.8, 113.0, 96.8]\n"
     ]
    }
   ],
   "source": [
    "def fernite(c):\n",
    "    f = (c*(9/5)) +32 \n",
    "    return f \n",
    "b = [33,45,23,46,45,36]\n",
    "result = list(map(fernite,b))\n",
    "print(result)"
   ]
  },
  {
   "cell_type": "code",
   "execution_count": 3,
   "id": "d5f7742f-be19-4121-a4e9-2e507cf93d10",
   "metadata": {},
   "outputs": [
    {
     "name": "stdout",
     "output_type": "stream",
     "text": [
      "[14, 36, 34, 345, 234]\n"
     ]
    }
   ],
   "source": [
    "def convert(num):\n",
    "    a = round(num)\n",
    "    return a \n",
    "b = [13.5,35.9,34.2,345.324,234.34]\n",
    "result = list(map(convert,b))\n",
    "print(result)"
   ]
  },
  {
   "cell_type": "markdown",
   "id": "18f8dbba-5b28-4af9-b242-f070d21ee690",
   "metadata": {},
   "source": [
    "Reduce "
   ]
  },
  {
   "cell_type": "code",
   "execution_count": 7,
   "id": "befb54eb-1891-43c1-8f71-b936c3597573",
   "metadata": {},
   "outputs": [
    {
     "name": "stdout",
     "output_type": "stream",
     "text": [
      "120\n"
     ]
    }
   ],
   "source": [
    "\"\"\"The reduce(fun,seq) function is used to apply a particular function passed in its argument to all of the list \n",
    "elements mentioned in the sequence passed along.This function is defined in “functools” module.\"\"\"\n",
    "from functools import reduce\n",
    "l = [1,2,3,4,5]\n",
    "a = reduce(lambda b,c: b*c,l)\n",
    "print(a)"
   ]
  },
  {
   "cell_type": "code",
   "execution_count": 8,
   "id": "1ffee4f6-0df4-4451-ac41-d92d4b810345",
   "metadata": {},
   "outputs": [
    {
     "name": "stdout",
     "output_type": "stream",
     "text": [
      "120\n"
     ]
    }
   ],
   "source": [
    "from functools import reduce\n",
    "l = [1,2,3,4,5]\n",
    "a = reduce(lambda b,c: b*c,l)\n",
    "print(a)"
   ]
  },
  {
   "cell_type": "code",
   "execution_count": 11,
   "id": "e442d41b-b500-4ff0-8bdb-af6cd28a790c",
   "metadata": {},
   "outputs": [
    {
     "name": "stdout",
     "output_type": "stream",
     "text": [
      "5\n"
     ]
    }
   ],
   "source": [
    "from functools import reduce\n",
    "l = [1,2,3,4,5]\n",
    "a = reduce(lambda b,c: b if b>c else c ,l)\n",
    "print(a)"
   ]
  },
  {
   "cell_type": "code",
   "execution_count": 13,
   "id": "16fd1ff9-a47c-4589-b407-bb13bee037de",
   "metadata": {},
   "outputs": [
    {
     "name": "stdout",
     "output_type": "stream",
     "text": [
      "applebananagrapes\n"
     ]
    }
   ],
   "source": [
    "\"\"\"To use the reduce() function, we first need to import it from the functools module. \n",
    "Then, we define a function that takes two strings as arguments and concatenates them.\n",
    "The reduce() function applies this function cumulatively to the elements of the list, \n",
    "combining them into a single string\"\"\"\n",
    "def a(words,words2):\n",
    "    return words + words2\n",
    "fru = ['apple','banana','grapes']\n",
    "resu = reduce(a,fru)\n",
    "print(resu)\n",
    "    "
   ]
  },
  {
   "cell_type": "code",
   "execution_count": 19,
   "id": "e0d904d7-d5c6-4445-ab37-0cf0f8db0e67",
   "metadata": {},
   "outputs": [
    {
     "name": "stdin",
     "output_type": "stream",
     "text": [
      " 5\n"
     ]
    },
    {
     "name": "stdout",
     "output_type": "stream",
     "text": [
      "120\n"
     ]
    }
   ],
   "source": [
    "n = int(input())\n",
    "result = reduce(lambda a,b :a*b ,range(1,n+1))\n",
    "print(result)"
   ]
  },
  {
   "cell_type": "code",
   "execution_count": 21,
   "id": "fb2bbc8c-8af3-492f-b290-c327e3f3935a",
   "metadata": {},
   "outputs": [
    {
     "name": "stdout",
     "output_type": "stream",
     "text": [
      "10\n"
     ]
    }
   ],
   "source": [
    "from functools import reduce\n",
    "import math\n",
    "def gcd(x,y):\n",
    "    return math.gcd(x,y)\n",
    "n = [10,20,30]\n",
    "res = reduce(gcd,n)\n",
    "print(res)\n"
   ]
  },
  {
   "cell_type": "code",
   "execution_count": 28,
   "id": "9a55d857-fa7d-42a2-a6bf-9c22270a07ce",
   "metadata": {},
   "outputs": [
    {
     "name": "stdin",
     "output_type": "stream",
     "text": [
      "Enter a number:  80\n"
     ]
    },
    {
     "name": "stdout",
     "output_type": "stream",
     "text": [
      "The sum of the digits in 80 is 8\n"
     ]
    }
   ],
   "source": [
    "from functools import reduce\n",
    "\n",
    "# Function to find the sum of digits\n",
    "def sum_digits(x, y):\n",
    "    return int(x) + int(y)\n",
    "\n",
    "# Input: Get the number from the user\n",
    "number = input(\"Enter a number: \")\n",
    "\n",
    "# Use reduce() to find the sum of the digits\n",
    "result = reduce(sum_digits, number)\n",
    "\n",
    "print(f\"The sum of the digits in {number} is {result}\")\n"
   ]
  },
  {
   "cell_type": "markdown",
   "id": "fdb8e528-bf64-4baa-bf7f-06830f840095",
   "metadata": {},
   "source": [
    "FILTER "
   ]
  },
  {
   "cell_type": "code",
   "execution_count": 1,
   "id": "9c24328f-1c92-488d-bd57-aa4b40e84df6",
   "metadata": {},
   "outputs": [
    {
     "data": {
      "text/plain": [
       "'It returns True on success or False otherwise. However, if you provide a None, then it removes all\\nitems except those evaluated to True. The next parameter is iterable, i.e., a sequence of elements to test \\nagainst a condition. Each function call carries one item from the seq for testing'"
      ]
     },
     "execution_count": 1,
     "metadata": {},
     "output_type": "execute_result"
    }
   ],
   "source": [
    "\"\"\"It returns True on success or False otherwise. However, if you provide a None, then it removes all\n",
    "items except those evaluated to True. The next parameter is iterable, i.e., a sequence of elements to test \n",
    "against a condition. Each function call carries one item from the seq for testing\"\"\""
   ]
  },
  {
   "cell_type": "code",
   "execution_count": 3,
   "id": "0832686e-d9c5-4354-a206-6bb4284e8ca0",
   "metadata": {},
   "outputs": [
    {
     "name": "stdout",
     "output_type": "stream",
     "text": [
      "[2, 4, 6, 2, 8]\n"
     ]
    }
   ],
   "source": [
    "L =[2,4,6,5,2,3,9,8]\n",
    "B= list(filter(lambda a : a%2 == 0,L))\n",
    "print(B)"
   ]
  },
  {
   "cell_type": "code",
   "execution_count": 8,
   "id": "1cefaa01-d01a-4663-892e-75e2bb93aa00",
   "metadata": {},
   "outputs": [
    {
     "name": "stdout",
     "output_type": "stream",
     "text": [
      "['pranjal']\n"
     ]
    }
   ],
   "source": [
    "l = ['shubham','sanket', 'pranjal']\n",
    "b = list(filter(lambda a: a[0] == 'p',l))\n",
    "print(b)"
   ]
  },
  {
   "cell_type": "code",
   "execution_count": 19,
   "id": "df8000f1-2bb4-42f0-9fc7-27f6b03dbc5c",
   "metadata": {},
   "outputs": [
    {
     "name": "stdout",
     "output_type": "stream",
     "text": [
      "[3, 5, 7, 37, 11, 17, 23]\n"
     ]
    }
   ],
   "source": [
    "def prime(n):\n",
    "    if n <=1:\n",
    "        return False \n",
    "    elif n %2 == 0:\n",
    "        return False \n",
    "    for i in range(3,int(n**0.5)+1):\n",
    "        if n%i == 0:\n",
    "            return False\n",
    "    return True \n",
    "\n",
    "n = [3,5,9,80,34,33,7,37,11,17,23]\n",
    "b = list(filter(prime , n))\n",
    "print(b)"
   ]
  },
  {
   "cell_type": "code",
   "execution_count": 20,
   "id": "8ffb4a13-6db0-43f5-af70-63f5fb467b84",
   "metadata": {},
   "outputs": [
    {
     "data": {
      "text/plain": [
       "'The Python filter() function is the most concise and readable way to perform this particular task.\\nIt checks for any None value in list and removes them and form a filtered list without the None values. '"
      ]
     },
     "execution_count": 20,
     "metadata": {},
     "output_type": "execute_result"
    }
   ],
   "source": [
    "\"\"\"The Python filter() function is the most concise and readable way to perform this particular task.\n",
    "It checks for any None value in list and removes them and form a filtered list without the None values. \"\"\""
   ]
  },
  {
   "cell_type": "code",
   "execution_count": 22,
   "id": "99876007-728b-40ba-a775-be0e5053d888",
   "metadata": {},
   "outputs": [
    {
     "name": "stdout",
     "output_type": "stream",
     "text": [
      "['jwiughdjhfo', 'hwiourhwjkga']\n"
     ]
    }
   ],
   "source": [
    "def leng(word):\n",
    "    if len(word) >= 10:\n",
    "        return word\n",
    "a = ['shubhame','jwiughdjhfo','hwiourhwjkga']\n",
    "b = list(filter(leng,a))\n",
    "print(b)"
   ]
  },
  {
   "cell_type": "code",
   "execution_count": 24,
   "id": "59797bfc-1f13-4621-8ef6-629c53ba6167",
   "metadata": {},
   "outputs": [
    {
     "name": "stdout",
     "output_type": "stream",
     "text": [
      "[587354, 8796739]\n"
     ]
    }
   ],
   "source": [
    "n = [23,3545,235,2347,8436,35673,76356,2567,587354,8796739]\n",
    "threshold = 89237\n",
    "a = list(filter(lambda c : c> threshold,n))\n",
    "print(a)"
   ]
  },
  {
   "cell_type": "markdown",
   "id": "3067d3ac-9809-49e6-be82-b584ff20dbfe",
   "metadata": {},
   "source": [
    "RECURSION "
   ]
  },
  {
   "cell_type": "code",
   "execution_count": 25,
   "id": "f2fe7683-fbf5-4c64-8e43-22b514c93ad6",
   "metadata": {},
   "outputs": [
    {
     "data": {
      "text/plain": [
       "'Recursion is when a function calls itself within its code, thus repeatedly executing the instructions present \\ninside it. Iteration is when a loop repeatedly executes the set of instructions like \"for\" loops and \"while\" loops.'"
      ]
     },
     "execution_count": 25,
     "metadata": {},
     "output_type": "execute_result"
    }
   ],
   "source": [
    "\"\"\"Recursion is when a function calls itself within its code, thus repeatedly executing the instructions present \n",
    "inside it. Iteration is when a loop repeatedly executes the set of instructions like \"for\" loops and \"while\" loops.\"\"\""
   ]
  },
  {
   "cell_type": "code",
   "execution_count": 26,
   "id": "b7651b7d-34ed-4b09-895c-5c1427f2bb59",
   "metadata": {},
   "outputs": [
    {
     "name": "stdout",
     "output_type": "stream",
     "text": [
      "120\n"
     ]
    }
   ],
   "source": [
    "def fact(a):\n",
    "    if a ==1 :\n",
    "        return 1\n",
    "    else:\n",
    "        return a*fact(a-1)\n",
    "print(fact(5))"
   ]
  },
  {
   "cell_type": "code",
   "execution_count": 29,
   "id": "075c8d00-9e92-4dbc-b0f9-70bc7b38755c",
   "metadata": {},
   "outputs": [
    {
     "name": "stdout",
     "output_type": "stream",
     "text": [
      "55\n"
     ]
    }
   ],
   "source": [
    "def fabo(n):\n",
    "    if n <= 1:\n",
    "        return n \n",
    "    else:\n",
    "        return fabo(n-1) + fabo(n-2)\n",
    "print(fabo(10))"
   ]
  },
  {
   "cell_type": "code",
   "execution_count": 34,
   "id": "1764b678-25ac-4f30-b001-6759df7bdcbf",
   "metadata": {},
   "outputs": [
    {
     "name": "stdout",
     "output_type": "stream",
     "text": [
      "17\n"
     ]
    }
   ],
   "source": [
    "def add(a):\n",
    "    if not a:\n",
    "        return 0 \n",
    "    else:\n",
    "        return a[0] + add(a[1:])\n",
    "b = [4,3,4,6]\n",
    "print(add(b))\n",
    "        "
   ]
  },
  {
   "cell_type": "code",
   "execution_count": 35,
   "id": "eb9b719a-5829-4e7b-9ea7-f96fce6b1759",
   "metadata": {},
   "outputs": [
    {
     "data": {
      "text/plain": [
       "'Tail recursion is a recursion of a function where it does not consumes stack space and hence prevents stack overflow. \\nIf the recursive function is made tail-recursive then it is more efficient than a non-tail-recursive function because \\nevery function call does not need to go on stack and pop when the call is done. And it prevents the ugly stack overflow.'"
      ]
     },
     "execution_count": 35,
     "metadata": {},
     "output_type": "execute_result"
    }
   ],
   "source": [
    "\"\"\"Tail recursion is a recursion of a function where it does not consumes stack space and hence prevents stack overflow. \n",
    "If the recursive function is made tail-recursive then it is more efficient than a non-tail-recursive function because \n",
    "every function call does not need to go on stack and pop when the call is done. And it prevents the ugly stack overflow.\"\"\""
   ]
  },
  {
   "cell_type": "code",
   "execution_count": 3,
   "id": "fb8e3cf5-29b2-403a-99b9-4644bb6e9b94",
   "metadata": {},
   "outputs": [
    {
     "name": "stdin",
     "output_type": "stream",
     "text": [
      " 40\n",
      " 50\n"
     ]
    },
    {
     "name": "stdout",
     "output_type": "stream",
     "text": [
      "10\n"
     ]
    }
   ],
   "source": [
    "def gcd_recursive(a, b):\n",
    "    if b == 0:\n",
    "        return a\n",
    "    else:\n",
    "        return gcd_recursive(b, a % b)\n",
    "\n",
    "# Example usage:\n",
    "num1 = int(input())\n",
    "num2 = int(input())\n",
    "result = gcd_recursive(num1, num2)\n",
    "print(result)\n"
   ]
  },
  {
   "cell_type": "code",
   "execution_count": 6,
   "id": "b0eb67a9-329f-4dd1-ad59-7e2ff01395b2",
   "metadata": {},
   "outputs": [
    {
     "name": "stdout",
     "output_type": "stream",
     "text": [
      "mahbuhs\n"
     ]
    }
   ],
   "source": [
    "def reve(word):\n",
    "    if len(word) <=1:\n",
    "        return word\n",
    "    else:\n",
    "        return reve(word[1:]) + word[0]\n",
    "a = \"shubham\"\n",
    "print(reve(a))"
   ]
  },
  {
   "cell_type": "code",
   "execution_count": 7,
   "id": "36fdc0ed-2a87-4646-a8b7-6985bc7d3b4d",
   "metadata": {},
   "outputs": [
    {
     "name": "stdout",
     "output_type": "stream",
     "text": [
      "2^3 = 8\n"
     ]
    }
   ],
   "source": [
    "def power_recursive(x, n):\n",
    "    # Base case: If the exponent is 0, the result is 1.\n",
    "    if n == 0:\n",
    "        return 1\n",
    "    # Recursive case: If the exponent is positive, recursively calculate the power.\n",
    "    elif n > 0:\n",
    "        return x * power_recursive(x, n - 1)\n",
    "    # If the exponent is negative, calculate the reciprocal of the power.\n",
    "    else:\n",
    "        return 1 / power_recursive(x, -n)\n",
    "\n",
    "# Example usage:\n",
    "x = 2\n",
    "n = 3\n",
    "result = power_recursive(x, n)\n",
    "print(f\"{x}^{n} = {result}\")\n"
   ]
  },
  {
   "cell_type": "code",
   "execution_count": 8,
   "id": "a7b23def-555c-4b6a-8b10-230ce5355689",
   "metadata": {},
   "outputs": [
    {
     "name": "stdout",
     "output_type": "stream",
     "text": [
      "Permutations of abc are:\n",
      "abc\n",
      "bac\n",
      "bca\n",
      "acb\n",
      "cab\n",
      "cba\n"
     ]
    }
   ],
   "source": [
    "def find_permutations_recursive(input_str):\n",
    "    if len(input_str) == 0:\n",
    "        return ['']\n",
    "\n",
    "    first_char = input_str[0]\n",
    "    rest_of_chars = input_str[1:]\n",
    "\n",
    "    permutations_of_rest = find_permutations_recursive(rest_of_chars)\n",
    "\n",
    "    all_permutations = []\n",
    "\n",
    "    for perm in permutations_of_rest:\n",
    "        for i in range(len(perm) + 1):\n",
    "            new_permutation = perm[:i] + first_char + perm[i:]\n",
    "            all_permutations.append(new_permutation)\n",
    "\n",
    "    return all_permutations\n",
    "\n",
    "# Example usage:\n",
    "input_string = \"abc\"\n",
    "permutations = find_permutations_recursive(input_string)\n",
    "print(\"Permutations of\", input_string, \"are:\")\n",
    "for perm in permutations:\n",
    "    print(perm)\n"
   ]
  },
  {
   "cell_type": "code",
   "execution_count": 10,
   "id": "876e9fd1-9958-4c02-8053-f392669b00a7",
   "metadata": {},
   "outputs": [
    {
     "name": "stdin",
     "output_type": "stream",
     "text": [
      " ebr\n"
     ]
    },
    {
     "name": "stdout",
     "output_type": "stream",
     "text": [
      "False\n"
     ]
    }
   ],
   "source": [
    "def pali(word):\n",
    "    if len(word)<=1:\n",
    "        return True \n",
    "    elif word[0] == word[-1]:\n",
    "        return pali(word[1:-1])\n",
    "    else :\n",
    "        return False \n",
    "word = input()\n",
    "res = pali(word)\n",
    "print(res)\n",
    "        "
   ]
  },
  {
   "cell_type": "code",
   "execution_count": 24,
   "id": "86c25192-cc11-4282-a954-1d4bf504b05b",
   "metadata": {},
   "outputs": [
    {
     "name": "stdout",
     "output_type": "stream",
     "text": [
      "Combinations of [1, 2, 3, 4, 5, 6, 9, 8, 7] choose 8 are:\n",
      "[1, 2, 3, 4, 5, 6, 9, 8]\n",
      "[1, 2, 3, 4, 5, 6, 9, 7]\n",
      "[1, 2, 3, 4, 5, 6, 8, 7]\n",
      "[1, 2, 3, 4, 5, 9, 8, 7]\n",
      "[1, 2, 3, 4, 6, 9, 8, 7]\n",
      "[1, 2, 3, 5, 6, 9, 8, 7]\n",
      "[1, 2, 4, 5, 6, 9, 8, 7]\n",
      "[1, 3, 4, 5, 6, 9, 8, 7]\n",
      "[2, 3, 4, 5, 6, 9, 8, 7]\n"
     ]
    }
   ],
   "source": [
    "def generate_combinations(elements, k):\n",
    "    if k == 0:\n",
    "        return [[]]\n",
    "    if len(elements) == 0:\n",
    "        return []\n",
    "\n",
    "    first_element = elements[0]\n",
    "    rest_of_elements = elements[1:]\n",
    "\n",
    "    # Recursive case: Generate combinations with and without the first element.\n",
    "    combinations_with_first = generate_combinations(rest_of_elements, k - 1)\n",
    "    combinations_without_first = generate_combinations(rest_of_elements, k)\n",
    "\n",
    "    # Add the first element to combinations with the first element.\n",
    "    for combo in combinations_with_first:\n",
    "        combo.insert(0, first_element)\n",
    "\n",
    "    # Combine the two sets of combinations.\n",
    "    all_combinations = combinations_with_first + combinations_without_first\n",
    "\n",
    "    return all_combinations\n",
    "\n",
    "# Example usage:\n",
    "elements = [1, 2, 3,4,5,6,9,8,7]\n",
    "k = 8\n",
    "combinations = generate_combinations(elements, k)\n",
    "print(f\"Combinations of {elements} choose {k} are:\")\n",
    "for combo in combinations:\n",
    "    print(combo)\n"
   ]
  },
  {
   "cell_type": "markdown",
   "id": "8d0cd246-b0f2-4b0d-abb1-72fcf9b79e6a",
   "metadata": {},
   "source": [
    "\n",
    "Basics of Functions:\n"
   ]
  },
  {
   "cell_type": "code",
   "execution_count": 25,
   "id": "89a25701-f365-4610-958f-3b64e9055fb1",
   "metadata": {},
   "outputs": [
    {
     "data": {
      "text/plain": [
       "'Functions in Python. You use functions in programming to bundle a set of instructions that you want to \\nuse repeatedly or that, because of their complexity, are better self-contained in a sub-program and called when needed. \\nThat means that a function is a piece of code written to carry out a specified task.'"
      ]
     },
     "execution_count": 25,
     "metadata": {},
     "output_type": "execute_result"
    }
   ],
   "source": [
    "\"\"\"Functions in Python. You use functions in programming to bundle a set of instructions that you want to \n",
    "use repeatedly or that, because of their complexity, are better self-contained in a sub-program and called when needed. \n",
    "That means that a function is a piece of code written to carry out a specified task.\"\"\""
   ]
  },
  {
   "cell_type": "code",
   "execution_count": 29,
   "id": "d00b458f-0817-4454-aa1e-df19e6ecba61",
   "metadata": {},
   "outputs": [
    {
     "name": "stdout",
     "output_type": "stream",
     "text": [
      "HELLO WORLD\n"
     ]
    }
   ],
   "source": [
    "\"\"\"A function is a block of code that performs a specific task\"\"\"\n",
    "def hello(x):\n",
    "    return x \n",
    "a = \"HELLO WORLD\"\n",
    "print(hello(a))"
   ]
  },
  {
   "cell_type": "code",
   "execution_count": 30,
   "id": "ac4a69ba-4320-4ed3-be0b-dbfc810dd0db",
   "metadata": {},
   "outputs": [
    {
     "data": {
      "text/plain": [
       "'A function is a piece of code which enhanced the reusability and modularity of your program. \\nIt means that piece of code need not be written again. A function call means invoking or calling that function.\\nUnless a function is called there is no use of that function'"
      ]
     },
     "execution_count": 30,
     "metadata": {},
     "output_type": "execute_result"
    }
   ],
   "source": [
    "\"\"\"A function is a piece of code which enhanced the reusability and modularity of your program. \n",
    "It means that piece of code need not be written again. A function call means invoking or calling that function.\n",
    "Unless a function is called there is no use of that function\"\"\""
   ]
  },
  {
   "cell_type": "code",
   "execution_count": 31,
   "id": "9a04587d-d780-40aa-a832-014b0756e02e",
   "metadata": {},
   "outputs": [
    {
     "name": "stdin",
     "output_type": "stream",
     "text": [
      " 4\n",
      " 5\n"
     ]
    },
    {
     "name": "stdout",
     "output_type": "stream",
     "text": [
      "9\n"
     ]
    }
   ],
   "source": [
    "def add(a,b):\n",
    "    x = a+b \n",
    "    return x \n",
    "a = int(input())\n",
    "b = int(input())\n",
    "result = add(a,b)\n",
    "print(result)"
   ]
  },
  {
   "cell_type": "code",
   "execution_count": 32,
   "id": "4c232eb1-f4b4-4a38-a489-7ee5a3fcf4e1",
   "metadata": {},
   "outputs": [
    {
     "data": {
      "text/plain": [
       "\"The signature of a function tells you what are the types of inputs required by your function along with annotations, \\nand also the type of information that the function returns. The signature() function in Python, is used to find the \\nsignature of a function. Let's look at how we can use it in our code\""
      ]
     },
     "execution_count": 32,
     "metadata": {},
     "output_type": "execute_result"
    }
   ],
   "source": [
    "\"\"\"The signature of a function tells you what are the types of inputs required by your function along with annotations, \n",
    "and also the type of information that the function returns. The signature() function in Python, is used to find the \n",
    "signature of a function. Let's look at how we can use it in our code\"\"\""
   ]
  },
  {
   "cell_type": "code",
   "execution_count": 33,
   "id": "4d1e63f1-6122-46d9-a9ec-1f4c7260005e",
   "metadata": {},
   "outputs": [
    {
     "name": "stdout",
     "output_type": "stream",
     "text": [
      "20\n"
     ]
    }
   ],
   "source": [
    "def pro(a,b):\n",
    "    return a*b\n",
    "print(pro(4,5))"
   ]
  },
  {
   "cell_type": "markdown",
   "id": "5f9836b8-4943-4d79-b89b-efd4a5a1e473",
   "metadata": {},
   "source": [
    "FUNCTION PARAMETERS AND ARGUMENTS "
   ]
  },
  {
   "cell_type": "code",
   "execution_count": 34,
   "id": "65a3818b-574e-4763-b40c-1658fff130b0",
   "metadata": {},
   "outputs": [
    {
     "data": {
      "text/plain": [
       "'formal parameter — the identifier used in a method to stand for the value that is passed into the method by a caller. \\nactual parameter — the actual value that is passed into the method by a caller. For example, the 200 used when process\\nDeposit is called is an actual parameter.'"
      ]
     },
     "execution_count": 34,
     "metadata": {},
     "output_type": "execute_result"
    }
   ],
   "source": [
    "\"\"\"formal parameter — the identifier used in a method to stand for the value that is passed into the method by a caller. \n",
    "actual parameter — the actual value that is passed into the method by a caller. For example, the 200 used when process\n",
    "Deposit is called is an actual parameter.\"\"\""
   ]
  },
  {
   "cell_type": "code",
   "execution_count": 1,
   "id": "1e104ebd-976d-4881-a776-976b21ff5c80",
   "metadata": {},
   "outputs": [
    {
     "name": "stdout",
     "output_type": "stream",
     "text": [
      "shubham hello\n"
     ]
    }
   ],
   "source": [
    "def pro(greet = \"user\", he = \"hello\"):\n",
    "    print(greet,he)\n",
    "greet = \"shubham\"\n",
    "he = \"hello\"\n",
    "print(greet,he)\n",
    "    "
   ]
  },
  {
   "cell_type": "code",
   "execution_count": 2,
   "id": "6a88213e-a9af-4a9e-882e-ec0d9efac5af",
   "metadata": {},
   "outputs": [
    {
     "data": {
      "text/plain": [
       "'Here, we have assigned names to arguments during the function call. Hence, first_name in the function call \\nis assigned to first_name in the function definition. Similarly, last_name in the function call is assigned to \\nlast_name in the function definition.'"
      ]
     },
     "execution_count": 2,
     "metadata": {},
     "output_type": "execute_result"
    }
   ],
   "source": [
    "\"\"\"Here, we have assigned names to arguments during the function call. Hence, first_name in the function call \n",
    "is assigned to first_name in the function definition. Similarly, last_name in the function call is assigned to \n",
    "last_name in the function definition.\"\"\""
   ]
  },
  {
   "cell_type": "code",
   "execution_count": 15,
   "id": "fe646c2a-dfac-4b70-b28e-574487b90208",
   "metadata": {},
   "outputs": [
    {
     "name": "stdout",
     "output_type": "stream",
     "text": [
      "59\n"
     ]
    }
   ],
   "source": [
    "def  add(*args):\n",
    "    total = 0 \n",
    "    for num in args:\n",
    "        total += num\n",
    "    return total \n",
    "print(add(2,3,4,50))\n",
    "\n"
   ]
  },
  {
   "cell_type": "code",
   "execution_count": 16,
   "id": "c32d53d0-e9fb-4a61-b66a-c35bf7c5ea70",
   "metadata": {},
   "outputs": [
    {
     "data": {
      "text/plain": [
       "'*args passes variable number of non-keyworded arguments and on which operation of the tuple can be performed. \\n**kwargs passes variable number of keyword arguments dictionary to function on which operation of a dictionary can be performed. \\n*args and **kwargs make the function flexible'"
      ]
     },
     "execution_count": 16,
     "metadata": {},
     "output_type": "execute_result"
    }
   ],
   "source": [
    "\"\"\"*args passes variable number of non-keyworded arguments and on which operation of the tuple can be performed. \n",
    "**kwargs passes variable number of keyword arguments dictionary to function on which operation of a dictionary can be performed. \n",
    "*args and **kwargs make the function flexible\"\"\""
   ]
  },
  {
   "cell_type": "markdown",
   "id": "0b8eb11c-9bbf-4948-b69d-1134a233ac0b",
   "metadata": {},
   "source": [
    "Return value and scooping"
   ]
  },
  {
   "cell_type": "code",
   "execution_count": 17,
   "id": "ffdeac43-fc8a-4643-bc1f-35f21973a83b",
   "metadata": {},
   "outputs": [
    {
     "name": "stdout",
     "output_type": "stream",
     "text": [
      "64\n"
     ]
    }
   ],
   "source": [
    "\"\"\"A return statement is used to end the execution of the function call and “returns” the result \n",
    "(value of the expression following the return keyword) to the caller\"\"\"\n",
    "def cube(r):\n",
    "    return r**3\n",
    "print(cube(4))"
   ]
  },
  {
   "cell_type": "code",
   "execution_count": 18,
   "id": "e257edd9-4c3e-4bf2-833d-f072cd0ff682",
   "metadata": {},
   "outputs": [
    {
     "data": {
      "text/plain": [
       "'Python Global variables are those which are not defined inside any function and have a global scope whereas Python \\nlocal variables are those which are defined inside a function and their scope is limited to that function only'"
      ]
     },
     "execution_count": 18,
     "metadata": {},
     "output_type": "execute_result"
    }
   ],
   "source": [
    "\"\"\"Python Global variables are those which are not defined inside any function and have a global scope whereas Python \n",
    "local variables are those which are defined inside a function and their scope is limited to that function only\"\"\""
   ]
  },
  {
   "cell_type": "code",
   "execution_count": 21,
   "id": "93290116-30fa-428b-89b2-2f68655d7d52",
   "metadata": {},
   "outputs": [
    {
     "name": "stdout",
     "output_type": "stream",
     "text": [
      "25\n"
     ]
    }
   ],
   "source": [
    "a = 5  # gloal variable \n",
    "def pro(b):\n",
    "    return b*a\n",
    "print(pro(5))"
   ]
  },
  {
   "cell_type": "code",
   "execution_count": 25,
   "id": "e7c30c54-5ec0-48c7-82b5-9857d5700b94",
   "metadata": {},
   "outputs": [
    {
     "name": "stdout",
     "output_type": "stream",
     "text": [
      "24\n"
     ]
    }
   ],
   "source": [
    "def fact(num):\n",
    "    t = 1\n",
    "    if num<=1:\n",
    "        return num\n",
    "    else:\n",
    "        for i in range(1,num+1):\n",
    "            t = t* i \n",
    "        return t\n",
    "print(fact(4))\n",
    "        "
   ]
  },
  {
   "cell_type": "code",
   "execution_count": 26,
   "id": "87a36a05-cf6d-4e30-9ea7-c18e7be06da3",
   "metadata": {},
   "outputs": [
    {
     "data": {
      "text/plain": [
       "'Python variables defined in functions are not accessible outside of functions, unless they are attached\\nto an object accessible outside of the function.'"
      ]
     },
     "execution_count": 26,
     "metadata": {},
     "output_type": "execute_result"
    }
   ],
   "source": [
    "\"\"\"Python variables defined in functions are not accessible outside of functions, unless they are attached\n",
    "to an object accessible outside of the function.\"\"\""
   ]
  },
  {
   "cell_type": "code",
   "execution_count": 32,
   "id": "a15192bd-ffc8-4d8a-b65d-6ff388fbef40",
   "metadata": {},
   "outputs": [
    {
     "name": "stdout",
     "output_type": "stream",
     "text": [
      "[(4, 1), (3, 2), (1, 5), (2, 8)]\n"
     ]
    }
   ],
   "source": [
    "# List of tuples\n",
    "my_list = [(1, 5), (3, 2), (2, 8), (4, 1)]\n",
    "\n",
    "# Sort the list based on the second element of each tuple\n",
    "sorted_list = sorted(my_list, key=lambda x: x[1])\n",
    "\n",
    "# Print the sorted list\n",
    "print(sorted_list)\n"
   ]
  },
  {
   "cell_type": "code",
   "execution_count": 34,
   "id": "3bb24b25-03ce-43da-b804-6d7ab53ad94c",
   "metadata": {},
   "outputs": [
    {
     "name": "stdout",
     "output_type": "stream",
     "text": [
      "[1, 4, 9, 16, 36]\n"
     ]
    }
   ],
   "source": [
    "\"\"\"Higher-order functions are functions that take a function as a parameter and/or return a function as an output.\"\"\"\n",
    "l = [1,2,3,4,6]\n",
    "y = list(map(lambda a:a**2,l))\n",
    "print(y)"
   ]
  },
  {
   "cell_type": "code",
   "execution_count": 35,
   "id": "55984734-ca3d-472b-8f1f-17738530a5a8",
   "metadata": {},
   "outputs": [
    {
     "name": "stdout",
     "output_type": "stream",
     "text": [
      "[2, 4, 6]\n"
     ]
    }
   ],
   "source": [
    "def double(integer):\n",
    "\treturn integer*2\n",
    "\n",
    "\n",
    "# driver code\n",
    "integer_list = [1, 2, 3]\n",
    "\n",
    "# Map method returns a map object\n",
    "# so we cast it into list using list()\n",
    "output_list = list(map(double, integer_list))\n",
    "\n",
    "print(output_list)\n"
   ]
  },
  {
   "cell_type": "markdown",
   "id": "72fc7b57-3e24-40b1-a1cc-25764a4d9ce5",
   "metadata": {},
   "source": [
    "Built-in Functions"
   ]
  },
  {
   "cell_type": "code",
   "execution_count": 36,
   "id": "2647ebbb-6966-4674-994f-ef4b39c1b078",
   "metadata": {},
   "outputs": [
    {
     "data": {
      "text/plain": [
       "' len() = it is used for determine the lenght of the object \\nmin() = it is used to find the minmum value in the given data \\nmax() = it is used to find the maximum value in the given data '"
      ]
     },
     "execution_count": 36,
     "metadata": {},
     "output_type": "execute_result"
    }
   ],
   "source": [
    "\"\"\" len() = it is used for determine the lenght of the object \n",
    "min() = it is used to find the minmum value in the given data \n",
    "max() = it is used to find the maximum value in the given data \"\"\"\n"
   ]
  },
  {
   "cell_type": "code",
   "execution_count": 43,
   "id": "e46a85bc-af5d-4d13-b9c5-5e854002d54b",
   "metadata": {},
   "outputs": [
    {
     "name": "stdout",
     "output_type": "stream",
     "text": [
      "['e', 'a']\n"
     ]
    }
   ],
   "source": [
    "\"\"\"The filter() method filters the given sequence with the help of a function that tests each element\n",
    "in the sequence to be true or not. \"\"\"\n",
    "\n",
    "def fun(variable):\n",
    "    letters = ['a', 'e', 'i', 'o', 'u']\n",
    "    if (variable in letters):\n",
    "        return True\n",
    "    else:\n",
    "        return False\n",
    " \n",
    " \n",
    "# sequence\n",
    "sequence = ['g', 'e', 'a', 'j', 'k', 's', 'p', 'r']\n",
    " \n",
    "# using filter function\n",
    "filtered = list(filter(fun, sequence))\n",
    " \n",
    "print(filtered)"
   ]
  },
  {
   "cell_type": "code",
   "execution_count": 50,
   "id": "f6fd1d26-10c9-4452-aed6-6d2a8c531ad9",
   "metadata": {},
   "outputs": [
    {
     "name": "stdout",
     "output_type": "stream",
     "text": [
      "24\n"
     ]
    }
   ],
   "source": [
    "from functools import reduce\n",
    "def pro(a,b):\n",
    "    return a*b\n",
    "l = [1,2,3,4]\n",
    "y = reduce(pro,l)\n",
    "print(y)"
   ]
  },
  {
   "cell_type": "markdown",
   "id": "b61191d1-2e3e-4c34-b90d-f244fbb0ea36",
   "metadata": {},
   "source": [
    "Function Documentation and Best Practices:\n"
   ]
  },
  {
   "cell_type": "code",
   "execution_count": 51,
   "id": "301471ee-a1ea-4bce-9ed7-8e96ba717d16",
   "metadata": {},
   "outputs": [
    {
     "data": {
      "text/plain": [
       "'Python documentation strings (or docstrings) provide a convenient way of associating documentation with Python modules, \\nfunctions, classes, and methods. It’s specified in source code that is used, like a comment, to document a specific segment\\nof code. '"
      ]
     },
     "execution_count": 51,
     "metadata": {},
     "output_type": "execute_result"
    }
   ],
   "source": [
    "\"\"\"Python documentation strings (or docstrings) provide a convenient way of associating documentation with Python modules, \n",
    "functions, classes, and methods. It’s specified in source code that is used, like a comment, to document a specific segment\n",
    "of code. \"\"\""
   ]
  },
  {
   "cell_type": "code",
   "execution_count": 52,
   "id": "9a3b1dc3-8071-4526-926a-b4f0af6aea9f",
   "metadata": {},
   "outputs": [
    {
     "data": {
      "text/plain": [
       "\"Variables should always start with a lower-case character.\\nUse underscores instead of spaces to separate words.\\nDon't use upper-case characters.\\nStarting with underscores is ok, but is used for a special purpose.\""
      ]
     },
     "execution_count": 52,
     "metadata": {},
     "output_type": "execute_result"
    }
   ],
   "source": [
    "\"\"\"Variables should always start with a lower-case character.\n",
    "Don't use upper-case characters.\n",
    "Starting with underscores is ok, but is used for a special purpose.\"\"\""
   ]
  },
  {
   "cell_type": "code",
   "execution_count": null,
   "id": "844f34f6-c691-4c9e-91c6-e7807fe3da49",
   "metadata": {},
   "outputs": [],
   "source": []
  }
 ],
 "metadata": {
  "kernelspec": {
   "display_name": "Python 3 (ipykernel)",
   "language": "python",
   "name": "python3"
  },
  "language_info": {
   "codemirror_mode": {
    "name": "ipython",
    "version": 3
   },
   "file_extension": ".py",
   "mimetype": "text/x-python",
   "name": "python",
   "nbconvert_exporter": "python",
   "pygments_lexer": "ipython3",
   "version": "3.10.8"
  }
 },
 "nbformat": 4,
 "nbformat_minor": 5
}
