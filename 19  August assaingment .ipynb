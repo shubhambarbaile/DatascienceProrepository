{
 "cells": [
  {
   "cell_type": "code",
   "execution_count": 1,
   "id": "9c4343bd-e29e-4486-850e-20285f64666c",
   "metadata": {},
   "outputs": [],
   "source": [
    "# # Declare two variables, `x` and `y`, and assign them integer values. Swap the values of these variables without using any temporary variable."
   ]
  },
  {
   "cell_type": "code",
   "execution_count": 2,
   "id": "0c4e7e19-6b24-4c6f-b59d-e8d731190778",
   "metadata": {},
   "outputs": [
    {
     "name": "stdout",
     "output_type": "stream",
     "text": [
      "7\n",
      "8\n"
     ]
    }
   ],
   "source": [
    "x = 8\n",
    "y = 7\n",
    "\n",
    "x = x+y \n",
    "y = x-y \n",
    "x = x-y \n",
    "print (x)\n",
    "print(y)"
   ]
  },
  {
   "cell_type": "code",
   "execution_count": 3,
   "id": "47353868-c63c-4b54-a9fa-b517d0e0635c",
   "metadata": {},
   "outputs": [],
   "source": [
    "#Create a program that calculates the area of a rectangle. Take the length and\n",
    "#width as inputs from the user and store them in variables. Calculate and\n",
    "#display the area."
   ]
  },
  {
   "cell_type": "code",
   "execution_count": 5,
   "id": "055198f1-6c68-474b-bad3-11326b3a2189",
   "metadata": {},
   "outputs": [
    {
     "name": "stdin",
     "output_type": "stream",
     "text": [
      " 4\n",
      " 4\n"
     ]
    },
    {
     "name": "stdout",
     "output_type": "stream",
     "text": [
      "16\n"
     ]
    }
   ],
   "source": [
    "length = int(input())\n",
    "width = int(input())\n",
    "\n",
    "area = length*width\n",
    "print(area)"
   ]
  },
  {
   "cell_type": "code",
   "execution_count": 6,
   "id": "bdc8548d-6c7a-42ca-a008-ad598c3d45b3",
   "metadata": {},
   "outputs": [],
   "source": [
    "#Write a Python program that converts temperatures from Celsius to\n",
    "#Fahrenheit. Take the temperature in Celsius as input, store it in a variable,\n",
    "#convert it to Fahrenheit, and display the result."
   ]
  },
  {
   "cell_type": "code",
   "execution_count": 7,
   "id": "e3aed9ae-ec62-4f2c-9bd1-ac9a8d823d3f",
   "metadata": {},
   "outputs": [
    {
     "name": "stdin",
     "output_type": "stream",
     "text": [
      "enter the temp 90\n"
     ]
    },
    {
     "name": "stdout",
     "output_type": "stream",
     "text": [
      "194.0\n"
     ]
    }
   ],
   "source": [
    "tem = float(input(\"enter the temp\"))\n",
    "f = tem*(9/5) + 32\n",
    "print(f)"
   ]
  },
  {
   "cell_type": "code",
   "execution_count": 8,
   "id": "a4b26259-27b4-4ff3-8862-9ef6c9f40ab0",
   "metadata": {},
   "outputs": [],
   "source": [
    "#Write a Python program that takes a string as input and prints the length of the string."
   ]
  },
  {
   "cell_type": "code",
   "execution_count": 9,
   "id": "5b6964d6-8f74-4b5b-b493-3190e34e65d3",
   "metadata": {},
   "outputs": [
    {
     "name": "stdin",
     "output_type": "stream",
     "text": [
      "enter the string shubham\n"
     ]
    },
    {
     "name": "stdout",
     "output_type": "stream",
     "text": [
      "7\n"
     ]
    }
   ],
   "source": [
    "std = input(\"enter the string\")\n",
    "ad = len(std)\n",
    "print(ad)"
   ]
  },
  {
   "cell_type": "code",
   "execution_count": 11,
   "id": "c0e34e5c-4766-4aa9-a5e3-c5d1efab1177",
   "metadata": {},
   "outputs": [],
   "source": [
    "#Create a program that takes a sentence from the user and counts the number of vowels (a, e, i, o, u) in the string."
   ]
  },
  {
   "cell_type": "code",
   "execution_count": 13,
   "id": "bca4bcb9-dc3c-4d18-b494-2877852f08db",
   "metadata": {},
   "outputs": [
    {
     "name": "stdin",
     "output_type": "stream",
     "text": [
      "enter the string hey hi my name is sanket and i am very irretating\n"
     ]
    },
    {
     "name": "stdout",
     "output_type": "stream",
     "text": [
      "15\n"
     ]
    }
   ],
   "source": [
    "a = input(\"enter the string\")\n",
    "vowel = []\n",
    "for i in a:\n",
    "    small = i.lower()\n",
    "    if small in \"aeiou\":\n",
    "        vowel.append(i)\n",
    "        \n",
    "print(len(vowel))"
   ]
  },
  {
   "cell_type": "code",
   "execution_count": 14,
   "id": "d26e1fcd-64a7-47ed-bbc4-ca113bc9c90b",
   "metadata": {},
   "outputs": [],
   "source": [
    "#Given a string, reverse the order of characters using string slicing and print the reversed string."
   ]
  },
  {
   "cell_type": "code",
   "execution_count": 18,
   "id": "8434222f-39b4-4f8a-aa32-1b39cfd96317",
   "metadata": {},
   "outputs": [
    {
     "name": "stdin",
     "output_type": "stream",
     "text": [
      "enter the your input my name is shubham\n"
     ]
    },
    {
     "data": {
      "text/plain": [
       "'mahbuhs si eman ym'"
      ]
     },
     "execution_count": 18,
     "metadata": {},
     "output_type": "execute_result"
    }
   ],
   "source": [
    "ad = input(\"enter the your input\")\n",
    "cd = ad[::-1]\n",
    "(cd)\n"
   ]
  },
  {
   "cell_type": "code",
   "execution_count": 1,
   "id": "3adcf686-e33d-4ca0-97d2-2701089619db",
   "metadata": {},
   "outputs": [
    {
     "name": "stdin",
     "output_type": "stream",
     "text": [
      "enter any sentence my name is shubham \n"
     ]
    },
    {
     "name": "stdout",
     "output_type": "stream",
     "text": [
      "its not a palindrome \n"
     ]
    }
   ],
   "source": [
    "#Write a program that takes a string as input and checks if it is a palindrome\n",
    "\n",
    "ab = input(\"enter any sentence\")\n",
    "cd = ab[::-1]\n",
    "if ab == cd : \n",
    "    print(\"its a palindrome\")\n",
    "else:\n",
    "    print(\"its not a palindrome \")"
   ]
  },
  {
   "cell_type": "code",
   "execution_count": null,
   "id": "66ab7c2d-fc76-48de-b305-af0344e64121",
   "metadata": {},
   "outputs": [],
   "source": [
    "# Create a program that takes a string as input and removes all the spaces from it. Print the modified string without spaces."
   ]
  },
  {
   "cell_type": "code",
   "execution_count": 3,
   "id": "5898ec70-0f9c-474c-b4dd-dd3ae059b19a",
   "metadata": {},
   "outputs": [
    {
     "name": "stdin",
     "output_type": "stream",
     "text": [
      "enter the sentence  my name is shubha m and i am not do i ng any thing \n"
     ]
    },
    {
     "name": "stdout",
     "output_type": "stream",
     "text": [
      "mynameisshubhamandiamnotdoinganything\n"
     ]
    }
   ],
   "source": [
    "ab  = input(\"enter the sentence \")\n",
    "cd =\"\"\n",
    "for i in ab:\n",
    "    if i !=\" \":\n",
    "        cd = cd+i\n",
    "        \n",
    "        \n",
    "        \n",
    "        \n",
    "\n",
    "print(cd) "
   ]
  },
  {
   "cell_type": "code",
   "execution_count": null,
   "id": "2411a327-43cc-4fb4-a477-2bd3592d870e",
   "metadata": {},
   "outputs": [],
   "source": []
  },
  {
   "cell_type": "code",
   "execution_count": null,
   "id": "7d171179-970c-4fa5-a374-d7e491ac0f21",
   "metadata": {},
   "outputs": [],
   "source": []
  }
 ],
 "metadata": {
  "kernelspec": {
   "display_name": "Python 3 (ipykernel)",
   "language": "python",
   "name": "python3"
  },
  "language_info": {
   "codemirror_mode": {
    "name": "ipython",
    "version": 3
   },
   "file_extension": ".py",
   "mimetype": "text/x-python",
   "name": "python",
   "nbconvert_exporter": "python",
   "pygments_lexer": "ipython3",
   "version": "3.10.8"
  }
 },
 "nbformat": 4,
 "nbformat_minor": 5
}
