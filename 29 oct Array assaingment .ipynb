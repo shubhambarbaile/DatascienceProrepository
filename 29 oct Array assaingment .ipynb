{
 "cells": [
  {
   "cell_type": "code",
   "execution_count": 18,
   "id": "21f987f5-c475-43dd-bead-8252ec60e7d5",
   "metadata": {},
   "outputs": [
    {
     "name": "stdout",
     "output_type": "stream",
     "text": [
      "True\n"
     ]
    }
   ],
   "source": [
    "\"\"\"1. Given an array, check if it contains any duplicates or not.\n",
    "arr = [1, 2, 4, 2, 5, 9]\n",
    "Output = True\"\"\"\n",
    "\n",
    "def duplicates(arr):\n",
    "    a = set()\n",
    "    for i in arr:\n",
    "        if i in a:\n",
    "            return True \n",
    "        a.add(i)\n",
    "    return False\n",
    "\n",
    "arr = [1, 2, 4, 2, 5, 9]\n",
    "print(duplicates(arr))"
   ]
  },
  {
   "cell_type": "code",
   "execution_count": 19,
   "id": "e2c4ae90-494a-430b-a8c3-6187250a8d3d",
   "metadata": {},
   "outputs": [
    {
     "name": "stdout",
     "output_type": "stream",
     "text": [
      "[5, 6, 7, 1, 2, 3, 4]\n"
     ]
    }
   ],
   "source": [
    "\"\"\"2. Given an array and an integer k, rotate the array to the right by k steps.\n",
    "arr = [1, 2, 3, 4, 5, 6, 7] k = 3\n",
    "Output = [5, 6, 7, 1, 2, 3, 4]\"\"\"\n",
    "\n",
    "\n",
    "def rotate(arr,k):\n",
    "    \n",
    "    a = len(arr)\n",
    "    k%=a\n",
    "    \n",
    "    if k == 0:\n",
    "        return arr\n",
    "    \n",
    "    b = arr[:-k]\n",
    "    c = arr[-k:]\n",
    "    \n",
    "    d = c+b\n",
    "    \n",
    "    return d \n",
    "\n",
    "\n",
    "arr = [1, 2, 3, 4, 5, 6, 7] \n",
    "k = 3\n",
    "print(rotate(arr,k))\n"
   ]
  },
  {
   "cell_type": "code",
   "execution_count": 9,
   "id": "f9154ce0-c49b-4df3-904d-8c0c9466f84b",
   "metadata": {},
   "outputs": [
    {
     "name": "stdout",
     "output_type": "stream",
     "text": [
      "2\n"
     ]
    }
   ],
   "source": [
    "\"\"\"Reverse the given array in-place, means without using any extra data structure.\n",
    "arr = [2, 4, 5, 7, 9, 12]\n",
    "Output = [12, 9, 7, 5, 4, 2]\"\"\"\n"
   ]
  },
  {
   "cell_type": "code",
   "execution_count": 10,
   "id": "1b8c8b54-05cb-4108-83b3-a8b5949ac9fc",
   "metadata": {},
   "outputs": [
    {
     "name": "stdout",
     "output_type": "stream",
     "text": [
      "20\n"
     ]
    }
   ],
   "source": [
    "\"\"\"4. Given an array of integers, find the maximum element in an array\n",
    "arr = [10, 5, 20, 8, 15]\n",
    "Output = 20\"\"\"\n",
    "\n",
    "def maximum(arr):\n",
    "    max_el = arr[0]\n",
    "    for i in arr:\n",
    "        if max_el < i:\n",
    "            max_el = i \n",
    "    return max_el\n",
    "arr = [10, 5, 20, 8, 15]\n",
    "print(maximum(arr))"
   ]
  },
  {
   "cell_type": "code",
   "execution_count": 17,
   "id": "465bcdf1-7961-4266-97db-c6f01a6adc44",
   "metadata": {},
   "outputs": [
    {
     "name": "stdout",
     "output_type": "stream",
     "text": [
      "[1, 2, 3, 4, 5]\n"
     ]
    }
   ],
   "source": [
    "\"\"\"Given a sorted array, remove the duplicate element without using any extra data structure.\n",
    "arr = [1, 1, 2, 2, 2, 3, 3, 4, 4, 4, 5, 5]\n",
    "Output = [1, 2, 3, 4, 5]\"\"\"\n",
    "\n",
    "def duplicates(arr):\n",
    "    index = 0 \n",
    "    for i in range(1,len(arr)):\n",
    "        if arr[index] != arr[i]:\n",
    "            index += 1\n",
    "            arr[index] = arr[i]\n",
    "    return arr[:index+1]\n",
    "\n",
    "arr = [1, 1, 2, 2, 2, 3, 3, 4, 4, 4, 5, 5]\n",
    "print(duplicates(arr))\n",
    "            \n",
    "            \n",
    "\n",
    "\n",
    "\n",
    "\n"
   ]
  },
  {
   "cell_type": "code",
   "execution_count": null,
   "id": "c03c2b38-7163-483d-b0a6-f90485f0295c",
   "metadata": {},
   "outputs": [],
   "source": []
  }
 ],
 "metadata": {
  "kernelspec": {
   "display_name": "Python 3 (ipykernel)",
   "language": "python",
   "name": "python3"
  },
  "language_info": {
   "codemirror_mode": {
    "name": "ipython",
    "version": 3
   },
   "file_extension": ".py",
   "mimetype": "text/x-python",
   "name": "python",
   "nbconvert_exporter": "python",
   "pygments_lexer": "ipython3",
   "version": "3.10.8"
  }
 },
 "nbformat": 4,
 "nbformat_minor": 5
}
