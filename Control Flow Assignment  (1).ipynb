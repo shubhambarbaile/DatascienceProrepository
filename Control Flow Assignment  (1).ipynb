{
 "cells": [
  {
   "cell_type": "code",
   "execution_count": 1,
   "id": "56f997e5-efc6-4f84-9950-75af3c567cbc",
   "metadata": {},
   "outputs": [
    {
     "name": "stdin",
     "output_type": "stream",
     "text": [
      "enter the number for checking 87\n"
     ]
    },
    {
     "name": "stdout",
     "output_type": "stream",
     "text": [
      "the number is positive\n"
     ]
    }
   ],
   "source": [
    "a = int(input(\"enter the number for checking\"))\n",
    "if a <0:\n",
    "    print(\"the number is negative\")\n",
    "else:\n",
    "    print(\"the number is positive\")"
   ]
  },
  {
   "cell_type": "code",
   "execution_count": 7,
   "id": "b74f4d26-761d-42cc-8a72-e59288aa6857",
   "metadata": {},
   "outputs": [
    {
     "name": "stdin",
     "output_type": "stream",
     "text": [
      "enter the age 10\n"
     ]
    },
    {
     "name": "stdout",
     "output_type": "stream",
     "text": [
      "the person is not elgible to vote\n"
     ]
    }
   ],
   "source": [
    "a = int(input(\"enter the age\"))\n",
    "if a <18:\n",
    "    print(\"the person is not elgible to vote\")\n",
    "else:\n",
    "    print(\"the person is eligible to vote\")"
   ]
  },
  {
   "cell_type": "code",
   "execution_count": 8,
   "id": "ab13d0bd-668b-4f1b-a743-ca99fc38cf8f",
   "metadata": {},
   "outputs": [
    {
     "name": "stdin",
     "output_type": "stream",
     "text": [
      "enter the number 3\n",
      "enter the number 5\n"
     ]
    },
    {
     "name": "stdout",
     "output_type": "stream",
     "text": [
      "5  is maximum\n"
     ]
    }
   ],
   "source": [
    "a = int(input(\"enter the number\"))\n",
    "b = int(input(\"enter the number\"))\n",
    "if a > b:\n",
    "    print(f\"{a} is maximum\")\n",
    "else:\n",
    "    print(f\"{b}  is maximum\")"
   ]
  },
  {
   "cell_type": "code",
   "execution_count": 12,
   "id": "3b092611-5cfe-4695-b7dd-104a998715da",
   "metadata": {},
   "outputs": [
    {
     "name": "stdin",
     "output_type": "stream",
     "text": [
      "enter the year 2000\n"
     ]
    },
    {
     "name": "stdout",
     "output_type": "stream",
     "text": [
      "the 2000 is leap year\n"
     ]
    }
   ],
   "source": [
    "a = int(input(\"enter the year\"))\n",
    "if (a %4 == 0 and a%100 != 0 ) or  (a%400 == 0):\n",
    "    print(f\"the {a} is leap year\")\n",
    "else:\n",
    "    print(f\"the {a} is not leap year\")"
   ]
  },
  {
   "cell_type": "code",
   "execution_count": 19,
   "id": "22f866d5-e26b-4657-aeda-4bb1694532d3",
   "metadata": {},
   "outputs": [
    {
     "name": "stdin",
     "output_type": "stream",
     "text": [
      "enter the word asf\n"
     ]
    },
    {
     "name": "stdout",
     "output_type": "stream",
     "text": [
      "the enter word is constant\n"
     ]
    }
   ],
   "source": [
    "a = input(\"enter the word\")\n",
    "if a in ('aeiou'):\n",
    "    print(\"the enter word is vowel\")\n",
    "else:\n",
    "    print(\"the enter word is constant\")"
   ]
  },
  {
   "cell_type": "code",
   "execution_count": 25,
   "id": "d697edf2-8cbc-40fe-93d9-3de01c5ece25",
   "metadata": {},
   "outputs": [
    {
     "name": "stdin",
     "output_type": "stream",
     "text": [
      "enter the number 9\n"
     ]
    },
    {
     "name": "stdout",
     "output_type": "stream",
     "text": [
      "it is the odd number\n"
     ]
    }
   ],
   "source": [
    "a = int(input(\"enter the number\"))\n",
    "if  a %2 ==0 :\n",
    "    print(\"it is the even number\")\n",
    "else:\n",
    "    print(\"it is the odd number\")\n",
    "    "
   ]
  },
  {
   "cell_type": "code",
   "execution_count": 28,
   "id": "f16617d8-fe2b-4dc3-b908-e6b30587f44c",
   "metadata": {},
   "outputs": [
    {
     "name": "stdin",
     "output_type": "stream",
     "text": [
      "enter the number -5\n"
     ]
    },
    {
     "name": "stdout",
     "output_type": "stream",
     "text": [
      "5.0\n"
     ]
    }
   ],
   "source": [
    "a = float(input(\"enter the number\"))\n",
    "if a >0:\n",
    "    print(a)\n",
    "else:\n",
    "    print(-a)"
   ]
  },
  {
   "cell_type": "code",
   "execution_count": 29,
   "id": "24c9d62d-986d-4b56-a8b1-0280fd2628cd",
   "metadata": {},
   "outputs": [
    {
     "name": "stdin",
     "output_type": "stream",
     "text": [
      "enter the number 4\n",
      "enter the number 5\n",
      "enter the number 65\n"
     ]
    },
    {
     "name": "stdout",
     "output_type": "stream",
     "text": [
      "65 is largest\n"
     ]
    }
   ],
   "source": [
    "a = int(input(\"enter the number\"))\n",
    "b = int(input(\"enter the number\"))\n",
    "c= int(input(\"enter the number\"))\n",
    "if a >b and a > c :\n",
    "    print(f\"{a}is largest\")\n",
    "elif b > a and b>c :\n",
    "    print(f\"{b} is largest\")\n",
    "else :\n",
    "    print(f\"{c} is largest\")\n"
   ]
  },
  {
   "cell_type": "code",
   "execution_count": 34,
   "id": "b18235b4-f1f6-42f3-abf2-dc33a3572436",
   "metadata": {},
   "outputs": [
    {
     "name": "stdin",
     "output_type": "stream",
     "text": [
      "enter the word eurb\n"
     ]
    },
    {
     "name": "stdout",
     "output_type": "stream",
     "text": [
      "False\n"
     ]
    }
   ],
   "source": [
    "def pali(word):\n",
    "    if word == word[::-1]:\n",
    "        return \"is palindrome\"\n",
    "    else:\n",
    "        return False \n",
    "word= input(\"enter the word\")\n",
    "res = pali(word)\n",
    "print(res)"
   ]
  },
  {
   "cell_type": "code",
   "execution_count": 39,
   "id": "b58061b5-9a4b-4bea-92cd-7ed12ed0070b",
   "metadata": {},
   "outputs": [
    {
     "name": "stdin",
     "output_type": "stream",
     "text": [
      "enter the marks 90\n"
     ]
    },
    {
     "name": "stdout",
     "output_type": "stream",
     "text": [
      "B\n"
     ]
    }
   ],
   "source": [
    "marks = int(input(\"enter the marks\"))\n",
    "if 100 < marks > 90:\n",
    "    print(\"A\")\n",
    "elif 90>=marks > 80:\n",
    "    print(\"B\")\n",
    "elif 80 >= marks >70:\n",
    "    print(\"C\")\n"
   ]
  },
  {
   "cell_type": "markdown",
   "id": "5379b807-4104-49b4-8ec8-d9fe245d6f09",
   "metadata": {},
   "source": [
    "Nested If else "
   ]
  },
  {
   "cell_type": "code",
   "execution_count": 7,
   "id": "e09f36d2-1397-4468-abee-94d39247c87a",
   "metadata": {},
   "outputs": [
    {
     "name": "stdin",
     "output_type": "stream",
     "text": [
      "enter the number 7\n",
      "enter the number 6\n",
      "enter the number 9\n"
     ]
    },
    {
     "name": "stdout",
     "output_type": "stream",
     "text": [
      "9\n"
     ]
    }
   ],
   "source": [
    "a = int(input(\"enter the number\"))\n",
    "b = int(input(\"enter the number\"))\n",
    "c= int(input(\"enter the number\"))\n",
    "if a > b :\n",
    "    if a > c :\n",
    "        largest = a\n",
    "    else:\n",
    "        largest = c\n",
    "else:\n",
    "    if b > c :\n",
    "        largest = b\n",
    "    else: \n",
    "        largest = c\n",
    "print(largest)\n",
    "        "
   ]
  },
  {
   "cell_type": "code",
   "execution_count": 10,
   "id": "4405bf86-5d44-4a55-8dc8-4ac1e5e8b826",
   "metadata": {},
   "outputs": [
    {
     "name": "stdin",
     "output_type": "stream",
     "text": [
      "enter the number 4\n",
      "enter the number 4\n",
      "enter the number 6\n"
     ]
    },
    {
     "name": "stdout",
     "output_type": "stream",
     "text": [
      "ISOSCELEUS\n"
     ]
    }
   ],
   "source": [
    "a = int(input(\"enter the number\"))\n",
    "b = int(input(\"enter the number\"))\n",
    "c= int(input(\"enter the number\"))\n",
    "if a==b:\n",
    "    if a ==c :\n",
    "        triangle = \"EQUILATERAL\"\n",
    "    else:\n",
    "        triangle = \"ISOSCELEUS\"\n",
    "else:\n",
    "    triangle = \"SCALEN\"\n",
    "print(triangle)\n",
    "    "
   ]
  },
  {
   "cell_type": "code",
   "execution_count": 35,
   "id": "0af78713-5874-4ff7-bdfb-e7c9d58ba170",
   "metadata": {},
   "outputs": [
    {
     "name": "stdin",
     "output_type": "stream",
     "text": [
      "enter the year 1900\n"
     ]
    },
    {
     "name": "stdout",
     "output_type": "stream",
     "text": [
      "not leap year\n"
     ]
    }
   ],
   "source": [
    "y = int(input(\"enter the year\"))\n",
    "if (y%4 == 0 and y%100 != 0) or (y%400 == 0):\n",
    "    a = True \n",
    "    if a == True:\n",
    "        if y%1000 == 0:\n",
    "            print('its leap and also centuary year')\n",
    "else:\n",
    "    a = 'not leap year'\n",
    "print(a)"
   ]
  },
  {
   "cell_type": "code",
   "execution_count": 43,
   "id": "a05fa44a-ecc9-4838-88a6-df675455bb01",
   "metadata": {},
   "outputs": [
    {
     "name": "stdin",
     "output_type": "stream",
     "text": [
      "enter the number 0\n"
     ]
    },
    {
     "name": "stdout",
     "output_type": "stream",
     "text": [
      "its zero\n"
     ]
    }
   ],
   "source": [
    "n= int(input(\"enter the number\"))\n",
    "if n == 0:\n",
    "    print(\"its zero\")\n",
    "if n > 0:\n",
    "    print(\"its positive\")\n",
    "elif n < 0:\n",
    "    print(\"its negative\")"
   ]
  },
  {
   "cell_type": "code",
   "execution_count": 50,
   "id": "fad3ce9d-81b7-4219-b96c-f729856ca8e9",
   "metadata": {},
   "outputs": [
    {
     "name": "stdin",
     "output_type": "stream",
     "text": [
      "enter the age 10\n"
     ]
    },
    {
     "name": "stdout",
     "output_type": "stream",
     "text": [
      "not teenager\n"
     ]
    }
   ],
   "source": [
    "age = int(input(\"enter the age\"))\n",
    "if age >=13:\n",
    "    if age <=19:\n",
    "        print(\"teenager\")\n",
    "    else:\n",
    "        print(\"not teenager\")\n",
    "else:\n",
    "    print(\"not teenager\")"
   ]
  },
  {
   "cell_type": "code",
   "execution_count": 55,
   "id": "a2cc560e-6743-4de0-a44c-4bd7e5fcfa0c",
   "metadata": {},
   "outputs": [
    {
     "name": "stdin",
     "output_type": "stream",
     "text": [
      "enter the angle 98.44\n"
     ]
    },
    {
     "name": "stdout",
     "output_type": "stream",
     "text": [
      "Abtuse angle\n"
     ]
    }
   ],
   "source": [
    "angle = float(input(\"enter the angle\"))\n",
    "if angle > 90.00:\n",
    "    print(\"Abtuse angle\")\n",
    "elif angle == 90.00:\n",
    "    print(\"Right angle\")\n",
    "else:\n",
    "    print(\"Acute angle\")"
   ]
  },
  {
   "cell_type": "code",
   "execution_count": 56,
   "id": "283a7ab6-ec3f-4a9f-a11e-b729e78d6a62",
   "metadata": {},
   "outputs": [
    {
     "name": "stdin",
     "output_type": "stream",
     "text": [
      "Enter coefficient a:  3\n",
      "Enter coefficient b:  4\n",
      "Enter coefficient c:  88\n"
     ]
    },
    {
     "name": "stdout",
     "output_type": "stream",
     "text": [
      "Root 1: -0.6666666666666666 + 5.374838498865699i\n",
      "Root 2: -0.6666666666666666 - 5.374838498865699i\n"
     ]
    }
   ],
   "source": [
    "import math\n",
    "\n",
    "# Input coefficients a, b, and c from the user\n",
    "a = float(input(\"Enter coefficient a: \"))\n",
    "b = float(input(\"Enter coefficient b: \"))\n",
    "c = float(input(\"Enter coefficient c: \"))\n",
    "\n",
    "# Calculate the discriminant\n",
    "discriminant = b**2 - 4*a*c\n",
    "\n",
    "# Check if the discriminant is positive, negative, or zero\n",
    "if discriminant > 0:\n",
    "    # Two real and distinct roots\n",
    "    root1 = (-b + math.sqrt(discriminant)) / (2*a)\n",
    "    root2 = (-b - math.sqrt(discriminant)) / (2*a)\n",
    "    print(f\"Root 1: {root1}\")\n",
    "    print(f\"Root 2: {root2}\")\n",
    "elif discriminant == 0:\n",
    "    # One real root (repeated)\n",
    "    root1 = -b / (2*a)\n",
    "    print(f\"Root: {root1}\")\n",
    "else:\n",
    "    # Complex roots\n",
    "    real_part = -b / (2*a)\n",
    "    imaginary_part = math.sqrt(abs(discriminant)) / (2*a)\n",
    "    print(f\"Root 1: {real_part} + {imaginary_part}i\")\n",
    "    print(f\"Root 2: {real_part} - {imaginary_part}i\")\n"
   ]
  },
  {
   "cell_type": "code",
   "execution_count": 64,
   "id": "c7089231-d6e1-4c20-91ba-6457e26103a1",
   "metadata": {},
   "outputs": [
    {
     "name": "stdin",
     "output_type": "stream",
     "text": [
      "enter the day 7\n"
     ]
    },
    {
     "name": "stdout",
     "output_type": "stream",
     "text": [
      "Sunday\n"
     ]
    }
   ],
   "source": [
    "day = int(input(\"enter the day\"))\n",
    "if day == 1:\n",
    "    print('Monday')\n",
    "elif day == 2:\n",
    "    print('Tuesday')\n",
    "elif day == 3:\n",
    "    print('Wednsday')\n",
    "elif day == 4:\n",
    "    print('Thursday')\n",
    "elif day == 5:\n",
    "    print('Friday')\n",
    "elif day == 6:\n",
    "    print('Saturday')\n",
    "elif day == 7:\n",
    "    print('Sunday')\n",
    "else:\n",
    "    print(\"not valid\")\n",
    "    "
   ]
  },
  {
   "cell_type": "code",
   "execution_count": 71,
   "id": "e54ee537-9081-442d-a542-48b135d6cc75",
   "metadata": {},
   "outputs": [
    {
     "name": "stdin",
     "output_type": "stream",
     "text": [
      "Enter a number:  83\n"
     ]
    },
    {
     "name": "stdout",
     "output_type": "stream",
     "text": [
      "83 is a prime number.\n"
     ]
    }
   ],
   "source": [
    "# Input a number from the user\n",
    "num = int(input(\"Enter a number: \"))\n",
    "\n",
    "# Check if the number is less than 2 (not prime)\n",
    "if num < 2:\n",
    "    is_prime = False\n",
    "else:\n",
    "    # Assume the number is prime until proven otherwise\n",
    "    is_prime = True\n",
    "    \n",
    "    # Check for factors from 2 to the square root of the number\n",
    "    for i in range(2, int(num**0.5) + 1):\n",
    "        if num % i == 0:\n",
    "            is_prime = False\n",
    "            break\n",
    "\n",
    "# Output the result\n",
    "if is_prime:\n",
    "    print(f\"{num} is a prime number.\")\n",
    "else:\n",
    "    print(f\"{num} is not a prime number.\")\n"
   ]
  },
  {
   "cell_type": "markdown",
   "id": "d1d6e5e3-1efb-4984-8491-cbbb24b91f27",
   "metadata": {},
   "source": [
    "Elif Statements:"
   ]
  },
  {
   "cell_type": "code",
   "execution_count": 4,
   "id": "0920233f-39c5-419d-9a6c-33541f9f5983",
   "metadata": {},
   "outputs": [
    {
     "name": "stdin",
     "output_type": "stream",
     "text": [
      "entet the grades 88\n"
     ]
    },
    {
     "name": "stdout",
     "output_type": "stream",
     "text": [
      "Grade - B\n"
     ]
    }
   ],
   "source": [
    "#Write a Python program to assign grades based on different ranges of scores using elif statements.\n",
    "\n",
    "total = int(input(\"entet the grades\"))\n",
    "if total >= 95:\n",
    "    print(\"Grade - A\")\n",
    "elif 95 > total >=85 :\n",
    "    print(\"Grade - B\")\n",
    "    \n",
    "elif 85 > total >=75:\n",
    "    print(\"Grade - C\")\n",
    "else:\n",
    "    print(\"Grade - D\")\n",
    "    "
   ]
  },
  {
   "cell_type": "code",
   "execution_count": 12,
   "id": "109e1c24-c67b-440c-91bc-3007b686da61",
   "metadata": {},
   "outputs": [
    {
     "name": "stdin",
     "output_type": "stream",
     "text": [
      "enter the angle 155\n",
      "enter the angle 15\n",
      "enter the angle 10\n"
     ]
    },
    {
     "name": "stdout",
     "output_type": "stream",
     "text": [
      "obtuuse angle triangle\n"
     ]
    }
   ],
   "source": [
    "#Implement a program to determine the type of a triangle based on its angles.\n",
    "\n",
    "def triangle(a,b,c):\n",
    "    if a+b+c != 180 or a<=0 or b <= 0 or c<=0:\n",
    "         return \"not a triangle\"\n",
    "    if a == 90 or b ==90 or c == 90:\n",
    "        return \"Right angle triangle\"\n",
    "    \n",
    "    elif a < 90 and b< 90 and c<90 :\n",
    "        return \"acute angle triangle\"\n",
    "    else:\n",
    "        return \"obtuuse angle triangle\"\n",
    "a = int(input(\"enter the angle\"))\n",
    "b = int(input(\"enter the angle\"))\n",
    "c = int(input(\"enter the angle\"))\n",
    "result = triangle(a,b,c)\n",
    "print(result)"
   ]
  },
  {
   "cell_type": "code",
   "execution_count": 19,
   "id": "c534af9d-1ad9-465c-86e1-337b71d8cd9e",
   "metadata": {},
   "outputs": [
    {
     "name": "stdin",
     "output_type": "stream",
     "text": [
      "enter the height in meters 1.5\n",
      "enter the weight in kg  65\n"
     ]
    },
    {
     "name": "stdout",
     "output_type": "stream",
     "text": [
      "overweight\n"
     ]
    }
   ],
   "source": [
    "#Develop a program to categorize a given person's BMI into underweight, normal, overweight, or obese using elif statements.\n",
    "\n",
    "height = float(input(\"enter the height in meters\"))\n",
    "weight = int(input(\"enter the weight in kg \"))\n",
    "\n",
    "if weight/height**2 < 18 :\n",
    "    print(\"underweight\")\n",
    "elif 25 >weight/height**2 >18:\n",
    "    print(\"good\")\n",
    "elif 45>weight/height**2 >25:\n",
    "    print(\"overweight\")"
   ]
  },
  {
   "cell_type": "code",
   "execution_count": 23,
   "id": "3c3eb7b8-c94c-44f0-9b6f-830684bd02e3",
   "metadata": {},
   "outputs": [
    {
     "name": "stdin",
     "output_type": "stream",
     "text": [
      "enter the number -8\n"
     ]
    },
    {
     "name": "stdout",
     "output_type": "stream",
     "text": [
      "Negative\n"
     ]
    }
   ],
   "source": [
    "a = int(input(\"enter the number\"))\n",
    "if a == 0:\n",
    "    print(\"its 0\")\n",
    "elif a > 0 :\n",
    "    print(\"Positive\")\n",
    "elif a < 0 :\n",
    "    print(\"Negative\")"
   ]
  },
  {
   "cell_type": "code",
   "execution_count": 1,
   "id": "838483dd-f372-4659-b3bf-2997d69af66e",
   "metadata": {},
   "outputs": [
    {
     "name": "stdin",
     "output_type": "stream",
     "text": [
      " rgrhh\n"
     ]
    },
    {
     "name": "stdout",
     "output_type": "stream",
     "text": [
      "Lower\n"
     ]
    }
   ],
   "source": [
    "def char(word):\n",
    "    if 'A' <= word <= 'Z':\n",
    "        return \"Uppercase\"\n",
    "    elif 'a' <= word <='z':\n",
    "        return \"Lower\"\n",
    "    else:\n",
    "        return \"Special\"\n",
    "    \n",
    "word = input()\n",
    "res = char(word)\n",
    "print(res)"
   ]
  },
  {
   "cell_type": "code",
   "execution_count": 2,
   "id": "e2b8e62d-ade6-4a68-a0ef-394e25695f64",
   "metadata": {},
   "outputs": [
    {
     "name": "stdin",
     "output_type": "stream",
     "text": [
      "enter the total price 800\n"
     ]
    },
    {
     "name": "stdout",
     "output_type": "stream",
     "text": [
      "760.0\n"
     ]
    }
   ],
   "source": [
    "#Implement a program to calculate the discounted price based on different purchase amounts using elif statements.\n",
    "def discouted(total):\n",
    "    if 1000 > total >500:\n",
    "        return total*0.95\n",
    "    elif 2000 > total > 1000:\n",
    "        return total*0.85\n",
    "    elif 3000>total>2000:\n",
    "        return total*0.80\n",
    "    elif total > 3000 :\n",
    "        return total*0.70\n",
    "    \n",
    "total = int(input(\"enter the total price\"))\n",
    "result = discouted(total)\n",
    "print(result)"
   ]
  },
  {
   "cell_type": "code",
   "execution_count": 5,
   "id": "16903727-3d79-4115-9fd9-a8b3dfa99e98",
   "metadata": {},
   "outputs": [
    {
     "name": "stdin",
     "output_type": "stream",
     "text": [
      "enter the total 78\n"
     ]
    },
    {
     "name": "stdout",
     "output_type": "stream",
     "text": [
      "624\n"
     ]
    }
   ],
   "source": [
    "def bill(total):\n",
    "    if 100>total>=0:\n",
    "        return total*8\n",
    "    elif 200>total>=100:\n",
    "        return total*10\n",
    "    elif 300>total>=200:\n",
    "        return total*12\n",
    "    elif 1000>total>=300:\n",
    "        return total*15\n",
    "total = int(input(\"enter the total\"))\n",
    "result = bill(total)\n",
    "print(result)"
   ]
  },
  {
   "cell_type": "code",
   "execution_count": 6,
   "id": "c9e3bb2f-58a5-451a-aca1-0178a355110c",
   "metadata": {},
   "outputs": [
    {
     "name": "stdout",
     "output_type": "stream",
     "text": [
      "The given quadrilateral is a Parallelogram.\n"
     ]
    }
   ],
   "source": [
    "def determine_quadrilateral_type(a, b, c, d, A, B, C, D):\n",
    "    # Check if it's a parallelogram\n",
    "    if A == C and B == D:\n",
    "        if a == c and b == d:\n",
    "            return \"Rectangle\"\n",
    "        elif a == b == c == d:\n",
    "            return \"Square\"\n",
    "        else:\n",
    "            return \"Parallelogram\"\n",
    "    \n",
    "    # Check if it's a trapezoid\n",
    "    elif A == C or B == D:\n",
    "        return \"Trapezoid\"\n",
    "    \n",
    "    # Check if it's a kite\n",
    "    elif (A == B and C != D) or (A != B and C == D):\n",
    "        return \"Kite\"\n",
    "    \n",
    "    # Check if it's a rhombus\n",
    "    elif a == b == c == d:\n",
    "        return \"Rhombus\"\n",
    "    \n",
    "    # Otherwise, it's a general quadrilateral\n",
    "    else:\n",
    "        return \"Quadrilateral\"\n",
    "\n",
    "# Example usage\n",
    "side_lengths = [4, 4, 6, 6]\n",
    "angle_measures = [90, 90, 90, 90]\n",
    "\n",
    "result = determine_quadrilateral_type(*side_lengths, *angle_measures)\n",
    "print(f\"The given quadrilateral is a {result}.\")\n"
   ]
  },
  {
   "cell_type": "code",
   "execution_count": 11,
   "id": "76560f8d-3d08-481f-8528-362cf596b50f",
   "metadata": {},
   "outputs": [
    {
     "name": "stdin",
     "output_type": "stream",
     "text": [
      "enter the no of month  7\n"
     ]
    },
    {
     "name": "stdout",
     "output_type": "stream",
     "text": [
      "monsoon\n"
     ]
    }
   ],
   "source": [
    "def season(no_month):\n",
    "    if no_month in range(2,6):\n",
    "        return \"summer\"\n",
    "    elif no_month in range(6,10):\n",
    "        return \"monsoon\"\n",
    "    else:\n",
    "        return \"winter\"\n",
    "    \n",
    "no_month = int(input(\"enter the no of month \"))\n",
    "result = season(no_month)\n",
    "print(result)\n",
    "\n",
    "    "
   ]
  },
  {
   "cell_type": "code",
   "execution_count": 12,
   "id": "91deadaf-fabf-4a25-affd-e3ee7c2d5a81",
   "metadata": {},
   "outputs": [
    {
     "name": "stdin",
     "output_type": "stream",
     "text": [
      " 2000\n",
      " 3\n"
     ]
    },
    {
     "name": "stdout",
     "output_type": "stream",
     "text": [
      "31\n"
     ]
    }
   ],
   "source": [
    "def is_leap_year(year):\n",
    "    if (year % 4 == 0 and year % 100 != 0) or (year % 400 == 0):\n",
    "        return True\n",
    "    else:\n",
    "        return False\n",
    "\n",
    "def days_in_month(month, year):\n",
    "    if month in [1, 3, 5, 7, 8, 10, 12]:\n",
    "        return 31\n",
    "    elif month in [4, 6, 9, 11]:\n",
    "        return 30\n",
    "    elif month == 2:\n",
    "        if is_leap_year(year):\n",
    "            return 29\n",
    "        else:\n",
    "            return 28\n",
    "year = int(input())\n",
    "month = int(input())\n",
    "leap_status = \"leap\" if is_leap_year(year) else \"common\"\n",
    "res = days_in_month(month,year)\n",
    "print(res)"
   ]
  },
  {
   "cell_type": "markdown",
   "id": "066661a5-7c73-4422-b8c9-b6153ee6ad6c",
   "metadata": {},
   "source": [
    "Basic Level:"
   ]
  },
  {
   "cell_type": "code",
   "execution_count": 4,
   "id": "17a1be0b-e63b-4667-8b10-beb1c37023ca",
   "metadata": {},
   "outputs": [
    {
     "name": "stdin",
     "output_type": "stream",
     "text": [
      " 0\n"
     ]
    },
    {
     "name": "stdout",
     "output_type": "stream",
     "text": [
      "it is zero\n"
     ]
    }
   ],
   "source": [
    "#Write a Python program that checks if a given number is positive, negative, or zero.\n",
    "def number(n):\n",
    "    if n == 0:\n",
    "        return \"it is zero\"\n",
    "    elif n > 0 :\n",
    "        return \"Positive\"\n",
    "    elif n<0:\n",
    "        return \"Negative\"\n",
    "n = int(input())\n",
    "resu = number(n)\n",
    "print(resu)"
   ]
  },
  {
   "cell_type": "code",
   "execution_count": 10,
   "id": "a323e327-e564-46f8-ba4b-3857f83d567a",
   "metadata": {},
   "outputs": [
    {
     "name": "stdin",
     "output_type": "stream",
     "text": [
      " 17\n"
     ]
    },
    {
     "name": "stdout",
     "output_type": "stream",
     "text": [
      "Not Eligible\n"
     ]
    }
   ],
   "source": [
    "#Create a program to determine if a person is eligible to vote based on their age.\n",
    "\n",
    "def vote(age):\n",
    "    if age >=18:\n",
    "        return \"Eligible\"\n",
    "    else:\n",
    "        return \"Not Eligible\"\n",
    "    \n",
    "age = int(input())\n",
    "res = vote(age)\n",
    "print(res)"
   ]
  },
  {
   "cell_type": "code",
   "execution_count": 12,
   "id": "2e533bdc-9c78-434c-afef-bcfdabc3e564",
   "metadata": {},
   "outputs": [
    {
     "name": "stdin",
     "output_type": "stream",
     "text": [
      " 4\n",
      " 5\n"
     ]
    },
    {
     "name": "stdout",
     "output_type": "stream",
     "text": [
      "5\n"
     ]
    }
   ],
   "source": [
    "#Write a program to find the maximum of two given numbers using conditional statements.\n",
    "\n",
    "def number(a,b):\n",
    "    if a>b:\n",
    "        return a\n",
    "    else:\n",
    "        return b \n",
    "a = int(input())\n",
    "b = int(input())\n",
    "result = number(a,b)\n",
    "print(result) "
   ]
  },
  {
   "cell_type": "code",
   "execution_count": 14,
   "id": "84534a04-22bb-4248-bd48-3f8411a4e120",
   "metadata": {},
   "outputs": [
    {
     "name": "stdin",
     "output_type": "stream",
     "text": [
      "enter the score 95\n"
     ]
    },
    {
     "name": "stdout",
     "output_type": "stream",
     "text": [
      "A\n"
     ]
    }
   ],
   "source": [
    "#Develop a program that calculates the grade of a student based on their exam score.\n",
    "def grade(score):\n",
    "    if score > 90:\n",
    "        return \"A\"\n",
    "    elif 90>= score>80:\n",
    "        return \"B\"\n",
    "    elif 80>= score > 70 :\n",
    "        return \"C\"\n",
    "score = int(input(\"enter the score\"))\n",
    "result = grade(score)\n",
    "print(result)"
   ]
  },
  {
   "cell_type": "code",
   "execution_count": 19,
   "id": "17206a84-a58b-47f9-b557-dd92825c7415",
   "metadata": {},
   "outputs": [
    {
     "name": "stdin",
     "output_type": "stream",
     "text": [
      " 2016\n"
     ]
    },
    {
     "name": "stdout",
     "output_type": "stream",
     "text": [
      "leap year\n"
     ]
    }
   ],
   "source": [
    "#Create a program that checks if a year is a leap year or not.\n",
    "\n",
    "def leap(year):\n",
    "    if (year % 4 == 0 or year%400 ==0) and year%100!=0:\n",
    "        return \"leap year\"\n",
    "    else:\n",
    "        return \"not leap year\"\n",
    "year = int(input())\n",
    "result = leap(year)\n",
    "print(result)"
   ]
  },
  {
   "cell_type": "code",
   "execution_count": 24,
   "id": "0b944199-0f26-491e-9cf0-450358d466ed",
   "metadata": {},
   "outputs": [
    {
     "name": "stdin",
     "output_type": "stream",
     "text": [
      " 6\n",
      " 6\n",
      " 8\n"
     ]
    },
    {
     "name": "stdout",
     "output_type": "stream",
     "text": [
      "Isoseles triangel\n"
     ]
    }
   ],
   "source": [
    "# Write a program to classify a triangle based on its sides' lengths.\n",
    "def treangle(a,b,c):\n",
    "    if a == b and b == c:\n",
    "        return \"Equilateral triangle\"\n",
    "    elif a ==b or b ==c or c==a :\n",
    "        return \"Isoseles triangel\"\n",
    "    else:\n",
    "        return \"Right Triangle\"\n",
    "a = int(input())\n",
    "b = int(input())\n",
    "c = int(input())\n",
    "result = treangle(a,b,c)\n",
    "print(result)\n"
   ]
  },
  {
   "cell_type": "code",
   "execution_count": 26,
   "id": "7747f7b3-a40b-407f-a850-1fb49ff42b40",
   "metadata": {},
   "outputs": [
    {
     "name": "stdin",
     "output_type": "stream",
     "text": [
      " 4\n",
      " 3\n",
      " 5\n"
     ]
    },
    {
     "name": "stdout",
     "output_type": "stream",
     "text": [
      "5 is greatest\n"
     ]
    }
   ],
   "source": [
    "#Build a program that determines the largest of three given numbers.\n",
    "def maximum(a,b,c):\n",
    "    if a > b and b> c:\n",
    "        return  f\"{a} is greastet\"\n",
    "    elif b>a and b>c:\n",
    "        return f\"{b} is greatest\"\n",
    "    else:\n",
    "        return f\"{c} is greatest\"\n",
    "\n",
    "a = int(input())\n",
    "b = int(input())\n",
    "c = int(input())\n",
    "result = maximum(a,b,c)\n",
    "print(result)"
   ]
  },
  {
   "cell_type": "code",
   "execution_count": 32,
   "id": "c0bc972e-8928-401c-93cd-b4e131dea30e",
   "metadata": {},
   "outputs": [
    {
     "name": "stdin",
     "output_type": "stream",
     "text": [
      " r\n"
     ]
    },
    {
     "name": "stdout",
     "output_type": "stream",
     "text": [
      "Constant\n"
     ]
    }
   ],
   "source": [
    "#Develop a program that checks whether a character is a vowel or a consonant.\n",
    "def char(word):\n",
    "    if word in 'aeiouAEIOU':\n",
    "        return \"Vowel\"\n",
    "    else:\n",
    "        return \"Constant\"\n",
    "    \n",
    "word = input()\n",
    "result = char(word)\n",
    "print(result)\n"
   ]
  },
  {
   "cell_type": "code",
   "execution_count": 36,
   "id": "1dee6d76-8cbb-4da5-9ab0-5dd2a0b5de62",
   "metadata": {},
   "outputs": [
    {
     "name": "stdin",
     "output_type": "stream",
     "text": [
      " 400\n"
     ]
    },
    {
     "name": "stdout",
     "output_type": "stream",
     "text": [
      "NO DISCOUT\n"
     ]
    }
   ],
   "source": [
    "#Create a program to calculate the total cost of a shopping cart based on discounts.\n",
    "\n",
    "def total(n):\n",
    "    if n>5000:\n",
    "        return n*0.75\n",
    "    elif 5000>=n>3000:\n",
    "        return n*0.85\n",
    "    elif 3000>=n>1000:\n",
    "        return n*0.95\n",
    "    else:\n",
    "        return \"NO DISCOUT\"\n",
    "n = int(input())\n",
    "result = total(n)\n",
    "print(result)"
   ]
  },
  {
   "cell_type": "code",
   "execution_count": 40,
   "id": "fb9e4717-fadb-44ee-a0a0-9d8a30037ab8",
   "metadata": {},
   "outputs": [
    {
     "name": "stdin",
     "output_type": "stream",
     "text": [
      " 87\n"
     ]
    },
    {
     "name": "stdout",
     "output_type": "stream",
     "text": [
      "odd\n"
     ]
    }
   ],
   "source": [
    "#Write a program that checks if a given number is even or odd.\n",
    "def even_odd(n):\n",
    "    if n%2==0:\n",
    "        return \"even\"\n",
    "    else:\n",
    "        return \"odd\"\n",
    "n = int(input())\n",
    "result = even_odd(n)\n",
    "print(result)"
   ]
  },
  {
   "cell_type": "markdown",
   "id": "12cb738b-e66f-4156-b070-d441913df728",
   "metadata": {},
   "source": [
    "Intermidiate "
   ]
  },
  {
   "cell_type": "code",
   "execution_count": 5,
   "id": "5a5ed268-91f9-4e5a-b260-076a1f5d0808",
   "metadata": {},
   "outputs": [
    {
     "name": "stdin",
     "output_type": "stream",
     "text": [
      "Enter the coefficient a:  6\n",
      "Enter the coefficient b:  4\n",
      "Enter the coefficient c:  65\n"
     ]
    },
    {
     "name": "stdout",
     "output_type": "stream",
     "text": [
      "Root 1: (-0.3333333333333333+3.2744804507314167j)\n",
      "Root 2: (-0.3333333333333333-3.2744804507314167j)\n"
     ]
    }
   ],
   "source": [
    "#Write a program that calculates the roots of a quadratic equation .\n",
    "\n",
    "import math\n",
    "\n",
    "def calculate_roots(a, b, c):\n",
    "    # Calculate the discriminant\n",
    "    delta = b**2 - 4*a*c\n",
    "\n",
    "    # Check if roots are real or complex\n",
    "    if delta >= 0:\n",
    "        root1 = (-b + math.sqrt(delta)) / (2*a)\n",
    "        root2 = (-b - math.sqrt(delta)) / (2*a)\n",
    "        return root1, root2\n",
    "    else:\n",
    "        # If roots are complex, return them as a tuple\n",
    "        real_part = -b / (2*a)\n",
    "        imaginary_part = math.sqrt(abs(delta)) / (2*a)\n",
    "        root1 = complex(real_part, imaginary_part)\n",
    "        root2 = complex(real_part, -imaginary_part)\n",
    "        return root1, root2\n",
    "\n",
    "# Get coefficients from the user\n",
    "a = float(input(\"Enter the coefficient a: \"))\n",
    "b = float(input(\"Enter the coefficient b: \"))\n",
    "c = float(input(\"Enter the coefficient c: \"))\n",
    "\n",
    "# Calculate and display the roots\n",
    "roots = calculate_roots(a, b, c)\n",
    "print(\"Root 1:\", roots[0])\n",
    "print(\"Root 2:\", roots[1])\n"
   ]
  },
  {
   "cell_type": "code",
   "execution_count": 6,
   "id": "6ae823e8-7dda-4502-bf8a-5c66e8149df5",
   "metadata": {},
   "outputs": [
    {
     "name": "stdin",
     "output_type": "stream",
     "text": [
      " 5\n"
     ]
    },
    {
     "name": "stdout",
     "output_type": "stream",
     "text": [
      "Thursday\n"
     ]
    }
   ],
   "source": [
    "def day(n):\n",
    "    if n == 1:\n",
    "        return \"sunday\"\n",
    "    elif n==2:\n",
    "        return \"Monday\"\n",
    "    elif n ==3 :\n",
    "        return \"Tuesday\"\n",
    "    elif n ==4:\n",
    "        return \"Wednsday\"\n",
    "    elif n ==5:\n",
    "        return \"Thursday\"\n",
    "    elif n ==6:\n",
    "        return \"Friday\"\n",
    "    elif n ==7:\n",
    "        return \"Saturday\"\n",
    "    else:\n",
    "        return \"invalid input\"\n",
    "n = int(input())\n",
    "result = day(n)\n",
    "print(result)"
   ]
  },
  {
   "cell_type": "code",
   "execution_count": 9,
   "id": "b6b386f6-7965-4385-8708-84d8118dc6fb",
   "metadata": {},
   "outputs": [
    {
     "name": "stdin",
     "output_type": "stream",
     "text": [
      " 6\n"
     ]
    },
    {
     "name": "stdout",
     "output_type": "stream",
     "text": [
      "720\n"
     ]
    }
   ],
   "source": [
    "#Develop a program that calculates the factorial of a given number using recursion.\n",
    "\n",
    "def fact(n):\n",
    "    if n == 1:\n",
    "        return 1 \n",
    "    else:\n",
    "        return n*fact(n-1)\n",
    "    \n",
    "n = int(input())\n",
    "result = fact(n)\n",
    "print(result)"
   ]
  },
  {
   "cell_type": "code",
   "execution_count": 12,
   "id": "1c10ba54-2968-4abb-b01a-b2c10f1c26d0",
   "metadata": {},
   "outputs": [
    {
     "name": "stdin",
     "output_type": "stream",
     "text": [
      " 4\n",
      " 65\n",
      " 77\n"
     ]
    },
    {
     "name": "stdout",
     "output_type": "stream",
     "text": [
      "77\n"
     ]
    }
   ],
   "source": [
    "#Write a program to find the largest among three numbers without using the `max()` function.\n",
    "\n",
    "def maximum(a,b,c):\n",
    "    if a > b and a >c :\n",
    "        return a\n",
    "    elif b >a and b >c:\n",
    "        return b \n",
    "    else:\n",
    "        return c\n",
    "\n",
    "\n",
    "a = int(input())\n",
    "b = int(input())\n",
    "c  = int(input())\n",
    "result = maximum(a,b,c)\n",
    "\n",
    "print(result)"
   ]
  },
  {
   "cell_type": "code",
   "execution_count": 6,
   "id": "92216133-5e76-4cc8-99d9-da3333c2c8e2",
   "metadata": {},
   "outputs": [
    {
     "name": "stdin",
     "output_type": "stream",
     "text": [
      "enter the amount 77\n"
     ]
    },
    {
     "name": "stdout",
     "output_type": "stream",
     "text": [
      "enter the pin for transaction: \n",
      " your balance is 77\n"
     ]
    }
   ],
   "source": [
    "def ATM(n):\n",
    "    print(\"enter the pin for transaction: \")\n",
    "    if n > 0:\n",
    "        return (f\" your balance is {n}\")\n",
    "    else:\n",
    "        return (f\"your balance is zero\")\n",
    "\n",
    "n = int(input(\"enter the amount\"))\n",
    "print(ATM(n))\n",
    "    "
   ]
  },
  {
   "cell_type": "code",
   "execution_count": 9,
   "id": "d43b896b-a53c-4b27-9d76-618984ba3e50",
   "metadata": {},
   "outputs": [
    {
     "name": "stdin",
     "output_type": "stream",
     "text": [
      " eye\n"
     ]
    },
    {
     "name": "stdout",
     "output_type": "stream",
     "text": [
      "PALINDROME\n"
     ]
    }
   ],
   "source": [
    "def palindrome(string):\n",
    "        if string[::] == string[::-1]:\n",
    "            return \"PALINDROME\"\n",
    "        else:\n",
    "            return \"NOT PALINDROME\"\n",
    "        \n",
    "string = input()\n",
    "res = palindrome(string)\n",
    "print(res)\n",
    "    \n"
   ]
  },
  {
   "cell_type": "code",
   "execution_count": 15,
   "id": "58c6f252-a6fc-41eb-8344-c55734243306",
   "metadata": {},
   "outputs": [
    {
     "name": "stdout",
     "output_type": "stream",
     "text": [
      "4.0\n"
     ]
    }
   ],
   "source": [
    "def calculate_average(numbers):\n",
    "    if len(numbers) < 3:\n",
    "        return \"List should have at least three elements for meaningful calculation.\"\n",
    "\n",
    "    # Exclude the smallest and largest values\n",
    "    numbers.sort()\n",
    "    excluded_numbers = numbers[1:-1]\n",
    "\n",
    "    # Calculate the average\n",
    "    average = sum(excluded_numbers) / len(excluded_numbers)\n",
    "    return average\n",
    "\n",
    "\n",
    "numbers = [1,2,3,4,5,6,69]\n",
    "print(calculate_average(numbers))"
   ]
  },
  {
   "cell_type": "code",
   "execution_count": 21,
   "id": "ec3fb392-a250-467a-90ad-ae29b17a6dcc",
   "metadata": {},
   "outputs": [
    {
     "name": "stdin",
     "output_type": "stream",
     "text": [
      " 0\n"
     ]
    },
    {
     "name": "stdout",
     "output_type": "stream",
     "text": [
      "32\n"
     ]
    }
   ],
   "source": [
    "def temp(n):\n",
    "    if n != 0:\n",
    "        return (n*1.8)+32\n",
    "    else:\n",
    "        return 32\n",
    "n = int(input())\n",
    "print(temp(n))\n",
    "\n",
    "    "
   ]
  },
  {
   "cell_type": "code",
   "execution_count": 31,
   "id": "9a4d8425-d216-4873-9821-43038f26c689",
   "metadata": {},
   "outputs": [
    {
     "name": "stdin",
     "output_type": "stream",
     "text": [
      "Enter the method you want to apply:  addition\n",
      "Enter the first number:  5\n",
      "Enter the second number:  5\n"
     ]
    },
    {
     "name": "stdout",
     "output_type": "stream",
     "text": [
      "10.0\n"
     ]
    }
   ],
   "source": [
    "def met(method, a, b):\n",
    "    if method == \"addition\":\n",
    "        return a + b\n",
    "    elif method == \"subtraction\":\n",
    "        return a - b\n",
    "    elif method == 'multiplication':\n",
    "        return a * b\n",
    "    elif method ==\"division\":\n",
    "        return a / b\n",
    "    else:\n",
    "        return f\"Invalid method: {method}\"\n",
    "\n",
    "method = input(\"Enter the method you want to apply: \")\n",
    "a = float(input(\"Enter the first number: \"))\n",
    "b = float(input(\"Enter the second number: \"))\n",
    "result = met(method, a, b)\n",
    "\n",
    "print(result)\n"
   ]
  },
  {
   "cell_type": "code",
   "execution_count": 32,
   "id": "36cb4e44-c501-4793-9991-fea296cd724e",
   "metadata": {},
   "outputs": [
    {
     "name": "stdin",
     "output_type": "stream",
     "text": [
      "Enter the coefficient a:  5\n",
      "Enter the coefficient b:  4\n",
      "Enter the coefficient c:  67\n",
      "Enter the coefficient d:  35\n"
     ]
    },
    {
     "name": "stdout",
     "output_type": "stream",
     "text": [
      "The roots of the cubic equation are: [56.07632290329101, -52.64767703415418, -4.228645869136814]\n"
     ]
    }
   ],
   "source": [
    "import math\n",
    "\n",
    "def cubic_roots(a, b, c, d):\n",
    "    # Calculate discriminant and its cube root\n",
    "    delta = 18 * a * b * c * d - 4 * b**3 * d + b**2 * c**2 - 4 * a * c**3 - 27 * a**2 * d**2\n",
    "    cube_root_delta = math.pow(abs(delta), 1/3)\n",
    "\n",
    "    # Calculate intermediate values\n",
    "    delta_0 = b**2 - 3 * a * c\n",
    "    delta_1 = 2 * b**3 - 9 * a * b * c + 27 * a**2 * d\n",
    "\n",
    "    # Calculate roots\n",
    "    if delta > 0:\n",
    "        # One real root and two complex roots\n",
    "        sqrt_delta_0 = math.sqrt(abs(delta_0))\n",
    "        root_A = -1 / (3 * a) * (b + math.copysign(sqrt_delta_0, delta_0) + delta_1 / (b * sqrt_delta_0))\n",
    "        return [root_A]\n",
    "\n",
    "    elif delta < 0:\n",
    "        # Three real roots\n",
    "        phi = math.acos(delta_1 / (2 * math.sqrt(abs(delta_0)**3)))\n",
    "        sqrt_delta_0 = math.sqrt(abs(delta_0))\n",
    "        root_A = -2 * math.copysign(sqrt_delta_0, delta_0) * math.cos(phi / 3) - b / (3 * a)\n",
    "        root_B = -2 * math.copysign(sqrt_delta_0, delta_0) * math.cos((phi + 2 * math.pi) / 3) - b / (3 * a)\n",
    "        root_C = -2 * math.copysign(sqrt_delta_0, delta_0) * math.cos((phi + 4 * math.pi) / 3) - b / (3 * a)\n",
    "        return [root_A, root_B, root_C]\n",
    "\n",
    "    else:\n",
    "        # Three real and identical roots\n",
    "        root_A = -1 / (3 * a) * (b + cube_root_delta + delta_1 / cube_root_delta)\n",
    "        root_B = -1 / (3 * a) * (b + math.cos(2 * math.pi / 3) * cube_root_delta + delta_1 / (math.cos(2 * math.pi / 3) * cube_root_delta))\n",
    "        root_C = -1 / (3 * a) * (b + math.cos(4 * math.pi / 3) * cube_root_delta + delta_1 / (math.cos(4 * math.pi / 3) * cube_root_delta))\n",
    "        return [root_A, root_B, root_C]\n",
    "\n",
    "# Example usage\n",
    "a = float(input(\"Enter the coefficient a: \"))\n",
    "b = float(input(\"Enter the coefficient b: \"))\n",
    "c = float(input(\"Enter the coefficient c: \"))\n",
    "d = float(input(\"Enter the coefficient d: \"))\n",
    "\n",
    "roots = cubic_roots(a, b, c, d)\n",
    "print(f\"The roots of the cubic equation are: {roots}\")\n"
   ]
  },
  {
   "cell_type": "markdown",
   "id": "d42c55e8-6ddd-4157-b87b-1f5590c2f830",
   "metadata": {},
   "source": [
    "Advanced Level:"
   ]
  },
  {
   "cell_type": "code",
   "execution_count": 2,
   "id": "af5c984c-bf48-48f3-ad31-92f91deba1ce",
   "metadata": {},
   "outputs": [
    {
     "name": "stdin",
     "output_type": "stream",
     "text": [
      " 50000\n"
     ]
    },
    {
     "name": "stdout",
     "output_type": "stream",
     "text": [
      "Below Tax limit\n"
     ]
    }
   ],
   "source": [
    "#Create a program that calculates the income tax based on the user's income and tax brackets.\n",
    "\n",
    "def tax(income):\n",
    "    if income < 500000:\n",
    "        return \"Below Tax limit\"\n",
    "    elif 150000>income > 50000:\n",
    "        return \"your tax is\",income*0.005\n",
    "    elif  1000000 > income >150000:\n",
    "        return \"your tax is\",income*0.015\n",
    "    else:\n",
    "        return \"Invalid input\"\n",
    "income = int(input())\n",
    "print(tax(income))"
   ]
  },
  {
   "cell_type": "code",
   "execution_count": 18,
   "id": "93561cbc-e457-4142-8165-29975003309b",
   "metadata": {},
   "outputs": [
    {
     "name": "stdin",
     "output_type": "stream",
     "text": [
      "Enter your choice ('rock', 'paper', 'scissors'):  rock\n"
     ]
    },
    {
     "name": "stdout",
     "output_type": "stream",
     "text": [
      "You chose rock.\n",
      "The computer chose scissors.\n",
      "You Win\n"
     ]
    }
   ],
   "source": [
    "#Write a program that simulates a rock-paper-scissors game against the computer.\n",
    "import random \n",
    "\n",
    "def u_choice():\n",
    "    return input(\"Enter your choice ('rock', 'paper', 'scissors'): \")\n",
    "\n",
    "def c_choice():\n",
    "    return random.choice([\"rock\", \"paper\", \"scissors\"])\n",
    "\n",
    "def res(computer_choice, user_choice):\n",
    "    if user_choice == computer_choice:\n",
    "        return \"Tie\"\n",
    "    elif ((user_choice == 'rock' and computer_choice == 'scissors') or \n",
    "          (user_choice == 'paper' and computer_choice == 'rock') or \n",
    "          (user_choice == 'scissors' and computer_choice == 'paper')):\n",
    "        return \"You Win\"\n",
    "    else:\n",
    "        return \"You Lose\"\n",
    "    \n",
    "def main():\n",
    "    user_choice = u_choice()\n",
    "    computer_choice = c_choice()\n",
    "    result = res(computer_choice, user_choice)\n",
    "\n",
    "    print(f\"You chose {user_choice}.\")\n",
    "    print(f\"The computer chose {computer_choice}.\")\n",
    "    print(result)\n",
    "        \n",
    "if __name__ == \"__main__\":\n",
    "    main()\n"
   ]
  },
  {
   "cell_type": "code",
   "execution_count": 9,
   "id": "71a6d84f-58b9-45b2-ae75-48b58eee1362",
   "metadata": {},
   "outputs": [
    {
     "name": "stdin",
     "output_type": "stream",
     "text": [
      "Enter your choice of word:  a\n"
     ]
    },
    {
     "name": "stdout",
     "output_type": "stream",
     "text": [
      "Welcome to the first level.\n",
      "This is very near to winning the streak.\n",
      "You win the streak.\n",
      "Your choice: a\n",
      "Computer's choice: a\n"
     ]
    }
   ],
   "source": [
    "#Create a program that implements a simple text-based adventure game with branching scenarios.\n",
    "import random\n",
    "\n",
    "def user_word():\n",
    "    return input(\"Enter your choice of word: \")\n",
    "\n",
    "def computer_word():\n",
    "    return random.choice(['a', 'b', 'c', 'd', 'e'])  # Corrected the typo: 'choise' to 'choice'\n",
    "\n",
    "def result(u_choice, c_choice):  # Corrected the function name from 'res' to 'result'\n",
    "    if u_choice == c_choice:\n",
    "        print(\"Welcome to the first level.\")\n",
    "        print(\"This is very near to winning the streak.\")\n",
    "        print('You win the streak.')\n",
    "    elif u_choice == 'a' and c_choice == 'b':\n",
    "        print(\"Welcome to the level two of the game.\")\n",
    "        print(\"Your choices are consecutive choices.\")\n",
    "        print(\"you win the game\")\n",
    "    elif u_choice == 'a' and c_choice == 'e':\n",
    "        print(\"Both are unique combinations of vowels.\")\n",
    "        print(\"Both are consecutive vowels, so you win.\")\n",
    "    else:\n",
    "        print(\"You lose.\")\n",
    "\n",
    "def main():\n",
    "    u_choice = user_word()\n",
    "    c_choice = computer_word()\n",
    "    result(u_choice, c_choice)\n",
    "    print(\"Your choice:\", u_choice)\n",
    "    print(\"Computer's choice:\", c_choice)\n",
    "\n",
    "if __name__ == \"__main__\":\n",
    "    main()\n",
    "\n",
    "\n"
   ]
  },
  {
   "cell_type": "code",
   "execution_count": 7,
   "id": "5399c77a-9591-4e42-b03f-2cea2f4a45fe",
   "metadata": {},
   "outputs": [
    {
     "name": "stdin",
     "output_type": "stream",
     "text": [
      "Enter a year:  667\n"
     ]
    },
    {
     "name": "stdout",
     "output_type": "stream",
     "text": [
      "The year is a prime number\n",
      "Prime\n"
     ]
    }
   ],
   "source": [
    "#Develop a program that determines whether a given year is a prime number or not.\n",
    "\n",
    "def prime(year):\n",
    "    if year % 2 == 0:\n",
    "        print(\"The year is not a prime number\")\n",
    "        return \"Not Prime\"\n",
    "    else:\n",
    "        print(\"The year is a prime number\")\n",
    "        return \"Prime\"\n",
    "\n",
    "year = int(input(\"Enter a year: \"))\n",
    "res = prime(year)\n",
    "print(res)\n"
   ]
  },
  {
   "cell_type": "code",
   "execution_count": 12,
   "id": "32f2d5c1-1925-40df-b33a-38f212bb1bae",
   "metadata": {},
   "outputs": [
    {
     "name": "stdin",
     "output_type": "stream",
     "text": [
      " 4\n",
      " 3\n",
      " 5\n"
     ]
    },
    {
     "name": "stdout",
     "output_type": "stream",
     "text": [
      "(3, 4, 5)\n"
     ]
    }
   ],
   "source": [
    "#Create a program that sorts three numbers in ascending order using conditional statements.\n",
    "\n",
    "\n",
    "def sort(a,b,c):\n",
    "    if a>b>c:\n",
    "        return c,b,a\n",
    "    elif a>b and c>b and a>c:\n",
    "        return b,c,a\n",
    "    elif b>a and b>c and a>c:\n",
    "        return c,a,b\n",
    "    elif b>c and c>a:\n",
    "        return a,c,b\n",
    "    elif c>a and a>b:\n",
    "        return b,a,c\n",
    "    elif c>b and b>a:\n",
    "        return a,b,c\n",
    "a = int(input())\n",
    "b = int(input())\n",
    "c = int(input())\n",
    "print(sort(a,b,c))"
   ]
  },
  {
   "cell_type": "code",
   "execution_count": 13,
   "id": "cade5780-c792-4e33-9afd-7817cb8cf27d",
   "metadata": {},
   "outputs": [
    {
     "name": "stdout",
     "output_type": "stream",
     "text": [
      "Roots of the quartic equation: [1.0, 0.9999999999999317, 2.0, 0.9999998956512381]\n"
     ]
    }
   ],
   "source": [
    "#Build a program that determines the roots of a quartic equation using numerical methods.\n",
    "\n",
    "def quartic_equation(x, coefficients):\n",
    "    a, b, c, d, e = coefficients\n",
    "    return a * x**4 + b * x**3 + c * x**2 + d * x + e\n",
    "\n",
    "def quartic_derivative(x, coefficients):\n",
    "    a, b, c, d, _ = coefficients\n",
    "    return 4 * a * x**3 + 3 * b * x**2 + 2 * c * x + d\n",
    "\n",
    "def newton_method(initial_guess, coefficients, tolerance=1e-6, max_iterations=100):\n",
    "    x = initial_guess\n",
    "    for _ in range(max_iterations):\n",
    "        f_value = quartic_equation(x, coefficients)\n",
    "        f_prime_value = quartic_derivative(x, coefficients)\n",
    "\n",
    "        if abs(f_value) < tolerance:\n",
    "            return x\n",
    "\n",
    "        x -= f_value / f_prime_value\n",
    "\n",
    "    return None  # Newton's method did not converge\n",
    "\n",
    "def main():\n",
    "    coefficients = [1, -10, 35, -50, 24]\n",
    "    initial_guesses = [1.0, -1.0, 2.0, -2.0]\n",
    "\n",
    "    roots = [newton_method(guess, coefficients) for guess in initial_guesses if newton_method(guess, coefficients) is not None]\n",
    "\n",
    "    print(\"Roots of the quartic equation:\", roots)\n",
    "\n",
    "if __name__ == \"__main__\":\n",
    "    main()\n"
   ]
  },
  {
   "cell_type": "code",
   "execution_count": 19,
   "id": "21ea0b11-5d6f-4173-9579-858573697050",
   "metadata": {},
   "outputs": [
    {
     "name": "stdin",
     "output_type": "stream",
     "text": [
      "Enter your weight in kilograms:  46\n",
      "Enter your height in meters:  1\n"
     ]
    },
    {
     "name": "stdout",
     "output_type": "stream",
     "text": [
      "You are overweight\n"
     ]
    }
   ],
   "source": [
    "#Write a program that calculates the BMI (Body Mass Index) and provides health recommendations based on the user's input.\n",
    "\n",
    "def BMI(weight, height):\n",
    "    if weight < height:\n",
    "        return \"Invalid Input\"\n",
    "    \n",
    "    bmi = weight / height**2  # Calculate BMI\n",
    "    \n",
    "    if bmi < 18:\n",
    "        return \"You have to eat something and gain weight\"\n",
    "    elif 18 <= bmi <= 30:  # Use <= for the correct range comparison\n",
    "        return \"Your BMI is balanced\"\n",
    "    else:\n",
    "        return \"You are overweight\"\n",
    "\n",
    "weight = float(input(\"Enter your weight in kilograms: \"))\n",
    "height = float(input(\"Enter your height in meters: \"))\n",
    "result = BMI(weight, height)\n",
    "print(result)\n",
    "\n"
   ]
  },
  {
   "cell_type": "code",
   "execution_count": 23,
   "id": "56eba390-12dd-4ba0-a626-0e36a0da03af",
   "metadata": {},
   "outputs": [
    {
     "name": "stdin",
     "output_type": "stream",
     "text": [
      "enter the choice between a,b,c,d c\n"
     ]
    },
    {
     "name": "stdout",
     "output_type": "stream",
     "text": [
      "your choise is c\n",
      "the original answer is c\n",
      "you won the point\n"
     ]
    }
   ],
   "source": [
    "#Write a program that simulates a basic quiz game with multiple-choice questions and scoring.\n",
    "import random \n",
    "def multiple():\n",
    "    return input(\"enter the choice between a,b,c,d\")\n",
    "def computer():\n",
    "    return random.choice(['a','b','c','d'])\n",
    "\n",
    "def game(mu,co):\n",
    "    if mu == co:\n",
    "        return (\"you won the point\")\n",
    "    else:\n",
    "        return (\"your answer is different\")\n",
    "        \n",
    "def main():\n",
    "    mu = multiple()\n",
    "    co = computer()\n",
    "    result = game(mu,co)\n",
    "    print(f\"your choise is {mu}\")\n",
    "    print(f\"the original answer is {co}\")\n",
    "    print(result)\n",
    "    \n",
    "    \n",
    "if __name__ == \"__main__\":\n",
    "    main()\n",
    "    "
   ]
  },
  {
   "cell_type": "code",
   "execution_count": 26,
   "id": "25ecafbb-7542-4746-8556-13ef8e1387e0",
   "metadata": {},
   "outputs": [
    {
     "name": "stdout",
     "output_type": "stream",
     "text": [
      "the random password based on your preference is genrated below\n",
      "By3$n\n"
     ]
    }
   ],
   "source": [
    "#Develop a program that generates a random password based on user preferences \n",
    "import random\n",
    "\n",
    "def password():\n",
    "    print(\"the random password based on your preference is genrated below\")\n",
    "    first = random.choice(['A','B','C','D','E'])\n",
    "    second =  random.choice(['z','x','y','w','v'])\n",
    "    third = random.choice(['1','2','3','4','5'])\n",
    "    fouth = random.choice(['@','!','$','$'])\n",
    "    fifth = random.choice(['m','n','z'])\n",
    "    res = first+second+third+fouth+fifth\n",
    "    return res \n",
    "    \n",
    "print(password())"
   ]
  },
  {
   "cell_type": "code",
   "execution_count": 28,
   "id": "db997549-6a1e-4240-95a1-aedc7e6fecfe",
   "metadata": {},
   "outputs": [
    {
     "name": "stdout",
     "output_type": "stream",
     "text": [
      "the solution for the linear equation ax+by = 0 is \n"
     ]
    },
    {
     "name": "stdin",
     "output_type": "stream",
     "text": [
      " 2\n",
      " 4\n"
     ]
    },
    {
     "name": "stdout",
     "output_type": "stream",
     "text": [
      "the solution is -2.0\n"
     ]
    }
   ],
   "source": [
    "#Build a program that solves a linear equation for x, considering different cases.\n",
    "\n",
    "def linear_equ(a,b):\n",
    "    if a ==0 :\n",
    "        if b == 0:\n",
    "            return \"infinite solution\"\n",
    "        else:\n",
    "            return \"contradiction\"\n",
    "    else:\n",
    "        x = -b/a\n",
    "        return f\"the solution is {x}\"\n",
    "    \n",
    "def main():\n",
    "    print(\"the solution for the linear equation ax+by = 0 is \")\n",
    "    \n",
    "    a = float(input())\n",
    "    b = float(input())\n",
    "    res = linear_equ(a,b)\n",
    "    print(res)\n",
    "if __name__ == \"__main__\":\n",
    "    main()"
   ]
  },
  {
   "cell_type": "markdown",
   "id": "42757014-c82a-40f4-805b-c8605e185473",
   "metadata": {},
   "source": [
    "Challenge Level "
   ]
  },
  {
   "cell_type": "code",
   "execution_count": 5,
   "id": "b75443f3-bd1d-4cd0-82f5-091040f3d076",
   "metadata": {},
   "outputs": [
    {
     "name": "stdout",
     "output_type": "stream",
     "text": [
      "False\n",
      "None\n"
     ]
    }
   ],
   "source": [
    "#Create a program that validates a password based on complexity rules\n",
    "import re \n",
    "\n",
    "def pass_checker(password):\n",
    "    \n",
    "    \n",
    "    if len(password) < 8:\n",
    "        return False \n",
    "    \n",
    "    Uppercase = re.search('[A-Z]',password)\n",
    "    lowecase = re.search('[a-z]',password)\n",
    "    number = re.search('[0-9]',password)\n",
    "    special = re.search('[^a-zA-Z0-9]',password)\n",
    "    \n",
    "    return Uppercase and lowecase and number and special\n",
    "\n",
    "\n",
    "\n",
    "password1 = 'shubham' \n",
    "password2 = 'shubham@2001'\n",
    "\n",
    "print(pass_checker(password1))\n",
    "print(pass_checker(password2))\n",
    "\n",
    "\n",
    "    \n"
   ]
  },
  {
   "cell_type": "code",
   "execution_count": 8,
   "id": "b2678328-827b-41ff-9bb3-c27c1a8e98cb",
   "metadata": {},
   "outputs": [
    {
     "name": "stdout",
     "output_type": "stream",
     "text": [
      "False\n",
      "False\n"
     ]
    }
   ],
   "source": [
    "import re\n",
    "\n",
    "def pass_checker(password):\n",
    "\n",
    "    if len(password) < 8:\n",
    "        return False\n",
    "\n",
    "    Uppercase = re.search(\"[A-Z]\", password)\n",
    "    lowercase = re.search(\"[a-z]\", password)\n",
    "    number = re.search(\"[0-9]\", password)\n",
    "    special = re.search(\"[^a-zA-Z0-9]\", password)\n",
    "\n",
    "    return Uppercase is not None  and lowercase is not None  and number is not None  and special is not None \n",
    "\n",
    "password1 = 'shubham'\n",
    "password2 = 'shubham@2001'\n",
    "\n",
    "print(pass_checker(password1))  # Output: False\n",
    "print(pass_checker(password2))  # Output: True\n"
   ]
  },
  {
   "cell_type": "code",
   "execution_count": 9,
   "id": "9651d391-96ef-4b52-a59b-e4eec63b7aa1",
   "metadata": {},
   "outputs": [
    {
     "name": "stdout",
     "output_type": "stream",
     "text": [
      "False\n",
      "True\n"
     ]
    }
   ],
   "source": [
    "import re\n",
    "\n",
    "def pass_checker(password):\n",
    "\n",
    "    if len(password) < 8:\n",
    "        return False\n",
    "\n",
    "    Uppercase = bool(re.search(\"[A-Z]\", password))\n",
    "    lowercase = bool(re.search(\"[a-z]\", password))\n",
    "    number = bool(re.search(\"[0-9]\", password))\n",
    "    special = bool(re.search(\"[^a-zA-Z0-9]\", password))\n",
    "\n",
    "    return Uppercase and lowercase and number and special \n",
    "\n",
    "password1 = 'shubham'\n",
    "password2 = 'Shubham@2001'\n",
    "\n",
    "print(pass_checker(password1))  \n",
    "print(pass_checker(password2))  \n"
   ]
  },
  {
   "cell_type": "code",
   "execution_count": 15,
   "id": "fadb293a-1e3b-477c-b2d1-90177b325d2b",
   "metadata": {},
   "outputs": [
    {
     "name": "stdin",
     "output_type": "stream",
     "text": [
      "enter the no for the febonacci serires 8\n"
     ]
    },
    {
     "name": "stdout",
     "output_type": "stream",
     "text": [
      "[0, 1, 1, 2, 3, 5, 8, 13]\n"
     ]
    }
   ],
   "source": [
    "#Write a program that generates Fibonacci numbers up to a specified term using iterative methods.\n",
    "def fibonacci(N):\n",
    "    f = [0, 1, 1]\n",
    "    for i in range(3, N):\n",
    "        f.append(f[i-1] + f[i-2])\n",
    "    return f\n",
    "N = int(input(\"enter the no for the febonacci serires\"))\n",
    "print(fibonacci(N))\n",
    "\n",
    "\n"
   ]
  },
  {
   "cell_type": "code",
   "execution_count": 2,
   "id": "5c881806-691f-4115-8299-8e3acf4badca",
   "metadata": {},
   "outputs": [
    {
     "name": "stdin",
     "output_type": "stream",
     "text": [
      "Enter a number:  6756\n"
     ]
    },
    {
     "name": "stdout",
     "output_type": "stream",
     "text": [
      "Prime factors of 6756: [2, 2, 3, 563]\n"
     ]
    }
   ],
   "source": [
    "def prime_factors(n):\n",
    "    factors = []\n",
    "    divisor = 2\n",
    "\n",
    "    while n > 1:\n",
    "        while n % divisor == 0:\n",
    "            factors.append(divisor)\n",
    "            n //= divisor\n",
    "        divisor += 1\n",
    "\n",
    "    return factors\n",
    "\n",
    "def main():\n",
    "    try:\n",
    "        number = int(input(\"Enter a number: \"))\n",
    "        if number < 2:\n",
    "            print(\"Prime factors are not defined for numbers less than 2.\")\n",
    "        else:\n",
    "            factors = prime_factors(number)\n",
    "            print(f\"Prime factors of {number}: {factors}\")\n",
    "    except ValueError:\n",
    "        print(\"Invalid input. Please enter a valid integer.\")\n",
    "\n",
    "if __name__ == \"__main__\":\n",
    "    main()\n"
   ]
  },
  {
   "cell_type": "code",
   "execution_count": 4,
   "id": "2edef32a-118e-493b-accf-ced0d310a1d3",
   "metadata": {},
   "outputs": [
    {
     "name": "stdout",
     "output_type": "stream",
     "text": [
      "Your cards: [7, 4], current score: 11\n",
      "Computer's first card: 7\n"
     ]
    },
    {
     "name": "stdin",
     "output_type": "stream",
     "text": [
      "Type 'y' to get another card, 'n' to pass:  y\n"
     ]
    },
    {
     "name": "stdout",
     "output_type": "stream",
     "text": [
      "Your cards: [7, 4, 10], current score: 21\n",
      "Computer's first card: 7\n"
     ]
    },
    {
     "name": "stdin",
     "output_type": "stream",
     "text": [
      "Type 'y' to get another card, 'n' to pass:  n\n"
     ]
    },
    {
     "name": "stdout",
     "output_type": "stream",
     "text": [
      "Your final hand: [7, 4, 10], final score: 21\n",
      "Computer's final hand: [7, 11], final score: 18\n",
      "You win!\n"
     ]
    }
   ],
   "source": [
    "import random\n",
    "\n",
    "def deal_card():\n",
    "    cards = [11, 2, 3, 4, 5, 6, 7, 8, 9, 10, 10, 10, 10]\n",
    "    return random.choice(cards)\n",
    "\n",
    "def calculate_score(cards):\n",
    "    if sum(cards) == 21 and len(cards) == 2:\n",
    "        return 0  # Blackjack\n",
    "    if 11 in cards and sum(cards) > 21:\n",
    "        cards.remove(11)\n",
    "        cards.append(1)\n",
    "    return sum(cards)\n",
    "\n",
    "def compare(user_score, computer_score):\n",
    "    if user_score == computer_score:\n",
    "        return \"It's a draw!\"\n",
    "    elif computer_score == 0:\n",
    "        return \"You lose. Computer has Blackjack.\"\n",
    "    elif user_score == 0:\n",
    "        return \"You win with a Blackjack!\"\n",
    "    elif user_score > 21:\n",
    "        return \"You went over. You lose.\"\n",
    "    elif computer_score > 21:\n",
    "        return \"Computer went over. You win!\"\n",
    "    elif user_score > computer_score:\n",
    "        return \"You win!\"\n",
    "    else:\n",
    "        return \"You lose.\"\n",
    "\n",
    "def play_game():\n",
    "    user_cards = []\n",
    "    computer_cards = []\n",
    "    is_game_over = False\n",
    "\n",
    "    for _ in range(2):\n",
    "        user_cards.append(deal_card())\n",
    "        computer_cards.append(deal_card())\n",
    "\n",
    "    while not is_game_over:\n",
    "        user_score = calculate_score(user_cards)\n",
    "        computer_score = calculate_score(computer_cards)\n",
    "\n",
    "        print(f\"Your cards: {user_cards}, current score: {user_score}\")\n",
    "        print(f\"Computer's first card: {computer_cards[0]}\")\n",
    "\n",
    "        if user_score == 0 or computer_score == 0 or user_score > 21:\n",
    "            is_game_over = True\n",
    "        else:\n",
    "            user_should_continue = input(\"Type 'y' to get another card, 'n' to pass: \").lower()\n",
    "            if user_should_continue == 'y':\n",
    "                user_cards.append(deal_card())\n",
    "            else:\n",
    "                is_game_over = True\n",
    "\n",
    "    while computer_score != 0 and computer_score < 17:\n",
    "        computer_cards.append(deal_card())\n",
    "        computer_score = calculate_score(computer_cards)\n",
    "\n",
    "    print(f\"Your final hand: {user_cards}, final score: {user_score}\")\n",
    "    print(f\"Computer's final hand: {computer_cards}, final score: {computer_score}\")\n",
    "    print(compare(user_score, computer_score))\n",
    "\n",
    "# Run the game\n",
    "play_game()\n",
    "\n"
   ]
  },
  {
   "cell_type": "code",
   "execution_count": null,
   "id": "04eda82a-84b5-4218-a6b7-fd1f16c1194c",
   "metadata": {},
   "outputs": [],
   "source": []
  }
 ],
 "metadata": {
  "kernelspec": {
   "display_name": "Python 3 (ipykernel)",
   "language": "python",
   "name": "python3"
  },
  "language_info": {
   "codemirror_mode": {
    "name": "ipython",
    "version": 3
   },
   "file_extension": ".py",
   "mimetype": "text/x-python",
   "name": "python",
   "nbconvert_exporter": "python",
   "pygments_lexer": "ipython3",
   "version": "3.10.8"
  }
 },
 "nbformat": 4,
 "nbformat_minor": 5
}
