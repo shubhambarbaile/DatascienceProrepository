{
 "cells": [
  {
   "cell_type": "markdown",
   "id": "2a3aabac-8fc1-4d93-b58c-f7aa82ead080",
   "metadata": {},
   "source": [
    "Basic level \n"
   ]
  },
  {
   "cell_type": "code",
   "execution_count": 1,
   "id": "867c63cd-8b9a-4e4b-b766-957abb9162ff",
   "metadata": {},
   "outputs": [
    {
     "name": "stdout",
     "output_type": "stream",
     "text": [
      "1\n",
      "2\n",
      "3\n",
      "4\n",
      "5\n",
      "6\n",
      "7\n",
      "8\n",
      "9\n",
      "10\n"
     ]
    }
   ],
   "source": [
    "# 1 \n",
    "for i in range(1,11):\n",
    "    print(i)\n"
   ]
  },
  {
   "cell_type": "code",
   "execution_count": 2,
   "id": "c5b9f678-be06-425c-bd10-90c92f664179",
   "metadata": {},
   "outputs": [
    {
     "name": "stdout",
     "output_type": "stream",
     "text": [
      "59\n"
     ]
    }
   ],
   "source": [
    "#2\n",
    "a = [1,3,44,5,6]\n",
    "b = 0\n",
    "for i in a:\n",
    "    b = b+i\n",
    "print(b)"
   ]
  },
  {
   "cell_type": "code",
   "execution_count": 3,
   "id": "999705f1-73ae-4354-bbda-4141b15e9549",
   "metadata": {},
   "outputs": [
    {
     "name": "stdin",
     "output_type": "stream",
     "text": [
      "enter the senence i love pranjuu\n"
     ]
    },
    {
     "name": "stdout",
     "output_type": "stream",
     "text": [
      "uujnarp evol i\n"
     ]
    }
   ],
   "source": [
    "str = input(\"enter the senence\")\n",
    "reversed_str = \"\"\n",
    "for i in reversed(str):\n",
    "    reversed_str += i \n",
    "    \n",
    "print(reversed_str)\n",
    "    \n",
    "    "
   ]
  },
  {
   "cell_type": "code",
   "execution_count": 8,
   "id": "3054887e-9aff-4f93-b00c-c3002b765280",
   "metadata": {},
   "outputs": [
    {
     "name": "stdin",
     "output_type": "stream",
     "text": [
      "enter the number for factorial 5\n"
     ]
    },
    {
     "name": "stdout",
     "output_type": "stream",
     "text": [
      "120\n"
     ]
    }
   ],
   "source": [
    "a = int(input(\"enter the number for factorial\"))\n",
    "fact = 1\n",
    "for i in range(1,a+1):\n",
    "    fact = fact *i\n",
    "print(fact)\n",
    "        \n",
    "    "
   ]
  },
  {
   "cell_type": "code",
   "execution_count": 3,
   "id": "4158476c-3fc6-4a7b-bb69-c30ebe8569ef",
   "metadata": {},
   "outputs": [
    {
     "name": "stdin",
     "output_type": "stream",
     "text": [
      "enter the number  5\n"
     ]
    },
    {
     "name": "stdout",
     "output_type": "stream",
     "text": [
      "5\n",
      "10\n",
      "15\n",
      "20\n",
      "25\n",
      "30\n",
      "35\n",
      "40\n",
      "45\n",
      "50\n"
     ]
    }
   ],
   "source": [
    "a = int(input(\"enter the number \"))\n",
    "num = 11\n",
    "\n",
    "for i in range(1,num):\n",
    "    table = i *a\n",
    "    \n",
    "    print(table)\n"
   ]
  },
  {
   "cell_type": "code",
   "execution_count": 7,
   "id": "a50f1a84-eb8e-4be2-9f29-8a314e41ade3",
   "metadata": {},
   "outputs": [
    {
     "name": "stdout",
     "output_type": "stream",
     "text": [
      "8\n",
      "5\n"
     ]
    }
   ],
   "source": [
    "l = [1,2,34,4,5,6,7,8,22,143,1354,12345,22222]\n",
    "even = 0 \n",
    "odd = 0 \n",
    "for i in l:\n",
    "    if i %2 == 0:\n",
    "        even = even+1\n",
    "    else: \n",
    "        odd = odd +1 \n",
    "print(even)\n",
    "print(odd)"
   ]
  },
  {
   "cell_type": "code",
   "execution_count": 9,
   "id": "ecb42c3a-99ed-4ea3-8ccf-5d6b062e3456",
   "metadata": {},
   "outputs": [
    {
     "name": "stdout",
     "output_type": "stream",
     "text": [
      "1\n",
      "4\n",
      "9\n",
      "16\n",
      "25\n"
     ]
    }
   ],
   "source": [
    "for i in range(1,6):\n",
    "    square = i **2\n",
    "    \n",
    "    print(square)\n"
   ]
  },
  {
   "cell_type": "code",
   "execution_count": 13,
   "id": "267957d8-de2c-4acb-afe9-582794f621a0",
   "metadata": {},
   "outputs": [
    {
     "name": "stdin",
     "output_type": "stream",
     "text": [
      "enter a string my name is shubham\n"
     ]
    },
    {
     "name": "stdout",
     "output_type": "stream",
     "text": [
      "18\n"
     ]
    }
   ],
   "source": [
    "a = input(\"enter a string\")\n",
    "cunt = 0\n",
    "for i in a:\n",
    "    cunt = cunt+1 \n",
    "print(cunt)"
   ]
  },
  {
   "cell_type": "code",
   "execution_count": 14,
   "id": "e06af065-7ccb-4435-9180-dd172c72e3b6",
   "metadata": {},
   "outputs": [
    {
     "name": "stdout",
     "output_type": "stream",
     "text": [
      "98.5\n"
     ]
    }
   ],
   "source": [
    "l = [1,2,43,5,67,8,4,6,43,78,3,675,346,98]\n",
    "ab = len(l)\n",
    "count = 0\n",
    "for i in l: \n",
    "    count = count +i\n",
    "    \n",
    "print(count/ab)\n",
    "    \n",
    "\n"
   ]
  },
  {
   "cell_type": "code",
   "execution_count": 17,
   "id": "d49259af-b19a-45fb-a661-d93e028cf8cf",
   "metadata": {},
   "outputs": [
    {
     "name": "stdin",
     "output_type": "stream",
     "text": [
      "enter the numaber 10\n"
     ]
    },
    {
     "name": "stdout",
     "output_type": "stream",
     "text": [
      "55\n"
     ]
    }
   ],
   "source": [
    "n = int(input(\"enter the numaber\"))\n",
    "count = 0 \n",
    "for i in range(1,n+1):\n",
    "    count = count +i\n",
    "print(count)"
   ]
  },
  {
   "cell_type": "markdown",
   "id": "13cb57c0-94d4-45b9-98f5-fbddbbb85e1d",
   "metadata": {},
   "source": [
    "Intermidate Level "
   ]
  },
  {
   "cell_type": "code",
   "execution_count": 9,
   "id": "b5e75685-a6c7-4058-affa-6e0a91b81b8d",
   "metadata": {},
   "outputs": [
    {
     "name": "stdout",
     "output_type": "stream",
     "text": [
      "The list does not contain duplicates.\n"
     ]
    }
   ],
   "source": [
    "l = [1,23,4,5,6,7,9,0,8,67,4,675,4,7,43,76,4,76,4,7,45,873]\n",
    "unique = []\n",
    "duplicates = False \n",
    "for i in l:\n",
    "    if i in unique:\n",
    "        dupliates = True \n",
    "        break \n",
    "    else:\n",
    "        unique.append(i)\n",
    "        \n",
    "if has_duplicates:\n",
    "    print(\"The list contains duplicates.\")\n",
    "else:\n",
    "    print(\"The list does not contain duplicates.\")        \n",
    "        \n",
    "\n",
    "    "
   ]
  },
  {
   "cell_type": "code",
   "execution_count": 28,
   "id": "84b04062-371b-4383-a0fc-03f81e55834d",
   "metadata": {},
   "outputs": [
    {
     "name": "stdin",
     "output_type": "stream",
     "text": [
      "enter the number 5\n",
      "enter the end number 9\n"
     ]
    },
    {
     "name": "stdout",
     "output_type": "stream",
     "text": [
      "5\n",
      "7\n"
     ]
    }
   ],
   "source": [
    "start = int(input(\"enter the number\"))\n",
    "end = int(input(\"enter the end number\"))\n",
    "\n",
    "for i in range(start, end + 1):\n",
    "    if i > 1:\n",
    "        prime = True  # Initialize prime as True here\n",
    "        for j in range(2, int(i ** 0.5) + 1):\n",
    "            if i % j == 0:\n",
    "                prime = False  # Set prime to False if a factor is found\n",
    "                break\n",
    "        if prime:\n",
    "            print(i)\n"
   ]
  },
  {
   "cell_type": "code",
   "execution_count": 31,
   "id": "9663f594-8b44-41a0-bb26-e6a9be4543db",
   "metadata": {},
   "outputs": [
    {
     "name": "stdin",
     "output_type": "stream",
     "text": [
      "enter the string my name is shubham and brother name is sanket \n"
     ]
    },
    {
     "name": "stdout",
     "output_type": "stream",
     "text": [
      "13\n"
     ]
    }
   ],
   "source": [
    "vowels = input(\"enter the string\")\n",
    "\n",
    "c = []\n",
    "a = set('aeiou')\n",
    "for char in vowels:\n",
    "    if char in a :\n",
    "        c.append(char)\n",
    "        \n",
    "print(len(c))"
   ]
  },
  {
   "cell_type": "code",
   "execution_count": 1,
   "id": "b8f0ff3f-0987-4dea-b370-9c5ac432a25f",
   "metadata": {},
   "outputs": [
    {
     "name": "stdout",
     "output_type": "stream",
     "text": [
      "1000\n"
     ]
    }
   ],
   "source": [
    "l=[\n",
    "    [1000, 5, 3],\n",
    "    [756, 2, 80],\n",
    "    [4, 6, 9]\n",
    "]\n",
    "\n",
    "max_value = float('-inf')\n",
    "for row in l:\n",
    "    for i in row:\n",
    "        if i > max_value:\n",
    "            max_value = i \n",
    "print(max_value)"
   ]
  },
  {
   "cell_type": "code",
   "execution_count": 2,
   "id": "3e94b4f5-f65c-4b41-8392-24607816f438",
   "metadata": {},
   "outputs": [
    {
     "name": "stdout",
     "output_type": "stream",
     "text": [
      "[1, 2, 43, 54, 56, 4, 6, 7, 675, 75, 4, 54, 4, 54, 4]\n"
     ]
    }
   ],
   "source": [
    "l = [1, 2, 43, 54, 56, 4, 5, 6, 7, 5, 675, 75, 4, 54, 5, 4, 54, 5, 4]\n",
    "remove = 5\n",
    "update_l = []\n",
    "for i in l:\n",
    "    if i != remove:\n",
    "        update_l.append(i)\n",
    "print(update_l)"
   ]
  },
  {
   "cell_type": "code",
   "execution_count": 6,
   "id": "e9dcd30b-6256-4802-aa21-d37e947a7092",
   "metadata": {},
   "outputs": [
    {
     "name": "stdout",
     "output_type": "stream",
     "text": [
      "1 x 1 = 1\n",
      "1 x 2 = 2\n",
      "1 x 3 = 3\n",
      "1 x 4 = 4\n",
      "1 x 5 = 5\n",
      "1 x 6 = 6\n",
      "1 x 7 = 7\n",
      "1 x 8 = 8\n",
      "1 x 9 = 9\n",
      "1 x 10 = 10\n",
      "\n",
      "2 x 1 = 2\n",
      "2 x 2 = 4\n",
      "2 x 3 = 6\n",
      "2 x 4 = 8\n",
      "2 x 5 = 10\n",
      "2 x 6 = 12\n",
      "2 x 7 = 14\n",
      "2 x 8 = 16\n",
      "2 x 9 = 18\n",
      "2 x 10 = 20\n",
      "\n",
      "3 x 1 = 3\n",
      "3 x 2 = 6\n",
      "3 x 3 = 9\n",
      "3 x 4 = 12\n",
      "3 x 5 = 15\n",
      "3 x 6 = 18\n",
      "3 x 7 = 21\n",
      "3 x 8 = 24\n",
      "3 x 9 = 27\n",
      "3 x 10 = 30\n",
      "\n",
      "4 x 1 = 4\n",
      "4 x 2 = 8\n",
      "4 x 3 = 12\n",
      "4 x 4 = 16\n",
      "4 x 5 = 20\n",
      "4 x 6 = 24\n",
      "4 x 7 = 28\n",
      "4 x 8 = 32\n",
      "4 x 9 = 36\n",
      "4 x 10 = 40\n",
      "\n",
      "5 x 1 = 5\n",
      "5 x 2 = 10\n",
      "5 x 3 = 15\n",
      "5 x 4 = 20\n",
      "5 x 5 = 25\n",
      "5 x 6 = 30\n",
      "5 x 7 = 35\n",
      "5 x 8 = 40\n",
      "5 x 9 = 45\n",
      "5 x 10 = 50\n",
      "\n"
     ]
    }
   ],
   "source": [
    "start = 1\n",
    "end = 5 \n",
    "for i in range(1,6):\n",
    "    for j in range(1,11):\n",
    "        table = i*j\n",
    "        print(f\"{i} x {j} = {table}\")\n",
    "    print()"
   ]
  },
  {
   "cell_type": "code",
   "execution_count": 1,
   "id": "a2d15934-9bff-44ba-b419-9ed5fd1e8837",
   "metadata": {},
   "outputs": [
    {
     "name": "stdout",
     "output_type": "stream",
     "text": [
      "[217.22222222222223, 1.6666666666666667, 278.8888888888889, 1.6666666666666667, 1.6666666666666667, 13073.888888888889, 173.33333333333334, -14.444444444444445, 6.111111111111111, 13.333333333333334, -16.11111111111111, 7.777777777777778, 178.88888888888889, 37.22222222222222]\n"
     ]
    }
   ],
   "source": [
    "l = [423,35,534,35,35,23565,344,6,43,56,3,46,354,99]\n",
    "tem = []\n",
    "for i in l:\n",
    "    cel = ((i-32)*5)/9\n",
    "    tem.append(cel)\n",
    "print(tem)\n",
    "    \n",
    "\n",
    "    "
   ]
  },
  {
   "cell_type": "code",
   "execution_count": 4,
   "id": "6f23c820-597b-44d6-9783-fdbf4f888610",
   "metadata": {},
   "outputs": [
    {
     "name": "stdout",
     "output_type": "stream",
     "text": [
      "[1, 2, 3, 3, 9]\n"
     ]
    }
   ],
   "source": [
    "l = [1,2,3,45,56,7,87,9]\n",
    "l1 = [3,8,3,5,2,9,1,78]\n",
    "k = []\n",
    "for i in l:\n",
    "    for j in l1:\n",
    "        if j == i:\n",
    "            k.append(j)\n",
    "print(k)"
   ]
  },
  {
   "cell_type": "code",
   "execution_count": 7,
   "id": "6e27c372-45df-47a3-9d2e-d1237c2fed99",
   "metadata": {},
   "outputs": [
    {
     "name": "stdin",
     "output_type": "stream",
     "text": [
      "nuber of rows to print in the right angle triangle 10\n"
     ]
    },
    {
     "name": "stdout",
     "output_type": "stream",
     "text": [
      "* \n",
      "* * \n",
      "* * * \n",
      "* * * * \n",
      "* * * * * \n",
      "* * * * * * \n",
      "* * * * * * * \n",
      "* * * * * * * * \n",
      "* * * * * * * * * \n",
      "* * * * * * * * * * \n"
     ]
    }
   ],
   "source": [
    "n = int(input(\"nuber of rows to print in the right angle triangle\"))\n",
    "for i in range(1,n+1):\n",
    "    for j in range(i):\n",
    "        print('*',end= ' ')\n",
    "    print()"
   ]
  },
  {
   "cell_type": "code",
   "execution_count": 11,
   "id": "92d71478-cc5e-469b-832d-df271b056e7e",
   "metadata": {},
   "outputs": [
    {
     "name": "stdin",
     "output_type": "stream",
     "text": [
      "enter the first number 39\n",
      "enter the second number 33\n"
     ]
    },
    {
     "name": "stdout",
     "output_type": "stream",
     "text": [
      "3\n"
     ]
    }
   ],
   "source": [
    "num= int(input(\"enter the first number\"))\n",
    "num1 = int(input(\"enter the second number\"))\n",
    "gcd = 1 \n",
    "if num < num1:\n",
    "    smaller = num \n",
    "else:\n",
    "    smaller = num1 \n",
    "    \n",
    "for i in range(1,smaller+1):\n",
    "    if num%i==0 and num1%i == 0:\n",
    "        gcd = i \n",
    "print(gcd)"
   ]
  },
  {
   "cell_type": "markdown",
   "id": "3520b72f-c26b-470b-9d0f-17c241aae7e7",
   "metadata": {},
   "source": [
    "Advanced Level\n"
   ]
  },
  {
   "cell_type": "code",
   "execution_count": 11,
   "id": "87166f1f-93bf-4188-9593-5aa913e6f721",
   "metadata": {},
   "outputs": [
    {
     "name": "stdin",
     "output_type": "stream",
     "text": [
      "enter the no of digit 10\n"
     ]
    },
    {
     "name": "stdout",
     "output_type": "stream",
     "text": [
      "55\n"
     ]
    }
   ],
   "source": [
    "def add(n):\n",
    "    total=  sum([i for i in range(0,n+1)])\n",
    "    return total \n",
    "    \n",
    "n = int(input(\"enter the no of digit\"))\n",
    "result = add(n)\n",
    "print(result)"
   ]
  },
  {
   "cell_type": "code",
   "execution_count": 12,
   "id": "a8ce6296-5239-4cd8-a3dc-8f6185bf0ad0",
   "metadata": {},
   "outputs": [
    {
     "name": "stdin",
     "output_type": "stream",
     "text": [
      " 33\n"
     ]
    },
    {
     "name": "stdout",
     "output_type": "stream",
     "text": [
      "[3, 11, 33]\n"
     ]
    }
   ],
   "source": [
    "def prime(n):\n",
    "    factors = [ i for i in range(2,n+1) if n%i== 0]\n",
    "    return factors \n",
    "\n",
    "n = int(input())\n",
    "result = prime(n)\n",
    "print(result)"
   ]
  },
  {
   "cell_type": "code",
   "execution_count": 2,
   "id": "70bfe2cf-5ee4-48a1-b080-c58d83d3cf51",
   "metadata": {},
   "outputs": [
    {
     "name": "stdout",
     "output_type": "stream",
     "text": [
      "[11, 223, 4, 5, 3, 34, 633245]\n"
     ]
    }
   ],
   "source": [
    "l = [11,223,4,5,3,5,34,633245]\n",
    "l2 =[x for i,x in enumerate(l) if x not in l[:i]]\n",
    "print(l2)\n",
    "\n",
    "\n"
   ]
  },
  {
   "cell_type": "code",
   "execution_count": 7,
   "id": "08ee128b-5120-4e60-81d7-8751b5460b52",
   "metadata": {},
   "outputs": [
    {
     "name": "stdin",
     "output_type": "stream",
     "text": [
      " 33\n"
     ]
    },
    {
     "name": "stdout",
     "output_type": "stream",
     "text": [
      "[1, 2, 3, 4, 5, 6, 7, 8, 9, 11, 22, 33]\n"
     ]
    }
   ],
   "source": [
    "def palindrome(n):\n",
    "    l = str(n)\n",
    "    return l == l[::-1]\n",
    "def pali(limit):\n",
    "    return [i for i in range(1,limit+1) if palindrome(i)]\n",
    "    \n",
    "n = int(input())\n",
    "result = pali(n)\n",
    "print(result)\n"
   ]
  },
  {
   "cell_type": "code",
   "execution_count": 1,
   "id": "c12bce09-c458-4c9b-abf4-29bf21f89a5c",
   "metadata": {},
   "outputs": [
    {
     "name": "stdout",
     "output_type": "stream",
     "text": [
      "[1, 2, 3, 4, 5, 6, 7]\n"
     ]
    }
   ],
   "source": [
    "my_list = [[1], [2, 3], [4, 5, 6, 7]]\n",
    "\n",
    "flat_list = [num for sublist in my_list for num in sublist]\n",
    "print(flat_list)"
   ]
  },
  {
   "cell_type": "code",
   "execution_count": 3,
   "id": "5855a33f-b779-48a1-a256-d14ccd3a66ce",
   "metadata": {},
   "outputs": [
    {
     "name": "stdout",
     "output_type": "stream",
     "text": [
      "20\n",
      "16\n"
     ]
    }
   ],
   "source": [
    "l = [1,2,3,4,5,6,7,8]\n",
    "even = [i for i in l if i%2 == 0 ]\n",
    "odd = [ i for i in l if i%2 !=0]\n",
    "\n",
    "a = sum(even)\n",
    "b = sum(odd)\n",
    "print(a)\n",
    "print(b)\n"
   ]
  },
  {
   "cell_type": "code",
   "execution_count": 2,
   "id": "14bfc2b5-b1c4-4b16-a4d3-a4a13fef18ff",
   "metadata": {},
   "outputs": [
    {
     "name": "stdout",
     "output_type": "stream",
     "text": [
      "[1, 9, 25, 49, 81]\n"
     ]
    }
   ],
   "source": [
    "l = range(1,11)\n",
    "square =[ i**2 for i in l if i%2 !=0]\n",
    "print(square)"
   ]
  },
  {
   "cell_type": "code",
   "execution_count": 5,
   "id": "e0dc0a1a-293e-4480-a736-23c9dd6cfce6",
   "metadata": {},
   "outputs": [
    {
     "name": "stdout",
     "output_type": "stream",
     "text": [
      "{'a': 1, 'b': 2, 'c': 3}\n"
     ]
    }
   ],
   "source": [
    "keys = [\"a\", \"b\", \"c\"]\n",
    "values = [1, 2, 3]\n",
    "\n",
    "l ={key: value for key, value in zip(keys,values)}\n",
    "print(l)\n"
   ]
  },
  {
   "cell_type": "code",
   "execution_count": 2,
   "id": "64926d36-d110-491a-a833-a8fa190f0c93",
   "metadata": {},
   "outputs": [
    {
     "name": "stdout",
     "output_type": "stream",
     "text": [
      "['u', 'a', 'i', 'a', 'e']\n"
     ]
    }
   ],
   "source": [
    "a = 'shubham is my name'\n",
    "a = a.lower()\n",
    "b = [char for char in a if char in  'aeiou']\n",
    "print(b)"
   ]
  },
  {
   "cell_type": "code",
   "execution_count": 4,
   "id": "93eed686-6d51-48cd-ab0d-7133b9d04db2",
   "metadata": {},
   "outputs": [
    {
     "name": "stdout",
     "output_type": "stream",
     "text": [
      "['123', '45', '567', '']\n"
     ]
    }
   ],
   "source": [
    "a = [\"Hello123\", \"45World\", \"abc567\", \"def\"]\n",
    "b = [''.join(char for char in string if char.isdigit()) for string in a]\n",
    "print(b)\n"
   ]
  },
  {
   "cell_type": "markdown",
   "id": "d7ab2239-ec8f-4ee3-980f-cba7a8c0da95",
   "metadata": {},
   "source": [
    "##Challenge Level"
   ]
  },
  {
   "cell_type": "code",
   "execution_count": 5,
   "id": "a9567b5f-c2a1-48f9-acc9-37a4c788325d",
   "metadata": {},
   "outputs": [
    {
     "name": "stdin",
     "output_type": "stream",
     "text": [
      "Enter the limit for prime numbers:  50\n"
     ]
    },
    {
     "name": "stdout",
     "output_type": "stream",
     "text": [
      "Prime numbers up to 50 are: [2, 3, 5, 7, 11, 13, 17, 19, 23, 29, 31, 37, 41, 43, 47]\n"
     ]
    }
   ],
   "source": [
    "def sieve_of_eratosthenes(limit):\n",
    "    # Create a list to track prime numbers, initially assuming all numbers are prime\n",
    "    is_prime = [True] * (limit + 1)\n",
    "    \n",
    "    # 0 and 1 are not prime numbers\n",
    "    is_prime[0] = is_prime[1] = False\n",
    "    \n",
    "    # Apply the Sieve of Eratosthenes algorithm\n",
    "    for num in range(2, int(limit ** 0.5) + 1):\n",
    "        if is_prime[num]:\n",
    "            for multiple in range(num * num, limit + 1, num):\n",
    "                is_prime[multiple] = False\n",
    "    \n",
    "    # Use list comprehension to generate a list of prime numbers\n",
    "    primes = [num for num in range(2, limit + 1) if is_prime[num]]\n",
    "    \n",
    "    return primes\n",
    "\n",
    "# Input limit for prime number generation\n",
    "limit = int(input(\"Enter the limit for prime numbers: \"))\n",
    "\n",
    "# Generate and display the list of prime numbers up to the given limit\n",
    "prime_list = sieve_of_eratosthenes(limit)\n",
    "print(\"Prime numbers up to\", limit, \"are:\", prime_list)\n"
   ]
  },
  {
   "cell_type": "code",
   "execution_count": 10,
   "id": "1b230189-aa31-40a6-bf9f-bec9657335c4",
   "metadata": {},
   "outputs": [
    {
     "name": "stdin",
     "output_type": "stream",
     "text": [
      "enter the limit 10\n"
     ]
    },
    {
     "name": "stdout",
     "output_type": "stream",
     "text": [
      "[(3, 4, 5), (6, 8, 10)]\n"
     ]
    }
   ],
   "source": [
    "def triplates(lim):\n",
    "    trip = [ (a,b,c) for a in range(1,lim+1) for b in range(a,lim+1) for c in range(b,limit+1) if a**2 + b**2 == c**2]\n",
    "    return trip\n",
    "\n",
    "lim = int(input(\"enter the limit\"))\n",
    "res = triplates(lim)\n",
    "print(res)"
   ]
  },
  {
   "cell_type": "code",
   "execution_count": 12,
   "id": "b2f03c00-384b-42f2-85d0-a4b29d8820bc",
   "metadata": {},
   "outputs": [
    {
     "name": "stdout",
     "output_type": "stream",
     "text": [
      "[(1, 'A'), (1, 'B'), (2, 'A'), (2, 'B'), (3, 'A'), (3, 'B')]\n"
     ]
    }
   ],
   "source": [
    "from itertools import product\n",
    "l1 = [1, 2, 3]\n",
    "l2 = ['A', 'B']\n",
    "\n",
    "b = [(i,j) for i,j in product(l1,l2)]\n",
    "\n",
    "print(b)"
   ]
  },
  {
   "cell_type": "code",
   "execution_count": 19,
   "id": "b2b97d88-17bc-4515-9139-a3c085af4841",
   "metadata": {},
   "outputs": [
    {
     "name": "stdout",
     "output_type": "stream",
     "text": [
      "mean = 425.1764705882353 ,median = 5, mode = 3 \n"
     ]
    }
   ],
   "source": [
    "from statistics import mean,median,mode\n",
    "l = [1,3,4,6,35,245,63,5,6,3,5,3,5,6723,4,63,54]\n",
    "l_mean = mean(l)\n",
    "l_median = median(l)\n",
    "l_mode = mode(l)\n",
    "\n",
    "print(f\"mean = {l_mean} ,median = {l_median}, mode = {l_mode} \")\n"
   ]
  },
  {
   "cell_type": "code",
   "execution_count": 20,
   "id": "0535fb8a-22f9-4600-bc42-43f717d7b9e4",
   "metadata": {},
   "outputs": [
    {
     "name": "stdin",
     "output_type": "stream",
     "text": [
      "Enter the number of rows for Pascal's triangle:  10\n"
     ]
    },
    {
     "name": "stdout",
     "output_type": "stream",
     "text": [
      "Pascal's Triangle:\n",
      "1\n",
      "1 1\n",
      "1 2 1\n",
      "1 3 3 1\n",
      "1 4 6 4 1\n",
      "1 5 10 10 5 1\n",
      "1 6 15 20 15 6 1\n",
      "1 7 21 35 35 21 7 1\n",
      "1 8 28 56 70 56 28 8 1\n",
      "1 9 36 84 126 126 84 36 9 1\n"
     ]
    }
   ],
   "source": [
    "def generate_pascals_triangle(num_rows):\n",
    "    triangle = [[1] * (i + 1) for i in range(num_rows)]\n",
    "    for i in range(2, num_rows):\n",
    "        for j in range(1, i):\n",
    "            triangle[i][j] = triangle[i - 1][j - 1] + triangle[i - 1][j]\n",
    "    return triangle\n",
    "\n",
    "def print_pascals_triangle(triangle):\n",
    "    for row in triangle:\n",
    "        print(\" \".join(map(str, row)))\n",
    "\n",
    "# Input number of rows for Pascal's triangle\n",
    "num_rows = int(input(\"Enter the number of rows for Pascal's triangle: \"))\n",
    "\n",
    "# Generate Pascal's triangle and print it\n",
    "pascals_triangle = generate_pascals_triangle(num_rows)\n",
    "print(\"Pascal's Triangle:\")\n",
    "print_pascals_triangle(pascals_triangle)\n"
   ]
  },
  {
   "cell_type": "code",
   "execution_count": 21,
   "id": "dcd421ba-c842-415b-82fb-d8cd62ba872e",
   "metadata": {},
   "outputs": [
    {
     "name": "stdout",
     "output_type": "stream",
     "text": [
      "Sum of digits of 1! = 1\n",
      "Sum of digits of 2! = 2\n",
      "Sum of digits of 3! = 6\n",
      "Sum of digits of 4! = 6\n",
      "Sum of digits of 5! = 3\n"
     ]
    }
   ],
   "source": [
    "# Function to calculate the factorial of a number\n",
    "def factorial(n):\n",
    "    if n == 0 or n == 1:\n",
    "        return 1\n",
    "    else:\n",
    "        return n * factorial(n - 1)\n",
    "\n",
    "# Calculate the sum of digits of the factorial of numbers from 1 to 5 using list comprehension\n",
    "sum_of_digits = [sum(map(int, str(factorial(i)))) for i in range(1, 6)]\n",
    "\n",
    "# Display the results\n",
    "for i, n in enumerate(range(1, 6), 1):\n",
    "    print(f\"Sum of digits of {n}! = {sum_of_digits[i-1]}\")\n"
   ]
  },
  {
   "cell_type": "code",
   "execution_count": 24,
   "id": "1d0eb28f-f8a8-40d8-91fb-2e92f4ee83e0",
   "metadata": {},
   "outputs": [
    {
     "name": "stdin",
     "output_type": "stream",
     "text": [
      "Enter a sentence:  shubham barbaile badrinathslkjh\n"
     ]
    },
    {
     "name": "stdout",
     "output_type": "stream",
     "text": [
      "The longest word in the sentence is: badrinathslkjh\n"
     ]
    }
   ],
   "source": [
    "# Input sentence\n",
    "sentence = input(\"Enter a sentence: \")\n",
    "\n",
    "# Split the sentence into words using whitespace as the delimiter\n",
    "words = sentence.split()\n",
    "\n",
    "# Find the longest word using list comprehension\n",
    "longest_word = max(words, key=lambda word: len(word))\n",
    "\n",
    "# Display the longest word\n",
    "print(\"The longest word in the sentence is:\", longest_word)\n"
   ]
  },
  {
   "cell_type": "code",
   "execution_count": 25,
   "id": "5cdfb509-cde5-48c3-bd99-b3adce0b1a2e",
   "metadata": {},
   "outputs": [
    {
     "name": "stdout",
     "output_type": "stream",
     "text": [
      "Strings with more than three vowels:\n",
      "OpenAI\n",
      "This is a test\n"
     ]
    }
   ],
   "source": [
    "# Function to count vowels in a string\n",
    "def count_vowels(string):\n",
    "    vowels = \"aeiouAEIOU\"\n",
    "    return sum(1 for char in string if char in vowels)\n",
    "\n",
    "# Input list of strings\n",
    "strings = [\"Hello\", \"Python\", \"OpenAI\", \"This is a test\"]\n",
    "\n",
    "# Filter strings with more than three vowels using list comprehension\n",
    "filtered_strings = [string for string in strings if count_vowels(string) > 3]\n",
    "\n",
    "# Display the filtered strings\n",
    "print(\"Strings with more than three vowels:\")\n",
    "for string in filtered_strings:\n",
    "    print(string)\n"
   ]
  },
  {
   "cell_type": "code",
   "execution_count": 27,
   "id": "80d640c9-16e2-4120-8cda-60627e3a0642",
   "metadata": {},
   "outputs": [
    {
     "name": "stdout",
     "output_type": "stream",
     "text": [
      "500500\n"
     ]
    }
   ],
   "source": [
    "b = sum(i for i in range(1,1001))\n",
    "print(b)"
   ]
  },
  {
   "cell_type": "code",
   "execution_count": 29,
   "id": "7b94aa17-139a-42b4-8450-d6adc64c32d9",
   "metadata": {},
   "outputs": [
    {
     "name": "stdout",
     "output_type": "stream",
     "text": [
      "Prime palindromic numbers up to 1000 are: [2, 3, 5, 7, 11, 101, 131, 151, 181, 191, 313, 353, 373, 383, 727, 757, 787, 797, 919, 929]\n"
     ]
    }
   ],
   "source": [
    "def is_prime(num):\n",
    "    if num <= 1:\n",
    "        return False\n",
    "    if num == 2:\n",
    "        return True\n",
    "    if num % 2 == 0:\n",
    "        return False\n",
    "    for i in range(3, int(num**0.5) + 1, 2):\n",
    "        if num % i == 0:\n",
    "            return False\n",
    "    return True\n",
    "\n",
    "def is_palindrome(num):\n",
    "    return str(num) == str(num)[::-1]\n",
    "\n",
    "# Generate a list of prime palindromic numbers using list comprehension\n",
    "limit = 1000  # Set your desired upper limit for the search\n",
    "prime_palindromes = [num for num in range(2, limit) if is_prime(num) and is_palindrome(num)]\n",
    "\n",
    "# Display the list of prime palindromic numbers\n",
    "print(\"Prime palindromic numbers up to\", limit, \"are:\", prime_palindromes)\n"
   ]
  },
  {
   "cell_type": "code",
   "execution_count": null,
   "id": "4449d79e-6d3c-4b81-a992-b0cd166b3402",
   "metadata": {},
   "outputs": [],
   "source": []
  }
 ],
 "metadata": {
  "kernelspec": {
   "display_name": "Python 3 (ipykernel)",
   "language": "python",
   "name": "python3"
  },
  "language_info": {
   "codemirror_mode": {
    "name": "ipython",
    "version": 3
   },
   "file_extension": ".py",
   "mimetype": "text/x-python",
   "name": "python",
   "nbconvert_exporter": "python",
   "pygments_lexer": "ipython3",
   "version": "3.10.8"
  }
 },
 "nbformat": 4,
 "nbformat_minor": 5
}
