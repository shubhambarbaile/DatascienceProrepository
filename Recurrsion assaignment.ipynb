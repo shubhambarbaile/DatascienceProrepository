{
 "cells": [
  {
   "cell_type": "code",
   "execution_count": 4,
   "id": "876b0e59-c890-420f-ac83-b324f6bac11c",
   "metadata": {},
   "outputs": [
    {
     "name": "stdout",
     "output_type": "stream",
     "text": [
      "105\n"
     ]
    }
   ],
   "source": [
    "def T(n):\n",
    "    if n == 0:\n",
    "        return 5 \n",
    "    else:\n",
    "        return 3*T(n-1)+12*n\n",
    "    \n",
    "n = 2\n",
    "res = T(n)\n",
    "print(res)"
   ]
  },
  {
   "cell_type": "code",
   "execution_count": 7,
   "id": "a2b03dd6-dd95-49c3-bcb0-80d89f75eaaa",
   "metadata": {},
   "outputs": [
    {
     "name": "stdout",
     "output_type": "stream",
     "text": [
      "36\n"
     ]
    }
   ],
   "source": [
    "def recu(n, c):\n",
    "    if n == 0:\n",
    "        return 0\n",
    "    else:\n",
    "        return n * c + recu(n - 1, c)\n",
    "\n",
    "n = 3\n",
    "c = 6\n",
    "res = recu(n, c)\n",
    "print(res)"
   ]
  },
  {
   "cell_type": "code",
   "execution_count": 9,
   "id": "481622f2-e6b1-4234-b3cf-9a8bed623227",
   "metadata": {},
   "outputs": [
    {
     "name": "stdout",
     "output_type": "stream",
     "text": [
      "13\n"
     ]
    }
   ],
   "source": [
    "def recu(n):\n",
    "    if n==0:\n",
    "        return 0 \n",
    "    else:\n",
    "        return n+2*recu(n//2)\n",
    "    \n",
    "n = 5\n",
    "result = recu(n)\n",
    "print(result)"
   ]
  },
  {
   "cell_type": "code",
   "execution_count": 17,
   "id": "64700e6b-2422-46cc-8552-05a81a905aac",
   "metadata": {},
   "outputs": [
    {
     "name": "stdout",
     "output_type": "stream",
     "text": [
      "49\n"
     ]
    }
   ],
   "source": [
    "def recu(n,c):\n",
    "    if n == 0:\n",
    "        return 0 \n",
    "    else:\n",
    "        return 2*recu(n//2,c) + c\n",
    "n = 5\n",
    "c = 7\n",
    "result = recu(n,c)\n",
    "print(result)"
   ]
  },
  {
   "cell_type": "code",
   "execution_count": 19,
   "id": "1e455d2f-57ab-47ae-9c57-2b1631df183e",
   "metadata": {},
   "outputs": [
    {
     "name": "stdout",
     "output_type": "stream",
     "text": [
      "18\n"
     ]
    }
   ],
   "source": [
    "def recu(n,c):\n",
    "    if n==0:\n",
    "        return 0 \n",
    "    else:\n",
    "        return recu(n//2,c) +c\n",
    "    \n",
    "n = 5\n",
    "c = 6\n",
    "result = recu(n,c)\n",
    "print(result)"
   ]
  },
  {
   "cell_type": "code",
   "execution_count": 26,
   "id": "f34ece23-8708-4498-899d-df5e8cdb24c7",
   "metadata": {},
   "outputs": [
    {
     "name": "stdout",
     "output_type": "stream",
     "text": [
      "7\n"
     ]
    }
   ],
   "source": [
    "def recu(n):\n",
    "    if n == 1:\n",
    "        return 1 \n",
    "    else:\n",
    "        return 2*recu(n-1) +1\n",
    "    \n",
    "n = 3\n",
    "result = recu(n)\n",
    "print(result)"
   ]
  },
  {
   "cell_type": "code",
   "execution_count": 29,
   "id": "682cde6a-cbb2-4a3b-99fa-13edd776bdaf",
   "metadata": {},
   "outputs": [
    {
     "name": "stdout",
     "output_type": "stream",
     "text": [
      "127\n"
     ]
    }
   ],
   "source": [
    "def recu(n):\n",
    "    if n == 1:\n",
    "        return 1 \n",
    "    else:\n",
    "        return 2*recu(n//2) +1\n",
    "\n",
    "n = 66\n",
    "result = recu(n)\n",
    "print(result)"
   ]
  },
  {
   "cell_type": "code",
   "execution_count": null,
   "id": "3a63575e-8fb1-474f-9dac-d837d95adafa",
   "metadata": {},
   "outputs": [],
   "source": []
  }
 ],
 "metadata": {
  "kernelspec": {
   "display_name": "Python 3 (ipykernel)",
   "language": "python",
   "name": "python3"
  },
  "language_info": {
   "codemirror_mode": {
    "name": "ipython",
    "version": 3
   },
   "file_extension": ".py",
   "mimetype": "text/x-python",
   "name": "python",
   "nbconvert_exporter": "python",
   "pygments_lexer": "ipython3",
   "version": "3.10.8"
  }
 },
 "nbformat": 4,
 "nbformat_minor": 5
}
