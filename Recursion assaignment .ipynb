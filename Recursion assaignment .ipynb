{
 "cells": [
  {
   "cell_type": "code",
   "execution_count": 21,
   "id": "26e42852-f981-4889-b6a1-b296683f3ba6",
   "metadata": {},
   "outputs": [
    {
     "name": "stdout",
     "output_type": "stream",
     "text": [
      "Tower of Hanoi solution:\n",
      "Move disk 1 from A to C\n",
      "Move disk 2 from A to B\n",
      "Move disk 1 from C to B\n",
      "Move disk 3 from A to C\n",
      "Move disk 1 from B to A\n",
      "Move disk 2 from B to C\n",
      "Move disk 1 from A to C\n"
     ]
    }
   ],
   "source": [
    "def tower_of_hanoi(n, source, destination, auxiliary):\n",
    "    if n == 1:\n",
    "        # Base case: move the disk from source to destination\n",
    "        print(f\"Move disk 1 from {source} to {destination}\")\n",
    "        return\n",
    "    # Move n-1 disks from source to auxiliary rod using destination as an auxiliary rod\n",
    "    tower_of_hanoi(n - 1, source, auxiliary, destination)\n",
    "    # Move the nth disk from source to destination\n",
    "    print(f\"Move disk {n} from {source} to {destination}\")\n",
    "    # Move the n-1 disks from auxiliary rod to destination rod using source as an auxiliary rod\n",
    "    tower_of_hanoi(n - 1, auxiliary, destination, source)\n",
    "\n",
    "# Example usage\n",
    "number_of_disks = 3\n",
    "source_rod = 'A'\n",
    "destination_rod = 'C'\n",
    "auxiliary_rod = 'B'\n",
    "\n",
    "print(\"Tower of Hanoi solution:\")\n",
    "tower_of_hanoi(number_of_disks, source_rod, destination_rod, auxiliary_rod)\n"
   ]
  },
  {
   "cell_type": "code",
   "execution_count": 22,
   "id": "5fe20c3f-9763-458b-82b1-d5b2f6379ee2",
   "metadata": {},
   "outputs": [
    {
     "name": "stdout",
     "output_type": "stream",
     "text": [
      "Example 1: 3 operations needed to convert 'horse' to 'ros'\n",
      "Example 2: 5 operations needed to convert 'intention' to 'execution'\n"
     ]
    }
   ],
   "source": [
    "def min_distance(word1, word2):\n",
    "    m, n = len(word1), len(word2)\n",
    "    \n",
    "    # Use two rows instead of a full matrix\n",
    "    prev_row = [0] * (n + 1)\n",
    "    current_row = [0] * (n + 1)\n",
    "    \n",
    "    # Initialize the first row\n",
    "    for j in range(n + 1):\n",
    "        prev_row[j] = j\n",
    "    \n",
    "    # Fill in the matrix\n",
    "    for i in range(1, m + 1):\n",
    "        # Initialize the first element of the current row\n",
    "        current_row[0] = i\n",
    "        \n",
    "        for j in range(1, n + 1):\n",
    "            # If the current characters are equal, no operation is needed\n",
    "            if word1[i - 1] == word2[j - 1]:\n",
    "                current_row[j] = prev_row[j - 1]\n",
    "            else:\n",
    "                # Minimum of insertion, deletion, and substitution operations\n",
    "                current_row[j] = 1 + min(prev_row[j],       # Deletion\n",
    "                                          current_row[j - 1],  # Insertion\n",
    "                                          prev_row[j - 1])     # Substitution\n",
    "        \n",
    "        # Update the previous row for the next iteration\n",
    "        prev_row = current_row.copy()\n",
    "    \n",
    "    # The last element of the last row contains the minimum number of operations\n",
    "    return prev_row[n]\n",
    "\n",
    "# Example usage:\n",
    "word1_1, word2_1 = \"horse\", \"ros\"\n",
    "word1_2, word2_2 = \"intention\", \"execution\"\n",
    "\n",
    "output_1 = min_distance(word1_1, word2_1)\n",
    "output_2 = min_distance(word1_2, word2_2)\n",
    "\n",
    "print(f\"Example 1: {output_1} operations needed to convert '{word1_1}' to '{word2_1}'\")\n",
    "print(f\"Example 2: {output_2} operations needed to convert '{word1_2}' to '{word2_2}'\")\n"
   ]
  },
  {
   "cell_type": "code",
   "execution_count": 3,
   "id": "c1d0f02c-de49-42c4-a71f-95e9d8ab4044",
   "metadata": {},
   "outputs": [
    {
     "name": "stdout",
     "output_type": "stream",
     "text": [
      "22\n"
     ]
    }
   ],
   "source": [
    "def maximum(arr):\n",
    "    max_element = arr[0]\n",
    "    for i in range(1, len(arr)):\n",
    "        if arr[i] > max_element:\n",
    "            max_element = arr[i]\n",
    "    return max_element\n",
    "\n",
    "arr = [13, 1, -3, 22, 5]\n",
    "print(maximum(arr))"
   ]
  },
  {
   "cell_type": "code",
   "execution_count": 7,
   "id": "ed3ccbf1-6015-4628-a282-511842bc9f1b",
   "metadata": {},
   "outputs": [
    {
     "name": "stdout",
     "output_type": "stream",
     "text": [
      "120\n"
     ]
    }
   ],
   "source": [
    "def sumation(arr):\n",
    "    add = 0\n",
    "    for i in range(len(arr)):\n",
    "        add = add + arr[i]\n",
    "    return add\n",
    "arr = [92, 23, 15, -20, 10]\n",
    "print(sumation(arr))"
   ]
  },
  {
   "cell_type": "code",
   "execution_count": 20,
   "id": "e96f2447-24b9-4cea-98e9-4028b3dbb0b8",
   "metadata": {},
   "outputs": [
    {
     "name": "stdin",
     "output_type": "stream",
     "text": [
      " 124\n"
     ]
    },
    {
     "name": "stdout",
     "output_type": "stream",
     "text": [
      "not a armstron number\n"
     ]
    }
   ],
   "source": [
    "def armstrong(n):\n",
    "    string = str(n)\n",
    "    length = len(string)\n",
    "    \n",
    "    sumation = sum(int(digi)**len(string) for digi in string)\n",
    "    \n",
    "    return sumation == n \n",
    "n = int(input())\n",
    "if armstrong(n):\n",
    "    print(\"It is a armstrong number\")\n",
    "else:\n",
    "    print(\"not a armstron number\") \n",
    "\n",
    "\n",
    "    \n"
   ]
  },
  {
   "cell_type": "code",
   "execution_count": null,
   "id": "49415069-db5b-40db-803a-23fc90cb4027",
   "metadata": {},
   "outputs": [],
   "source": []
  },
  {
   "cell_type": "code",
   "execution_count": null,
   "id": "34e4824b-7d89-4bc9-8544-b7e9b1c8c5f5",
   "metadata": {},
   "outputs": [],
   "source": []
  }
 ],
 "metadata": {
  "kernelspec": {
   "display_name": "Python 3 (ipykernel)",
   "language": "python",
   "name": "python3"
  },
  "language_info": {
   "codemirror_mode": {
    "name": "ipython",
    "version": 3
   },
   "file_extension": ".py",
   "mimetype": "text/x-python",
   "name": "python",
   "nbconvert_exporter": "python",
   "pygments_lexer": "ipython3",
   "version": "3.10.8"
  }
 },
 "nbformat": 4,
 "nbformat_minor": 5
}
